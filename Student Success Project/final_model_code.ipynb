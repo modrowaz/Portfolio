{
  "cells": [
    {
      "cell_type": "markdown",
      "source": [
        "Authored by: Magda Odrowaz, Riley Nguyen, Matt Smuda, Drew Nanda"
      ],
      "metadata": {
        "id": "SmB2mrjL5slH"
      },
      "id": "SmB2mrjL5slH"
    },
    {
      "cell_type": "code",
      "execution_count": null,
      "id": "643efd27",
      "metadata": {
        "id": "643efd27"
      },
      "outputs": [],
      "source": [
        "from sklearn.ensemble import RandomForestClassifier\n",
        "from sklearn.tree import DecisionTreeClassifier\n",
        "from sklearn.model_selection import train_test_split\n",
        "from sklearn.metrics import accuracy_score, classification_report, confusion_matrix\n",
        "from sklearn.linear_model import LinearRegression"
      ]
    },
    {
      "cell_type": "code",
      "execution_count": null,
      "id": "c4f2e05c",
      "metadata": {
        "colab": {
          "base_uri": "https://localhost:8080/",
          "height": 357
        },
        "id": "c4f2e05c",
        "outputId": "1bfe7a33-b67f-4fd1-93b7-5b8e421a7971"
      },
      "outputs": [
        {
          "output_type": "execute_result",
          "data": {
            "text/plain": [
              "      PIDM  Years.to.Degree.Average  CT.First.Semester.GPA.Average  \\\n",
              "0  1202427                        4                           3.58   \n",
              "1  1383580                        2                           3.71   \n",
              "2  1427113                        4                           2.68   \n",
              "3  1427288                        4                           3.04   \n",
              "4  1427314                        0                           1.07   \n",
              "\n",
              "   TM.Cum.GPA.Average  CT.BEST  Degree.Attained.Indicator  CT.Class  \\\n",
              "0                3.71       32                          1  Freshman   \n",
              "1                3.12       29                          1  Freshman   \n",
              "2                3.06       26                          1  Freshman   \n",
              "3                3.05       25                          1  Freshman   \n",
              "4                1.78       28                          0  Freshman   \n",
              "\n",
              "       CT.Super.Class  CT.Residency CT.Student.Type CT.Housing.Status  CT.Age  \\\n",
              "0  1st Year, 2nd Term      Resident             New         ON-CAMPUS      18   \n",
              "1  4th Year, 1st Term  Non-Resident        Transfer         ON-CAMPUS      21   \n",
              "2  1st Year, 2nd Term      Resident             New         ON-CAMPUS      18   \n",
              "3  1st Year, 2nd Term      Resident             New         ON-CAMPUS      18   \n",
              "4  1st Year, 2nd Term      Resident             New          COMMUTER      18   \n",
              "\n",
              "  CT.Gender   CT.Domestic.Minority    CT.State  CT.Zip.Code  \\\n",
              "0      Male  Domestic Non-Minority        Ohio        45056   \n",
              "1      Male  Domestic Non-Minority  California        94506   \n",
              "2    Female  Domestic Non-Minority        Ohio        45036   \n",
              "3    Female  Domestic Non-Minority        Ohio        45311   \n",
              "4      Male  Domestic Non-Minority        Ohio        45013   \n",
              "\n",
              "  CT.IPEDS.Race.Ethnicity CT.ACE CT.Honors.Student  \\\n",
              "0                   White      N                 N   \n",
              "1                   White      N                 N   \n",
              "2                   White      N                 N   \n",
              "3                   White      N                 N   \n",
              "4                   White      N                 N   \n",
              "\n",
              "  CT.First.Generation.Student CT.Federal.Inclusion  Greek_Involvement  \\\n",
              "0                           N                    Y                  2   \n",
              "1                           N                    Y                  0   \n",
              "2                           Y                    Y                  0   \n",
              "3                           N                    Y                  0   \n",
              "4                           Y                    Y                  0   \n",
              "\n",
              "   Term.Count.Greek            First.Major           Last.Major  \\\n",
              "0                 6                  Music   Business Economics   \n",
              "1                 0  International Studies              Finance   \n",
              "2                 0            Accountancy            Marketing   \n",
              "3                 0     University Studies          Accountancy   \n",
              "4                 0    Information Systems  Information Systems   \n",
              "\n",
              "   Major.Changes ACC221 ACC222 BLS342 CSE148 ECO201 ECO202 FIN301  \\\n",
              "0              3      A      A      A     CR      A      A      A   \n",
              "1              2      B      B     CR      B     CR     CR      C   \n",
              "2              3      C      C      A      B      B      B      W   \n",
              "3              4      B      C      B      C      B      D      W   \n",
              "4              1      F      W  No CR      C  No CR  No CR  No CR   \n",
              "\n",
              "   AW...Degrees.Count  AW...Major.Count  Distance  \n",
              "0                   1                 1      0.00  \n",
              "1                   1                 1   2002.00  \n",
              "2                   1                 2     26.72  \n",
              "3                   1                 1      8.72  \n",
              "4                   0                 0      8.73  "
            ],
            "text/html": [
              "\n",
              "  <div id=\"df-9f66e9bc-f832-4869-92bf-9ad096e44a5a\">\n",
              "    <div class=\"colab-df-container\">\n",
              "      <div>\n",
              "<style scoped>\n",
              "    .dataframe tbody tr th:only-of-type {\n",
              "        vertical-align: middle;\n",
              "    }\n",
              "\n",
              "    .dataframe tbody tr th {\n",
              "        vertical-align: top;\n",
              "    }\n",
              "\n",
              "    .dataframe thead th {\n",
              "        text-align: right;\n",
              "    }\n",
              "</style>\n",
              "<table border=\"1\" class=\"dataframe\">\n",
              "  <thead>\n",
              "    <tr style=\"text-align: right;\">\n",
              "      <th></th>\n",
              "      <th>PIDM</th>\n",
              "      <th>Years.to.Degree.Average</th>\n",
              "      <th>CT.First.Semester.GPA.Average</th>\n",
              "      <th>TM.Cum.GPA.Average</th>\n",
              "      <th>CT.BEST</th>\n",
              "      <th>Degree.Attained.Indicator</th>\n",
              "      <th>CT.Class</th>\n",
              "      <th>CT.Super.Class</th>\n",
              "      <th>CT.Residency</th>\n",
              "      <th>CT.Student.Type</th>\n",
              "      <th>CT.Housing.Status</th>\n",
              "      <th>CT.Age</th>\n",
              "      <th>CT.Gender</th>\n",
              "      <th>CT.Domestic.Minority</th>\n",
              "      <th>CT.State</th>\n",
              "      <th>CT.Zip.Code</th>\n",
              "      <th>CT.IPEDS.Race.Ethnicity</th>\n",
              "      <th>CT.ACE</th>\n",
              "      <th>CT.Honors.Student</th>\n",
              "      <th>CT.First.Generation.Student</th>\n",
              "      <th>CT.Federal.Inclusion</th>\n",
              "      <th>Greek_Involvement</th>\n",
              "      <th>Term.Count.Greek</th>\n",
              "      <th>First.Major</th>\n",
              "      <th>Last.Major</th>\n",
              "      <th>Major.Changes</th>\n",
              "      <th>ACC221</th>\n",
              "      <th>ACC222</th>\n",
              "      <th>BLS342</th>\n",
              "      <th>CSE148</th>\n",
              "      <th>ECO201</th>\n",
              "      <th>ECO202</th>\n",
              "      <th>FIN301</th>\n",
              "      <th>AW...Degrees.Count</th>\n",
              "      <th>AW...Major.Count</th>\n",
              "      <th>Distance</th>\n",
              "    </tr>\n",
              "  </thead>\n",
              "  <tbody>\n",
              "    <tr>\n",
              "      <th>0</th>\n",
              "      <td>1202427</td>\n",
              "      <td>4</td>\n",
              "      <td>3.58</td>\n",
              "      <td>3.71</td>\n",
              "      <td>32</td>\n",
              "      <td>1</td>\n",
              "      <td>Freshman</td>\n",
              "      <td>1st Year, 2nd Term</td>\n",
              "      <td>Resident</td>\n",
              "      <td>New</td>\n",
              "      <td>ON-CAMPUS</td>\n",
              "      <td>18</td>\n",
              "      <td>Male</td>\n",
              "      <td>Domestic Non-Minority</td>\n",
              "      <td>Ohio</td>\n",
              "      <td>45056</td>\n",
              "      <td>White</td>\n",
              "      <td>N</td>\n",
              "      <td>N</td>\n",
              "      <td>N</td>\n",
              "      <td>Y</td>\n",
              "      <td>2</td>\n",
              "      <td>6</td>\n",
              "      <td>Music</td>\n",
              "      <td>Business Economics</td>\n",
              "      <td>3</td>\n",
              "      <td>A</td>\n",
              "      <td>A</td>\n",
              "      <td>A</td>\n",
              "      <td>CR</td>\n",
              "      <td>A</td>\n",
              "      <td>A</td>\n",
              "      <td>A</td>\n",
              "      <td>1</td>\n",
              "      <td>1</td>\n",
              "      <td>0.00</td>\n",
              "    </tr>\n",
              "    <tr>\n",
              "      <th>1</th>\n",
              "      <td>1383580</td>\n",
              "      <td>2</td>\n",
              "      <td>3.71</td>\n",
              "      <td>3.12</td>\n",
              "      <td>29</td>\n",
              "      <td>1</td>\n",
              "      <td>Freshman</td>\n",
              "      <td>4th Year, 1st Term</td>\n",
              "      <td>Non-Resident</td>\n",
              "      <td>Transfer</td>\n",
              "      <td>ON-CAMPUS</td>\n",
              "      <td>21</td>\n",
              "      <td>Male</td>\n",
              "      <td>Domestic Non-Minority</td>\n",
              "      <td>California</td>\n",
              "      <td>94506</td>\n",
              "      <td>White</td>\n",
              "      <td>N</td>\n",
              "      <td>N</td>\n",
              "      <td>N</td>\n",
              "      <td>Y</td>\n",
              "      <td>0</td>\n",
              "      <td>0</td>\n",
              "      <td>International Studies</td>\n",
              "      <td>Finance</td>\n",
              "      <td>2</td>\n",
              "      <td>B</td>\n",
              "      <td>B</td>\n",
              "      <td>CR</td>\n",
              "      <td>B</td>\n",
              "      <td>CR</td>\n",
              "      <td>CR</td>\n",
              "      <td>C</td>\n",
              "      <td>1</td>\n",
              "      <td>1</td>\n",
              "      <td>2002.00</td>\n",
              "    </tr>\n",
              "    <tr>\n",
              "      <th>2</th>\n",
              "      <td>1427113</td>\n",
              "      <td>4</td>\n",
              "      <td>2.68</td>\n",
              "      <td>3.06</td>\n",
              "      <td>26</td>\n",
              "      <td>1</td>\n",
              "      <td>Freshman</td>\n",
              "      <td>1st Year, 2nd Term</td>\n",
              "      <td>Resident</td>\n",
              "      <td>New</td>\n",
              "      <td>ON-CAMPUS</td>\n",
              "      <td>18</td>\n",
              "      <td>Female</td>\n",
              "      <td>Domestic Non-Minority</td>\n",
              "      <td>Ohio</td>\n",
              "      <td>45036</td>\n",
              "      <td>White</td>\n",
              "      <td>N</td>\n",
              "      <td>N</td>\n",
              "      <td>Y</td>\n",
              "      <td>Y</td>\n",
              "      <td>0</td>\n",
              "      <td>0</td>\n",
              "      <td>Accountancy</td>\n",
              "      <td>Marketing</td>\n",
              "      <td>3</td>\n",
              "      <td>C</td>\n",
              "      <td>C</td>\n",
              "      <td>A</td>\n",
              "      <td>B</td>\n",
              "      <td>B</td>\n",
              "      <td>B</td>\n",
              "      <td>W</td>\n",
              "      <td>1</td>\n",
              "      <td>2</td>\n",
              "      <td>26.72</td>\n",
              "    </tr>\n",
              "    <tr>\n",
              "      <th>3</th>\n",
              "      <td>1427288</td>\n",
              "      <td>4</td>\n",
              "      <td>3.04</td>\n",
              "      <td>3.05</td>\n",
              "      <td>25</td>\n",
              "      <td>1</td>\n",
              "      <td>Freshman</td>\n",
              "      <td>1st Year, 2nd Term</td>\n",
              "      <td>Resident</td>\n",
              "      <td>New</td>\n",
              "      <td>ON-CAMPUS</td>\n",
              "      <td>18</td>\n",
              "      <td>Female</td>\n",
              "      <td>Domestic Non-Minority</td>\n",
              "      <td>Ohio</td>\n",
              "      <td>45311</td>\n",
              "      <td>White</td>\n",
              "      <td>N</td>\n",
              "      <td>N</td>\n",
              "      <td>N</td>\n",
              "      <td>Y</td>\n",
              "      <td>0</td>\n",
              "      <td>0</td>\n",
              "      <td>University Studies</td>\n",
              "      <td>Accountancy</td>\n",
              "      <td>4</td>\n",
              "      <td>B</td>\n",
              "      <td>C</td>\n",
              "      <td>B</td>\n",
              "      <td>C</td>\n",
              "      <td>B</td>\n",
              "      <td>D</td>\n",
              "      <td>W</td>\n",
              "      <td>1</td>\n",
              "      <td>1</td>\n",
              "      <td>8.72</td>\n",
              "    </tr>\n",
              "    <tr>\n",
              "      <th>4</th>\n",
              "      <td>1427314</td>\n",
              "      <td>0</td>\n",
              "      <td>1.07</td>\n",
              "      <td>1.78</td>\n",
              "      <td>28</td>\n",
              "      <td>0</td>\n",
              "      <td>Freshman</td>\n",
              "      <td>1st Year, 2nd Term</td>\n",
              "      <td>Resident</td>\n",
              "      <td>New</td>\n",
              "      <td>COMMUTER</td>\n",
              "      <td>18</td>\n",
              "      <td>Male</td>\n",
              "      <td>Domestic Non-Minority</td>\n",
              "      <td>Ohio</td>\n",
              "      <td>45013</td>\n",
              "      <td>White</td>\n",
              "      <td>N</td>\n",
              "      <td>N</td>\n",
              "      <td>Y</td>\n",
              "      <td>Y</td>\n",
              "      <td>0</td>\n",
              "      <td>0</td>\n",
              "      <td>Information Systems</td>\n",
              "      <td>Information Systems</td>\n",
              "      <td>1</td>\n",
              "      <td>F</td>\n",
              "      <td>W</td>\n",
              "      <td>No CR</td>\n",
              "      <td>C</td>\n",
              "      <td>No CR</td>\n",
              "      <td>No CR</td>\n",
              "      <td>No CR</td>\n",
              "      <td>0</td>\n",
              "      <td>0</td>\n",
              "      <td>8.73</td>\n",
              "    </tr>\n",
              "  </tbody>\n",
              "</table>\n",
              "</div>\n",
              "      <button class=\"colab-df-convert\" onclick=\"convertToInteractive('df-9f66e9bc-f832-4869-92bf-9ad096e44a5a')\"\n",
              "              title=\"Convert this dataframe to an interactive table.\"\n",
              "              style=\"display:none;\">\n",
              "        \n",
              "  <svg xmlns=\"http://www.w3.org/2000/svg\" height=\"24px\"viewBox=\"0 0 24 24\"\n",
              "       width=\"24px\">\n",
              "    <path d=\"M0 0h24v24H0V0z\" fill=\"none\"/>\n",
              "    <path d=\"M18.56 5.44l.94 2.06.94-2.06 2.06-.94-2.06-.94-.94-2.06-.94 2.06-2.06.94zm-11 1L8.5 8.5l.94-2.06 2.06-.94-2.06-.94L8.5 2.5l-.94 2.06-2.06.94zm10 10l.94 2.06.94-2.06 2.06-.94-2.06-.94-.94-2.06-.94 2.06-2.06.94z\"/><path d=\"M17.41 7.96l-1.37-1.37c-.4-.4-.92-.59-1.43-.59-.52 0-1.04.2-1.43.59L10.3 9.45l-7.72 7.72c-.78.78-.78 2.05 0 2.83L4 21.41c.39.39.9.59 1.41.59.51 0 1.02-.2 1.41-.59l7.78-7.78 2.81-2.81c.8-.78.8-2.07 0-2.86zM5.41 20L4 18.59l7.72-7.72 1.47 1.35L5.41 20z\"/>\n",
              "  </svg>\n",
              "      </button>\n",
              "      \n",
              "  <style>\n",
              "    .colab-df-container {\n",
              "      display:flex;\n",
              "      flex-wrap:wrap;\n",
              "      gap: 12px;\n",
              "    }\n",
              "\n",
              "    .colab-df-convert {\n",
              "      background-color: #E8F0FE;\n",
              "      border: none;\n",
              "      border-radius: 50%;\n",
              "      cursor: pointer;\n",
              "      display: none;\n",
              "      fill: #1967D2;\n",
              "      height: 32px;\n",
              "      padding: 0 0 0 0;\n",
              "      width: 32px;\n",
              "    }\n",
              "\n",
              "    .colab-df-convert:hover {\n",
              "      background-color: #E2EBFA;\n",
              "      box-shadow: 0px 1px 2px rgba(60, 64, 67, 0.3), 0px 1px 3px 1px rgba(60, 64, 67, 0.15);\n",
              "      fill: #174EA6;\n",
              "    }\n",
              "\n",
              "    [theme=dark] .colab-df-convert {\n",
              "      background-color: #3B4455;\n",
              "      fill: #D2E3FC;\n",
              "    }\n",
              "\n",
              "    [theme=dark] .colab-df-convert:hover {\n",
              "      background-color: #434B5C;\n",
              "      box-shadow: 0px 1px 3px 1px rgba(0, 0, 0, 0.15);\n",
              "      filter: drop-shadow(0px 1px 2px rgba(0, 0, 0, 0.3));\n",
              "      fill: #FFFFFF;\n",
              "    }\n",
              "  </style>\n",
              "\n",
              "      <script>\n",
              "        const buttonEl =\n",
              "          document.querySelector('#df-9f66e9bc-f832-4869-92bf-9ad096e44a5a button.colab-df-convert');\n",
              "        buttonEl.style.display =\n",
              "          google.colab.kernel.accessAllowed ? 'block' : 'none';\n",
              "\n",
              "        async function convertToInteractive(key) {\n",
              "          const element = document.querySelector('#df-9f66e9bc-f832-4869-92bf-9ad096e44a5a');\n",
              "          const dataTable =\n",
              "            await google.colab.kernel.invokeFunction('convertToInteractive',\n",
              "                                                     [key], {});\n",
              "          if (!dataTable) return;\n",
              "\n",
              "          const docLinkHtml = 'Like what you see? Visit the ' +\n",
              "            '<a target=\"_blank\" href=https://colab.research.google.com/notebooks/data_table.ipynb>data table notebook</a>'\n",
              "            + ' to learn more about interactive tables.';\n",
              "          element.innerHTML = '';\n",
              "          dataTable['output_type'] = 'display_data';\n",
              "          await google.colab.output.renderOutput(dataTable, element);\n",
              "          const docLink = document.createElement('div');\n",
              "          docLink.innerHTML = docLinkHtml;\n",
              "          element.appendChild(docLink);\n",
              "        }\n",
              "      </script>\n",
              "    </div>\n",
              "  </div>\n",
              "  "
            ]
          },
          "metadata": {},
          "execution_count": 318
        }
      ],
      "source": [
        "import pandas as pd\n",
        "import pandas as pd\n",
        "pd.set_option('display.max_columns', None)\n",
        "import matplotlib.pyplot as plt\n",
        "import random\n",
        "import numpy as np\n",
        "import numpy as np\n",
        "import matplotlib.pyplot as plt\n",
        "from sklearn.ensemble import RandomForestClassifier\n",
        "\n",
        "df = pd.read_csv('draft_data.csv')\n",
        "df.head()"
      ]
    },
    {
      "cell_type": "code",
      "source": [
        "df['First.Major'].unique()"
      ],
      "metadata": {
        "colab": {
          "base_uri": "https://localhost:8080/"
        },
        "id": "f1yB4dFWs2-e",
        "outputId": "e63c8fd7-0299-4c7f-9832-c0c983f08f3b"
      },
      "id": "f1yB4dFWs2-e",
      "execution_count": null,
      "outputs": [
        {
          "output_type": "execute_result",
          "data": {
            "text/plain": [
              "array(['Music', 'International Studies', 'Accountancy',\n",
              "       'University Studies', 'Information Systems',\n",
              "       'Undeclared - Business', 'Finance', 'Marketing',\n",
              "       'Undeclared - Applied Science', 'Business Economics', 'Economics',\n",
              "       'Mathematics', 'Biology', 'Individualized Studies',\n",
              "       'Management and Leadership', 'Kinesiology',\n",
              "       'Supply Chain & Operations Mgmt', 'Political Science',\n",
              "       'Interior Design', 'Strategic Communication',\n",
              "       'Quantitative Economics', 'Zoology', 'Premedical Studies',\n",
              "       'Computer Science', 'Psychology', 'Statistics', 'Spanish',\n",
              "       'Theatre', 'Media and Culture', 'Family Studies',\n",
              "       'Sport Leadership & Management', 'Journalism',\n",
              "       'Mechanical Engineering', 'East Asian Languages & Culture',\n",
              "       'Geography', 'Graphic Design', 'Interactive Media Studies',\n",
              "       'Nutrition', 'General Engineering', 'Special Education',\n",
              "       'Mathematics & Statistics', 'Interdisciplinary Bus Managemt',\n",
              "       'Philosophy', 'Integrated Mathematics Edu',\n",
              "       'Communication Pre-Major', 'Computer Engineering',\n",
              "       'Engineering Management', 'Chemical Engineering',\n",
              "       'Major Undeclared', 'Athletic Training',\n",
              "       'Diplomacy and Global Politics', 'Chemistry', 'German',\n",
              "       'Music Performance', 'Comparative Media Studies', 'Biochemistry',\n",
              "       'Environmental Earth Science', 'Software Engineering',\n",
              "       'Music Education'], dtype=object)"
            ]
          },
          "metadata": {},
          "execution_count": 323
        }
      ]
    },
    {
      "cell_type": "markdown",
      "id": "e5b68838",
      "metadata": {
        "id": "e5b68838"
      },
      "source": [
        "## Data Exploration"
      ]
    },
    {
      "cell_type": "markdown",
      "id": "d9db841a",
      "metadata": {
        "id": "d9db841a"
      },
      "source": [
        "**First, we obtain a summary report for the data using pandas_profiling to look for major problems in the data such as:**\n",
        "\n",
        "\n",
        "*   missing values\n",
        "*   uniform values\n",
        "\n",
        "*   high correlations between variables\n",
        "*   lots of missing values\n",
        "\n"
      ]
    },
    {
      "cell_type": "code",
      "execution_count": null,
      "id": "7c80dbc0",
      "metadata": {
        "id": "7c80dbc0"
      },
      "outputs": [],
      "source": [
        "# pip install pandas-profiling"
      ]
    },
    {
      "cell_type": "code",
      "execution_count": null,
      "id": "b923bf78",
      "metadata": {
        "id": "b923bf78"
      },
      "outputs": [],
      "source": [
        "pd.set_option('display.max_colwidth', None) ## to display all columns\n",
        "\n",
        "# next we import ProfileReport\n",
        "from pandas_profiling import ProfileReport"
      ]
    },
    {
      "cell_type": "code",
      "execution_count": null,
      "id": "f29b483f",
      "metadata": {
        "id": "f29b483f"
      },
      "outputs": [],
      "source": [
        "#profile = ProfileReport(df, title=\"Pandas Profiling Report\")\n",
        "#profile.to_notebook_iframe()"
      ]
    },
    {
      "cell_type": "markdown",
      "id": "5125bbbb",
      "metadata": {
        "id": "5125bbbb"
      },
      "source": [
        "**We also plot the distribution for numeric data**\n",
        "\n",
        "\n"
      ]
    },
    {
      "cell_type": "code",
      "execution_count": null,
      "id": "422086c2",
      "metadata": {
        "colab": {
          "base_uri": "https://localhost:8080/",
          "height": 825
        },
        "id": "422086c2",
        "outputId": "fe277f4e-2f63-4ada-f7cf-188883dbcb2a"
      },
      "outputs": [
        {
          "output_type": "display_data",
          "data": {
            "text/plain": [
              "<Figure size 1296x1008 with 16 Axes>"
            ],
            "image/png": "[encoded data removed]"
          },
          "metadata": {
            "needs_background": "light"
          }
        }
      ],
      "source": [
        "df.hist(bins = 10, figsize = (18, 14), color = 'red')\n",
        "plt.show()"
      ]
    },
    {
      "cell_type": "markdown",
      "id": "3168fcf9",
      "metadata": {
        "id": "3168fcf9"
      },
      "source": [
        "## Data Preprocessing Steps"
      ]
    },
    {
      "cell_type": "markdown",
      "id": "d41e0fae",
      "metadata": {
        "id": "d41e0fae"
      },
      "source": [
        "### Dropping columns that are not helpful for our models"
      ]
    },
    {
      "cell_type": "markdown",
      "id": "f1cecdd8",
      "metadata": {
        "id": "f1cecdd8"
      },
      "source": [
        "PIDM is dropped because it is a unique key. This column provides information about student identification and will hurt the model performance."
      ]
    },
    {
      "cell_type": "code",
      "execution_count": null,
      "id": "cc051450",
      "metadata": {
        "id": "cc051450"
      },
      "outputs": [],
      "source": [
        "df = df.drop('PIDM', axis =1) "
      ]
    },
    {
      "cell_type": "markdown",
      "id": "46282348",
      "metadata": {
        "id": "46282348"
      },
      "source": [
        "We would also drop CT.Super.Class. "
      ]
    },
    {
      "cell_type": "code",
      "execution_count": null,
      "id": "206ec2fe",
      "metadata": {
        "id": "206ec2fe"
      },
      "outputs": [],
      "source": [
        "df = df.drop('CT.Super.Class', axis =1)"
      ]
    },
    {
      "cell_type": "markdown",
      "id": "2902d53b",
      "metadata": {
        "id": "2902d53b"
      },
      "source": [
        "Greek Involvement is dropped because it has a high correlation with Greek terms. We are more interested in the quantity of Greek life exposure rather than the classification of greek life involvement."
      ]
    },
    {
      "cell_type": "code",
      "execution_count": null,
      "id": "4adc6101",
      "metadata": {
        "id": "4adc6101"
      },
      "outputs": [],
      "source": [
        "df = df.drop('Greek_Involvement', axis = 1)"
      ]
    },
    {
      "cell_type": "markdown",
      "id": "9ff7adc8",
      "metadata": {
        "id": "9ff7adc8"
      },
      "source": [
        "We are dropping the years to degree average because it is highly correlated to the degree attained variable. Our definition of success also focuses on graduation of a student, not how long they took to graduate.  "
      ]
    },
    {
      "cell_type": "code",
      "execution_count": null,
      "id": "21ea8d24",
      "metadata": {
        "id": "21ea8d24"
      },
      "outputs": [],
      "source": [
        "df = df.drop('Years.to.Degree.Average', axis = 1)"
      ]
    },
    {
      "cell_type": "markdown",
      "id": "26e474b4",
      "metadata": {
        "id": "26e474b4"
      },
      "source": [
        "Major count and degree attained indicator are highly correlated and contain most of the same information. The major count is dropped and degree attained indicator is kept, since we would only focus on identifying the students that graduated and did not, not necessarily on how many majors they had."
      ]
    },
    {
      "cell_type": "code",
      "execution_count": null,
      "id": "b1fc6113",
      "metadata": {
        "id": "b1fc6113"
      },
      "outputs": [],
      "source": [
        "df = df.drop('AW...Major.Count', axis=1)"
      ]
    },
    {
      "cell_type": "markdown",
      "id": "c469aed0",
      "metadata": {
        "id": "c469aed0"
      },
      "source": [
        "CT.Class is a uniform value of Freshman that provides no useful information to the model."
      ]
    },
    {
      "cell_type": "code",
      "execution_count": null,
      "id": "c2725ee5",
      "metadata": {
        "id": "c2725ee5"
      },
      "outputs": [],
      "source": [
        "df = df.drop('CT.Class', axis = 1)"
      ]
    },
    {
      "cell_type": "markdown",
      "id": "b9466d08",
      "metadata": {
        "id": "b9466d08"
      },
      "source": [
        "CT.ACE is another uniform value that does not provide any useful information."
      ]
    },
    {
      "cell_type": "code",
      "execution_count": null,
      "id": "cb82a802",
      "metadata": {
        "id": "cb82a802"
      },
      "outputs": [],
      "source": [
        "df = df.drop('CT.ACE', axis = 1)"
      ]
    },
    {
      "cell_type": "markdown",
      "id": "3539a4f4",
      "metadata": {
        "id": "3539a4f4"
      },
      "source": [
        "Federal Inclusion is a uniform value that does not provide information."
      ]
    },
    {
      "cell_type": "code",
      "execution_count": null,
      "id": "01dc5831",
      "metadata": {
        "id": "01dc5831"
      },
      "outputs": [],
      "source": [
        "df = df.drop('CT.Federal.Inclusion', axis = 1)"
      ]
    },
    {
      "cell_type": "markdown",
      "id": "a056acad",
      "metadata": {
        "id": "a056acad"
      },
      "source": [
        "Gender, race/ethnicity, and age will be dropped because they are variables that would be valuable in descriptive statistics, although they are factors that our client will not be able to make meaningful recomendations with."
      ]
    },
    {
      "cell_type": "code",
      "execution_count": null,
      "id": "3838c6ee",
      "metadata": {
        "id": "3838c6ee"
      },
      "outputs": [],
      "source": [
        "df = df.drop(['CT.IPEDS.Race.Ethnicity', 'CT.Gender', 'CT.Age'], axis = 1)"
      ]
    },
    {
      "cell_type": "markdown",
      "id": "f80e7ae2",
      "metadata": {
        "id": "f80e7ae2"
      },
      "source": [
        "State and zipcode variables will be dropped because the numeric variable of distance would proivde the most meaning to our model. We would prefer to have information about how far away students are from home rather than grouping them on the basis of region/distance."
      ]
    },
    {
      "cell_type": "code",
      "execution_count": null,
      "id": "c57c9ebb",
      "metadata": {
        "id": "c57c9ebb"
      },
      "outputs": [],
      "source": [
        "df = df.drop(['CT.Zip.Code', 'CT.State'], axis = 1 )"
      ]
    },
    {
      "cell_type": "markdown",
      "id": "25b4cbd5",
      "metadata": {
        "id": "25b4cbd5"
      },
      "source": [
        "Domestic minority will be dropped because we have a very small sample size for students that are non-domestic minorities. "
      ]
    },
    {
      "cell_type": "code",
      "execution_count": null,
      "id": "d6b7ce77",
      "metadata": {
        "id": "d6b7ce77"
      },
      "outputs": [],
      "source": [
        "df = df.drop('CT.Domestic.Minority', axis = 1)"
      ]
    },
    {
      "cell_type": "markdown",
      "id": "60ad4e7c",
      "metadata": {
        "id": "60ad4e7c"
      },
      "source": [
        "Student type and housing status will be dropped because the data is highly skewed and does not provide information that would improve our model. First generation students also lacks a sample size that could provide meaningful insights to our recomendations."
      ]
    },
    {
      "cell_type": "code",
      "execution_count": null,
      "id": "028a429b",
      "metadata": {
        "id": "028a429b"
      },
      "outputs": [],
      "source": [
        "df = df.drop(['CT.Student.Type', 'CT.Housing.Status', 'CT.First.Generation.Student'], axis = 1)"
      ]
    },
    {
      "cell_type": "markdown",
      "id": "4cc2e723",
      "metadata": {
        "id": "4cc2e723"
      },
      "source": [
        "Last Major is dropped, because this would not be information we have access to when we run the model (predicting students' graduation)"
      ]
    },
    {
      "cell_type": "code",
      "execution_count": null,
      "id": "9893ec0e",
      "metadata": {
        "id": "9893ec0e"
      },
      "outputs": [],
      "source": [
        "df.drop('Last.Major', axis = 1, inplace = True)"
      ]
    },
    {
      "cell_type": "markdown",
      "id": "3f0f46eb",
      "metadata": {
        "id": "3f0f46eb"
      },
      "source": [
        "**We will drop columns that may give away whether the students graduated or not, as they may affect the model performance**"
      ]
    },
    {
      "cell_type": "code",
      "execution_count": null,
      "id": "964fd584",
      "metadata": {
        "id": "964fd584"
      },
      "outputs": [],
      "source": [
        "df = df.drop('TM.Cum.GPA.Average', axis = 1)"
      ]
    },
    {
      "cell_type": "code",
      "execution_count": null,
      "id": "f5703724",
      "metadata": {
        "id": "f5703724"
      },
      "outputs": [],
      "source": [
        "df = df.drop('AW...Degrees.Count', axis = 1)"
      ]
    },
    {
      "cell_type": "markdown",
      "id": "fecd4a78",
      "metadata": {
        "id": "fecd4a78"
      },
      "source": [
        "**A correlation plot of all numeric variables is plotted on a matrix to ensure that no variables are highly correlated with one another.**"
      ]
    },
    {
      "cell_type": "code",
      "execution_count": null,
      "id": "24ab5b5e",
      "metadata": {
        "colab": {
          "base_uri": "https://localhost:8080/",
          "height": 237
        },
        "id": "24ab5b5e",
        "outputId": "27cc3c83-458b-4dd9-dd34-f7e9c1a08b8b"
      },
      "outputs": [
        {
          "output_type": "execute_result",
          "data": {
            "text/plain": [
              "                               CT.First.Semester.GPA.Average   CT.BEST  \\\n",
              "CT.First.Semester.GPA.Average                       1.000000  0.074313   \n",
              "CT.BEST                                             0.074313  1.000000   \n",
              "Degree.Attained.Indicator                           0.302195 -0.044167   \n",
              "Term.Count.Greek                                    0.164247 -0.160690   \n",
              "Major.Changes                                       0.214962 -0.055004   \n",
              "Distance                                           -0.017695 -0.058789   \n",
              "\n",
              "                               Degree.Attained.Indicator  Term.Count.Greek  \\\n",
              "CT.First.Semester.GPA.Average                   0.302195          0.164247   \n",
              "CT.BEST                                        -0.044167         -0.160690   \n",
              "Degree.Attained.Indicator                       1.000000          0.288836   \n",
              "Term.Count.Greek                                0.288836          1.000000   \n",
              "Major.Changes                                   0.217577          0.087760   \n",
              "Distance                                       -0.011120          0.062339   \n",
              "\n",
              "                               Major.Changes  Distance  \n",
              "CT.First.Semester.GPA.Average       0.214962 -0.017695  \n",
              "CT.BEST                            -0.055004 -0.058789  \n",
              "Degree.Attained.Indicator           0.217577 -0.011120  \n",
              "Term.Count.Greek                    0.087760  0.062339  \n",
              "Major.Changes                       1.000000 -0.059115  \n",
              "Distance                           -0.059115  1.000000  "
            ],
            "text/html": [
              "\n",
              "  <div id=\"df-af558b64-b254-4c6c-99da-a7c44ec0e55a\">\n",
              "    <div class=\"colab-df-container\">\n",
              "      <div>\n",
              "<style scoped>\n",
              "    .dataframe tbody tr th:only-of-type {\n",
              "        vertical-align: middle;\n",
              "    }\n",
              "\n",
              "    .dataframe tbody tr th {\n",
              "        vertical-align: top;\n",
              "    }\n",
              "\n",
              "    .dataframe thead th {\n",
              "        text-align: right;\n",
              "    }\n",
              "</style>\n",
              "<table border=\"1\" class=\"dataframe\">\n",
              "  <thead>\n",
              "    <tr style=\"text-align: right;\">\n",
              "      <th></th>\n",
              "      <th>CT.First.Semester.GPA.Average</th>\n",
              "      <th>CT.BEST</th>\n",
              "      <th>Degree.Attained.Indicator</th>\n",
              "      <th>Term.Count.Greek</th>\n",
              "      <th>Major.Changes</th>\n",
              "      <th>Distance</th>\n",
              "    </tr>\n",
              "  </thead>\n",
              "  <tbody>\n",
              "    <tr>\n",
              "      <th>CT.First.Semester.GPA.Average</th>\n",
              "      <td>1.000000</td>\n",
              "      <td>0.074313</td>\n",
              "      <td>0.302195</td>\n",
              "      <td>0.164247</td>\n",
              "      <td>0.214962</td>\n",
              "      <td>-0.017695</td>\n",
              "    </tr>\n",
              "    <tr>\n",
              "      <th>CT.BEST</th>\n",
              "      <td>0.074313</td>\n",
              "      <td>1.000000</td>\n",
              "      <td>-0.044167</td>\n",
              "      <td>-0.160690</td>\n",
              "      <td>-0.055004</td>\n",
              "      <td>-0.058789</td>\n",
              "    </tr>\n",
              "    <tr>\n",
              "      <th>Degree.Attained.Indicator</th>\n",
              "      <td>0.302195</td>\n",
              "      <td>-0.044167</td>\n",
              "      <td>1.000000</td>\n",
              "      <td>0.288836</td>\n",
              "      <td>0.217577</td>\n",
              "      <td>-0.011120</td>\n",
              "    </tr>\n",
              "    <tr>\n",
              "      <th>Term.Count.Greek</th>\n",
              "      <td>0.164247</td>\n",
              "      <td>-0.160690</td>\n",
              "      <td>0.288836</td>\n",
              "      <td>1.000000</td>\n",
              "      <td>0.087760</td>\n",
              "      <td>0.062339</td>\n",
              "    </tr>\n",
              "    <tr>\n",
              "      <th>Major.Changes</th>\n",
              "      <td>0.214962</td>\n",
              "      <td>-0.055004</td>\n",
              "      <td>0.217577</td>\n",
              "      <td>0.087760</td>\n",
              "      <td>1.000000</td>\n",
              "      <td>-0.059115</td>\n",
              "    </tr>\n",
              "    <tr>\n",
              "      <th>Distance</th>\n",
              "      <td>-0.017695</td>\n",
              "      <td>-0.058789</td>\n",
              "      <td>-0.011120</td>\n",
              "      <td>0.062339</td>\n",
              "      <td>-0.059115</td>\n",
              "      <td>1.000000</td>\n",
              "    </tr>\n",
              "  </tbody>\n",
              "</table>\n",
              "</div>\n",
              "      <button class=\"colab-df-convert\" onclick=\"convertToInteractive('df-af558b64-b254-4c6c-99da-a7c44ec0e55a')\"\n",
              "              title=\"Convert this dataframe to an interactive table.\"\n",
              "              style=\"display:none;\">\n",
              "        \n",
              "  <svg xmlns=\"http://www.w3.org/2000/svg\" height=\"24px\"viewBox=\"0 0 24 24\"\n",
              "       width=\"24px\">\n",
              "    <path d=\"M0 0h24v24H0V0z\" fill=\"none\"/>\n",
              "    <path d=\"M18.56 5.44l.94 2.06.94-2.06 2.06-.94-2.06-.94-.94-2.06-.94 2.06-2.06.94zm-11 1L8.5 8.5l.94-2.06 2.06-.94-2.06-.94L8.5 2.5l-.94 2.06-2.06.94zm10 10l.94 2.06.94-2.06 2.06-.94-2.06-.94-.94-2.06-.94 2.06-2.06.94z\"/><path d=\"M17.41 7.96l-1.37-1.37c-.4-.4-.92-.59-1.43-.59-.52 0-1.04.2-1.43.59L10.3 9.45l-7.72 7.72c-.78.78-.78 2.05 0 2.83L4 21.41c.39.39.9.59 1.41.59.51 0 1.02-.2 1.41-.59l7.78-7.78 2.81-2.81c.8-.78.8-2.07 0-2.86zM5.41 20L4 18.59l7.72-7.72 1.47 1.35L5.41 20z\"/>\n",
              "  </svg>\n",
              "      </button>\n",
              "      \n",
              "  <style>\n",
              "    .colab-df-container {\n",
              "      display:flex;\n",
              "      flex-wrap:wrap;\n",
              "      gap: 12px;\n",
              "    }\n",
              "\n",
              "    .colab-df-convert {\n",
              "      background-color: #E8F0FE;\n",
              "      border: none;\n",
              "      border-radius: 50%;\n",
              "      cursor: pointer;\n",
              "      display: none;\n",
              "      fill: #1967D2;\n",
              "      height: 32px;\n",
              "      padding: 0 0 0 0;\n",
              "      width: 32px;\n",
              "    }\n",
              "\n",
              "    .colab-df-convert:hover {\n",
              "      background-color: #E2EBFA;\n",
              "      box-shadow: 0px 1px 2px rgba(60, 64, 67, 0.3), 0px 1px 3px 1px rgba(60, 64, 67, 0.15);\n",
              "      fill: #174EA6;\n",
              "    }\n",
              "\n",
              "    [theme=dark] .colab-df-convert {\n",
              "      background-color: #3B4455;\n",
              "      fill: #D2E3FC;\n",
              "    }\n",
              "\n",
              "    [theme=dark] .colab-df-convert:hover {\n",
              "      background-color: #434B5C;\n",
              "      box-shadow: 0px 1px 3px 1px rgba(0, 0, 0, 0.15);\n",
              "      filter: drop-shadow(0px 1px 2px rgba(0, 0, 0, 0.3));\n",
              "      fill: #FFFFFF;\n",
              "    }\n",
              "  </style>\n",
              "\n",
              "      <script>\n",
              "        const buttonEl =\n",
              "          document.querySelector('#df-af558b64-b254-4c6c-99da-a7c44ec0e55a button.colab-df-convert');\n",
              "        buttonEl.style.display =\n",
              "          google.colab.kernel.accessAllowed ? 'block' : 'none';\n",
              "\n",
              "        async function convertToInteractive(key) {\n",
              "          const element = document.querySelector('#df-af558b64-b254-4c6c-99da-a7c44ec0e55a');\n",
              "          const dataTable =\n",
              "            await google.colab.kernel.invokeFunction('convertToInteractive',\n",
              "                                                     [key], {});\n",
              "          if (!dataTable) return;\n",
              "\n",
              "          const docLinkHtml = 'Like what you see? Visit the ' +\n",
              "            '<a target=\"_blank\" href=https://colab.research.google.com/notebooks/data_table.ipynb>data table notebook</a>'\n",
              "            + ' to learn more about interactive tables.';\n",
              "          element.innerHTML = '';\n",
              "          dataTable['output_type'] = 'display_data';\n",
              "          await google.colab.output.renderOutput(dataTable, element);\n",
              "          const docLink = document.createElement('div');\n",
              "          docLink.innerHTML = docLinkHtml;\n",
              "          element.appendChild(docLink);\n",
              "        }\n",
              "      </script>\n",
              "    </div>\n",
              "  </div>\n",
              "  "
            ]
          },
          "metadata": {},
          "execution_count": 218
        }
      ],
      "source": [
        "df.corr()"
      ]
    },
    {
      "cell_type": "code",
      "execution_count": null,
      "id": "7d66af8b",
      "metadata": {
        "colab": {
          "base_uri": "https://localhost:8080/"
        },
        "id": "7d66af8b",
        "outputId": "1018f29d-0c63-4542-8027-0ae8871133eb"
      },
      "outputs": [
        {
          "output_type": "stream",
          "name": "stdout",
          "text": [
            "<class 'pandas.core.frame.DataFrame'>\n",
            "RangeIndex: 1047 entries, 0 to 1046\n",
            "Data columns (total 16 columns):\n",
            " #   Column                         Non-Null Count  Dtype  \n",
            "---  ------                         --------------  -----  \n",
            " 0   CT.First.Semester.GPA.Average  1047 non-null   float64\n",
            " 1   CT.BEST                        1047 non-null   int64  \n",
            " 2   Degree.Attained.Indicator      1047 non-null   int64  \n",
            " 3   CT.Residency                   1047 non-null   object \n",
            " 4   CT.Honors.Student              1047 non-null   object \n",
            " 5   Term.Count.Greek               1047 non-null   int64  \n",
            " 6   First.Major                    1047 non-null   object \n",
            " 7   Major.Changes                  1047 non-null   int64  \n",
            " 8   ACC221                         1047 non-null   object \n",
            " 9   ACC222                         1047 non-null   object \n",
            " 10  BLS342                         1047 non-null   object \n",
            " 11  CSE148                         1047 non-null   object \n",
            " 12  ECO201                         1047 non-null   object \n",
            " 13  ECO202                         1047 non-null   object \n",
            " 14  FIN301                         1047 non-null   object \n",
            " 15  Distance                       1047 non-null   float64\n",
            "dtypes: float64(2), int64(4), object(10)\n",
            "memory usage: 131.0+ KB\n"
          ]
        }
      ],
      "source": [
        "df.info()"
      ]
    },
    {
      "cell_type": "markdown",
      "id": "5d8d8ecd",
      "metadata": {
        "id": "5d8d8ecd"
      },
      "source": [
        "### Dummy Encoding"
      ]
    },
    {
      "cell_type": "markdown",
      "id": "feda15ec",
      "metadata": {
        "id": "feda15ec"
      },
      "source": [
        "**Basic information about object variables is collected to help guide dummy-encoding.**"
      ]
    },
    {
      "cell_type": "code",
      "execution_count": null,
      "id": "220edc17",
      "metadata": {
        "colab": {
          "base_uri": "https://localhost:8080/"
        },
        "id": "220edc17",
        "outputId": "b3335a36-90c1-4cc6-ba9d-138b338136c4"
      },
      "outputs": [
        {
          "output_type": "execute_result",
          "data": {
            "text/plain": [
              "CT.Residency          2\n",
              "CT.Honors.Student     2\n",
              "First.Major          59\n",
              "ACC221                8\n",
              "ACC222                8\n",
              "BLS342                8\n",
              "CSE148                8\n",
              "ECO201                9\n",
              "ECO202                9\n",
              "FIN301                8\n",
              "dtype: int64"
            ]
          },
          "metadata": {},
          "execution_count": 220
        }
      ],
      "source": [
        "df.select_dtypes(include = \"O\").nunique()"
      ]
    },
    {
      "cell_type": "code",
      "execution_count": null,
      "id": "03bb1fa9",
      "metadata": {
        "colab": {
          "base_uri": "https://localhost:8080/"
        },
        "id": "03bb1fa9",
        "outputId": "5116d643-9b1d-4ee2-d158-c0004545e93e"
      },
      "outputs": [
        {
          "output_type": "execute_result",
          "data": {
            "text/plain": [
              "CT.First.Semester.GPA.Average    0\n",
              "CT.BEST                          0\n",
              "Degree.Attained.Indicator        0\n",
              "CT.Residency                     0\n",
              "CT.Honors.Student                0\n",
              "Term.Count.Greek                 0\n",
              "First.Major                      0\n",
              "Major.Changes                    0\n",
              "ACC221                           0\n",
              "ACC222                           0\n",
              "BLS342                           0\n",
              "CSE148                           0\n",
              "ECO201                           0\n",
              "ECO202                           0\n",
              "FIN301                           0\n",
              "Distance                         0\n",
              "dtype: int64"
            ]
          },
          "metadata": {},
          "execution_count": 221
        }
      ],
      "source": [
        "df.isna().sum()"
      ]
    },
    {
      "cell_type": "markdown",
      "id": "c95f50ba",
      "metadata": {
        "id": "c95f50ba"
      },
      "source": [
        "**The variables First.Major and courses are dummy-encoded and a Random Forest Classifier is used to predict feature importances of these three variables. The top levels of each variable that obtain the most information for the model will be kept in the dataset used for modeling. Original variables will be dropped. We decided to agree on a 0.05 benchmark level for all feature importances that we wanted to keep in the model.**"
      ]
    },
    {
      "cell_type": "markdown",
      "id": "dde75d62",
      "metadata": {
        "id": "dde75d62"
      },
      "source": [
        "*First.Major*"
      ]
    },
    {
      "cell_type": "code",
      "execution_count": null,
      "id": "c042c927",
      "metadata": {
        "id": "c042c927"
      },
      "outputs": [],
      "source": [
        "df_to_collapse2 = df[['First.Major', 'Degree.Attained.Indicator']]"
      ]
    },
    {
      "cell_type": "code",
      "execution_count": null,
      "id": "4d9f6466",
      "metadata": {
        "colab": {
          "base_uri": "https://localhost:8080/",
          "height": 305
        },
        "id": "4d9f6466",
        "outputId": "b2e31b6a-6cb4-43bd-849b-ee647e32900a"
      },
      "outputs": [
        {
          "output_type": "execute_result",
          "data": {
            "text/plain": [
              "   Degree.Attained.Indicator  First.Major_Athletic Training  \\\n",
              "0                          1                              0   \n",
              "1                          1                              0   \n",
              "2                          1                              0   \n",
              "3                          1                              0   \n",
              "4                          0                              0   \n",
              "\n",
              "   First.Major_Biochemistry  First.Major_Biology  \\\n",
              "0                         0                    0   \n",
              "1                         0                    0   \n",
              "2                         0                    0   \n",
              "3                         0                    0   \n",
              "4                         0                    0   \n",
              "\n",
              "   First.Major_Business Economics  First.Major_Chemical Engineering  \\\n",
              "0                               0                                 0   \n",
              "1                               0                                 0   \n",
              "2                               0                                 0   \n",
              "3                               0                                 0   \n",
              "4                               0                                 0   \n",
              "\n",
              "   First.Major_Chemistry  First.Major_Communication Pre-Major  \\\n",
              "0                      0                                    0   \n",
              "1                      0                                    0   \n",
              "2                      0                                    0   \n",
              "3                      0                                    0   \n",
              "4                      0                                    0   \n",
              "\n",
              "   First.Major_Comparative Media Studies  First.Major_Computer Engineering  \\\n",
              "0                                      0                                 0   \n",
              "1                                      0                                 0   \n",
              "2                                      0                                 0   \n",
              "3                                      0                                 0   \n",
              "4                                      0                                 0   \n",
              "\n",
              "   First.Major_Computer Science  First.Major_Diplomacy and Global Politics  \\\n",
              "0                             0                                          0   \n",
              "1                             0                                          0   \n",
              "2                             0                                          0   \n",
              "3                             0                                          0   \n",
              "4                             0                                          0   \n",
              "\n",
              "   First.Major_East Asian Languages & Culture  First.Major_Economics  \\\n",
              "0                                           0                      0   \n",
              "1                                           0                      0   \n",
              "2                                           0                      0   \n",
              "3                                           0                      0   \n",
              "4                                           0                      0   \n",
              "\n",
              "   First.Major_Engineering Management  \\\n",
              "0                                   0   \n",
              "1                                   0   \n",
              "2                                   0   \n",
              "3                                   0   \n",
              "4                                   0   \n",
              "\n",
              "   First.Major_Environmental Earth Science  First.Major_Family Studies  \\\n",
              "0                                        0                           0   \n",
              "1                                        0                           0   \n",
              "2                                        0                           0   \n",
              "3                                        0                           0   \n",
              "4                                        0                           0   \n",
              "\n",
              "   First.Major_Finance  First.Major_General Engineering  \\\n",
              "0                    0                                0   \n",
              "1                    0                                0   \n",
              "2                    0                                0   \n",
              "3                    0                                0   \n",
              "4                    0                                0   \n",
              "\n",
              "   First.Major_Geography  First.Major_German  First.Major_Graphic Design  \\\n",
              "0                      0                   0                           0   \n",
              "1                      0                   0                           0   \n",
              "2                      0                   0                           0   \n",
              "3                      0                   0                           0   \n",
              "4                      0                   0                           0   \n",
              "\n",
              "   First.Major_Individualized Studies  First.Major_Information Systems  \\\n",
              "0                                   0                                0   \n",
              "1                                   0                                0   \n",
              "2                                   0                                0   \n",
              "3                                   0                                0   \n",
              "4                                   0                                1   \n",
              "\n",
              "   First.Major_Integrated Mathematics Edu  \\\n",
              "0                                       0   \n",
              "1                                       0   \n",
              "2                                       0   \n",
              "3                                       0   \n",
              "4                                       0   \n",
              "\n",
              "   First.Major_Interactive Media Studies  \\\n",
              "0                                      0   \n",
              "1                                      0   \n",
              "2                                      0   \n",
              "3                                      0   \n",
              "4                                      0   \n",
              "\n",
              "   First.Major_Interdisciplinary Bus Managemt  First.Major_Interior Design  \\\n",
              "0                                           0                            0   \n",
              "1                                           0                            0   \n",
              "2                                           0                            0   \n",
              "3                                           0                            0   \n",
              "4                                           0                            0   \n",
              "\n",
              "   First.Major_International Studies  First.Major_Journalism  \\\n",
              "0                                  0                       0   \n",
              "1                                  1                       0   \n",
              "2                                  0                       0   \n",
              "3                                  0                       0   \n",
              "4                                  0                       0   \n",
              "\n",
              "   First.Major_Kinesiology  First.Major_Major Undeclared  \\\n",
              "0                        0                             0   \n",
              "1                        0                             0   \n",
              "2                        0                             0   \n",
              "3                        0                             0   \n",
              "4                        0                             0   \n",
              "\n",
              "   First.Major_Management and Leadership  First.Major_Marketing  \\\n",
              "0                                      0                      0   \n",
              "1                                      0                      0   \n",
              "2                                      0                      0   \n",
              "3                                      0                      0   \n",
              "4                                      0                      0   \n",
              "\n",
              "   First.Major_Mathematics  First.Major_Mathematics & Statistics  \\\n",
              "0                        0                                     0   \n",
              "1                        0                                     0   \n",
              "2                        0                                     0   \n",
              "3                        0                                     0   \n",
              "4                        0                                     0   \n",
              "\n",
              "   First.Major_Mechanical Engineering  First.Major_Media and Culture  \\\n",
              "0                                   0                              0   \n",
              "1                                   0                              0   \n",
              "2                                   0                              0   \n",
              "3                                   0                              0   \n",
              "4                                   0                              0   \n",
              "\n",
              "   First.Major_Music  First.Major_Music Education  \\\n",
              "0                  1                            0   \n",
              "1                  0                            0   \n",
              "2                  0                            0   \n",
              "3                  0                            0   \n",
              "4                  0                            0   \n",
              "\n",
              "   First.Major_Music Performance  First.Major_Nutrition  \\\n",
              "0                              0                      0   \n",
              "1                              0                      0   \n",
              "2                              0                      0   \n",
              "3                              0                      0   \n",
              "4                              0                      0   \n",
              "\n",
              "   First.Major_Philosophy  First.Major_Political Science  \\\n",
              "0                       0                              0   \n",
              "1                       0                              0   \n",
              "2                       0                              0   \n",
              "3                       0                              0   \n",
              "4                       0                              0   \n",
              "\n",
              "   First.Major_Premedical Studies  First.Major_Psychology  \\\n",
              "0                               0                       0   \n",
              "1                               0                       0   \n",
              "2                               0                       0   \n",
              "3                               0                       0   \n",
              "4                               0                       0   \n",
              "\n",
              "   First.Major_Quantitative Economics  First.Major_Software Engineering  \\\n",
              "0                                   0                                 0   \n",
              "1                                   0                                 0   \n",
              "2                                   0                                 0   \n",
              "3                                   0                                 0   \n",
              "4                                   0                                 0   \n",
              "\n",
              "   First.Major_Spanish  First.Major_Special Education  \\\n",
              "0                    0                              0   \n",
              "1                    0                              0   \n",
              "2                    0                              0   \n",
              "3                    0                              0   \n",
              "4                    0                              0   \n",
              "\n",
              "   First.Major_Sport Leadership & Management  First.Major_Statistics  \\\n",
              "0                                          0                       0   \n",
              "1                                          0                       0   \n",
              "2                                          0                       0   \n",
              "3                                          0                       0   \n",
              "4                                          0                       0   \n",
              "\n",
              "   First.Major_Strategic Communication  \\\n",
              "0                                    0   \n",
              "1                                    0   \n",
              "2                                    0   \n",
              "3                                    0   \n",
              "4                                    0   \n",
              "\n",
              "   First.Major_Supply Chain & Operations Mgmt  First.Major_Theatre  \\\n",
              "0                                           0                    0   \n",
              "1                                           0                    0   \n",
              "2                                           0                    0   \n",
              "3                                           0                    0   \n",
              "4                                           0                    0   \n",
              "\n",
              "   First.Major_Undeclared - Applied Science  \\\n",
              "0                                         0   \n",
              "1                                         0   \n",
              "2                                         0   \n",
              "3                                         0   \n",
              "4                                         0   \n",
              "\n",
              "   First.Major_Undeclared - Business  First.Major_University Studies  \\\n",
              "0                                  0                               0   \n",
              "1                                  0                               0   \n",
              "2                                  0                               0   \n",
              "3                                  0                               1   \n",
              "4                                  0                               0   \n",
              "\n",
              "   First.Major_Zoology  \n",
              "0                    0  \n",
              "1                    0  \n",
              "2                    0  \n",
              "3                    0  \n",
              "4                    0  "
            ],
            "text/html": [
              "\n",
              "  <div id=\"df-f8444336-9a94-4de5-acd7-b5d8aa688dda\">\n",
              "    <div class=\"colab-df-container\">\n",
              "      <div>\n",
              "<style scoped>\n",
              "    .dataframe tbody tr th:only-of-type {\n",
              "        vertical-align: middle;\n",
              "    }\n",
              "\n",
              "    .dataframe tbody tr th {\n",
              "        vertical-align: top;\n",
              "    }\n",
              "\n",
              "    .dataframe thead th {\n",
              "        text-align: right;\n",
              "    }\n",
              "</style>\n",
              "<table border=\"1\" class=\"dataframe\">\n",
              "  <thead>\n",
              "    <tr style=\"text-align: right;\">\n",
              "      <th></th>\n",
              "      <th>Degree.Attained.Indicator</th>\n",
              "      <th>First.Major_Athletic Training</th>\n",
              "      <th>First.Major_Biochemistry</th>\n",
              "      <th>First.Major_Biology</th>\n",
              "      <th>First.Major_Business Economics</th>\n",
              "      <th>First.Major_Chemical Engineering</th>\n",
              "      <th>First.Major_Chemistry</th>\n",
              "      <th>First.Major_Communication Pre-Major</th>\n",
              "      <th>First.Major_Comparative Media Studies</th>\n",
              "      <th>First.Major_Computer Engineering</th>\n",
              "      <th>First.Major_Computer Science</th>\n",
              "      <th>First.Major_Diplomacy and Global Politics</th>\n",
              "      <th>First.Major_East Asian Languages &amp; Culture</th>\n",
              "      <th>First.Major_Economics</th>\n",
              "      <th>First.Major_Engineering Management</th>\n",
              "      <th>First.Major_Environmental Earth Science</th>\n",
              "      <th>First.Major_Family Studies</th>\n",
              "      <th>First.Major_Finance</th>\n",
              "      <th>First.Major_General Engineering</th>\n",
              "      <th>First.Major_Geography</th>\n",
              "      <th>First.Major_German</th>\n",
              "      <th>First.Major_Graphic Design</th>\n",
              "      <th>First.Major_Individualized Studies</th>\n",
              "      <th>First.Major_Information Systems</th>\n",
              "      <th>First.Major_Integrated Mathematics Edu</th>\n",
              "      <th>First.Major_Interactive Media Studies</th>\n",
              "      <th>First.Major_Interdisciplinary Bus Managemt</th>\n",
              "      <th>First.Major_Interior Design</th>\n",
              "      <th>First.Major_International Studies</th>\n",
              "      <th>First.Major_Journalism</th>\n",
              "      <th>First.Major_Kinesiology</th>\n",
              "      <th>First.Major_Major Undeclared</th>\n",
              "      <th>First.Major_Management and Leadership</th>\n",
              "      <th>First.Major_Marketing</th>\n",
              "      <th>First.Major_Mathematics</th>\n",
              "      <th>First.Major_Mathematics &amp; Statistics</th>\n",
              "      <th>First.Major_Mechanical Engineering</th>\n",
              "      <th>First.Major_Media and Culture</th>\n",
              "      <th>First.Major_Music</th>\n",
              "      <th>First.Major_Music Education</th>\n",
              "      <th>First.Major_Music Performance</th>\n",
              "      <th>First.Major_Nutrition</th>\n",
              "      <th>First.Major_Philosophy</th>\n",
              "      <th>First.Major_Political Science</th>\n",
              "      <th>First.Major_Premedical Studies</th>\n",
              "      <th>First.Major_Psychology</th>\n",
              "      <th>First.Major_Quantitative Economics</th>\n",
              "      <th>First.Major_Software Engineering</th>\n",
              "      <th>First.Major_Spanish</th>\n",
              "      <th>First.Major_Special Education</th>\n",
              "      <th>First.Major_Sport Leadership &amp; Management</th>\n",
              "      <th>First.Major_Statistics</th>\n",
              "      <th>First.Major_Strategic Communication</th>\n",
              "      <th>First.Major_Supply Chain &amp; Operations Mgmt</th>\n",
              "      <th>First.Major_Theatre</th>\n",
              "      <th>First.Major_Undeclared - Applied Science</th>\n",
              "      <th>First.Major_Undeclared - Business</th>\n",
              "      <th>First.Major_University Studies</th>\n",
              "      <th>First.Major_Zoology</th>\n",
              "    </tr>\n",
              "  </thead>\n",
              "  <tbody>\n",
              "    <tr>\n",
              "      <th>0</th>\n",
              "      <td>1</td>\n",
              "      <td>0</td>\n",
              "      <td>0</td>\n",
              "      <td>0</td>\n",
              "      <td>0</td>\n",
              "      <td>0</td>\n",
              "      <td>0</td>\n",
              "      <td>0</td>\n",
              "      <td>0</td>\n",
              "      <td>0</td>\n",
              "      <td>0</td>\n",
              "      <td>0</td>\n",
              "      <td>0</td>\n",
              "      <td>0</td>\n",
              "      <td>0</td>\n",
              "      <td>0</td>\n",
              "      <td>0</td>\n",
              "      <td>0</td>\n",
              "      <td>0</td>\n",
              "      <td>0</td>\n",
              "      <td>0</td>\n",
              "      <td>0</td>\n",
              "      <td>0</td>\n",
              "      <td>0</td>\n",
              "      <td>0</td>\n",
              "      <td>0</td>\n",
              "      <td>0</td>\n",
              "      <td>0</td>\n",
              "      <td>0</td>\n",
              "      <td>0</td>\n",
              "      <td>0</td>\n",
              "      <td>0</td>\n",
              "      <td>0</td>\n",
              "      <td>0</td>\n",
              "      <td>0</td>\n",
              "      <td>0</td>\n",
              "      <td>0</td>\n",
              "      <td>0</td>\n",
              "      <td>1</td>\n",
              "      <td>0</td>\n",
              "      <td>0</td>\n",
              "      <td>0</td>\n",
              "      <td>0</td>\n",
              "      <td>0</td>\n",
              "      <td>0</td>\n",
              "      <td>0</td>\n",
              "      <td>0</td>\n",
              "      <td>0</td>\n",
              "      <td>0</td>\n",
              "      <td>0</td>\n",
              "      <td>0</td>\n",
              "      <td>0</td>\n",
              "      <td>0</td>\n",
              "      <td>0</td>\n",
              "      <td>0</td>\n",
              "      <td>0</td>\n",
              "      <td>0</td>\n",
              "      <td>0</td>\n",
              "      <td>0</td>\n",
              "    </tr>\n",
              "    <tr>\n",
              "      <th>1</th>\n",
              "      <td>1</td>\n",
              "      <td>0</td>\n",
              "      <td>0</td>\n",
              "      <td>0</td>\n",
              "      <td>0</td>\n",
              "      <td>0</td>\n",
              "      <td>0</td>\n",
              "      <td>0</td>\n",
              "      <td>0</td>\n",
              "      <td>0</td>\n",
              "      <td>0</td>\n",
              "      <td>0</td>\n",
              "      <td>0</td>\n",
              "      <td>0</td>\n",
              "      <td>0</td>\n",
              "      <td>0</td>\n",
              "      <td>0</td>\n",
              "      <td>0</td>\n",
              "      <td>0</td>\n",
              "      <td>0</td>\n",
              "      <td>0</td>\n",
              "      <td>0</td>\n",
              "      <td>0</td>\n",
              "      <td>0</td>\n",
              "      <td>0</td>\n",
              "      <td>0</td>\n",
              "      <td>0</td>\n",
              "      <td>0</td>\n",
              "      <td>1</td>\n",
              "      <td>0</td>\n",
              "      <td>0</td>\n",
              "      <td>0</td>\n",
              "      <td>0</td>\n",
              "      <td>0</td>\n",
              "      <td>0</td>\n",
              "      <td>0</td>\n",
              "      <td>0</td>\n",
              "      <td>0</td>\n",
              "      <td>0</td>\n",
              "      <td>0</td>\n",
              "      <td>0</td>\n",
              "      <td>0</td>\n",
              "      <td>0</td>\n",
              "      <td>0</td>\n",
              "      <td>0</td>\n",
              "      <td>0</td>\n",
              "      <td>0</td>\n",
              "      <td>0</td>\n",
              "      <td>0</td>\n",
              "      <td>0</td>\n",
              "      <td>0</td>\n",
              "      <td>0</td>\n",
              "      <td>0</td>\n",
              "      <td>0</td>\n",
              "      <td>0</td>\n",
              "      <td>0</td>\n",
              "      <td>0</td>\n",
              "      <td>0</td>\n",
              "      <td>0</td>\n",
              "    </tr>\n",
              "    <tr>\n",
              "      <th>2</th>\n",
              "      <td>1</td>\n",
              "      <td>0</td>\n",
              "      <td>0</td>\n",
              "      <td>0</td>\n",
              "      <td>0</td>\n",
              "      <td>0</td>\n",
              "      <td>0</td>\n",
              "      <td>0</td>\n",
              "      <td>0</td>\n",
              "      <td>0</td>\n",
              "      <td>0</td>\n",
              "      <td>0</td>\n",
              "      <td>0</td>\n",
              "      <td>0</td>\n",
              "      <td>0</td>\n",
              "      <td>0</td>\n",
              "      <td>0</td>\n",
              "      <td>0</td>\n",
              "      <td>0</td>\n",
              "      <td>0</td>\n",
              "      <td>0</td>\n",
              "      <td>0</td>\n",
              "      <td>0</td>\n",
              "      <td>0</td>\n",
              "      <td>0</td>\n",
              "      <td>0</td>\n",
              "      <td>0</td>\n",
              "      <td>0</td>\n",
              "      <td>0</td>\n",
              "      <td>0</td>\n",
              "      <td>0</td>\n",
              "      <td>0</td>\n",
              "      <td>0</td>\n",
              "      <td>0</td>\n",
              "      <td>0</td>\n",
              "      <td>0</td>\n",
              "      <td>0</td>\n",
              "      <td>0</td>\n",
              "      <td>0</td>\n",
              "      <td>0</td>\n",
              "      <td>0</td>\n",
              "      <td>0</td>\n",
              "      <td>0</td>\n",
              "      <td>0</td>\n",
              "      <td>0</td>\n",
              "      <td>0</td>\n",
              "      <td>0</td>\n",
              "      <td>0</td>\n",
              "      <td>0</td>\n",
              "      <td>0</td>\n",
              "      <td>0</td>\n",
              "      <td>0</td>\n",
              "      <td>0</td>\n",
              "      <td>0</td>\n",
              "      <td>0</td>\n",
              "      <td>0</td>\n",
              "      <td>0</td>\n",
              "      <td>0</td>\n",
              "      <td>0</td>\n",
              "    </tr>\n",
              "    <tr>\n",
              "      <th>3</th>\n",
              "      <td>1</td>\n",
              "      <td>0</td>\n",
              "      <td>0</td>\n",
              "      <td>0</td>\n",
              "      <td>0</td>\n",
              "      <td>0</td>\n",
              "      <td>0</td>\n",
              "      <td>0</td>\n",
              "      <td>0</td>\n",
              "      <td>0</td>\n",
              "      <td>0</td>\n",
              "      <td>0</td>\n",
              "      <td>0</td>\n",
              "      <td>0</td>\n",
              "      <td>0</td>\n",
              "      <td>0</td>\n",
              "      <td>0</td>\n",
              "      <td>0</td>\n",
              "      <td>0</td>\n",
              "      <td>0</td>\n",
              "      <td>0</td>\n",
              "      <td>0</td>\n",
              "      <td>0</td>\n",
              "      <td>0</td>\n",
              "      <td>0</td>\n",
              "      <td>0</td>\n",
              "      <td>0</td>\n",
              "      <td>0</td>\n",
              "      <td>0</td>\n",
              "      <td>0</td>\n",
              "      <td>0</td>\n",
              "      <td>0</td>\n",
              "      <td>0</td>\n",
              "      <td>0</td>\n",
              "      <td>0</td>\n",
              "      <td>0</td>\n",
              "      <td>0</td>\n",
              "      <td>0</td>\n",
              "      <td>0</td>\n",
              "      <td>0</td>\n",
              "      <td>0</td>\n",
              "      <td>0</td>\n",
              "      <td>0</td>\n",
              "      <td>0</td>\n",
              "      <td>0</td>\n",
              "      <td>0</td>\n",
              "      <td>0</td>\n",
              "      <td>0</td>\n",
              "      <td>0</td>\n",
              "      <td>0</td>\n",
              "      <td>0</td>\n",
              "      <td>0</td>\n",
              "      <td>0</td>\n",
              "      <td>0</td>\n",
              "      <td>0</td>\n",
              "      <td>0</td>\n",
              "      <td>0</td>\n",
              "      <td>1</td>\n",
              "      <td>0</td>\n",
              "    </tr>\n",
              "    <tr>\n",
              "      <th>4</th>\n",
              "      <td>0</td>\n",
              "      <td>0</td>\n",
              "      <td>0</td>\n",
              "      <td>0</td>\n",
              "      <td>0</td>\n",
              "      <td>0</td>\n",
              "      <td>0</td>\n",
              "      <td>0</td>\n",
              "      <td>0</td>\n",
              "      <td>0</td>\n",
              "      <td>0</td>\n",
              "      <td>0</td>\n",
              "      <td>0</td>\n",
              "      <td>0</td>\n",
              "      <td>0</td>\n",
              "      <td>0</td>\n",
              "      <td>0</td>\n",
              "      <td>0</td>\n",
              "      <td>0</td>\n",
              "      <td>0</td>\n",
              "      <td>0</td>\n",
              "      <td>0</td>\n",
              "      <td>0</td>\n",
              "      <td>1</td>\n",
              "      <td>0</td>\n",
              "      <td>0</td>\n",
              "      <td>0</td>\n",
              "      <td>0</td>\n",
              "      <td>0</td>\n",
              "      <td>0</td>\n",
              "      <td>0</td>\n",
              "      <td>0</td>\n",
              "      <td>0</td>\n",
              "      <td>0</td>\n",
              "      <td>0</td>\n",
              "      <td>0</td>\n",
              "      <td>0</td>\n",
              "      <td>0</td>\n",
              "      <td>0</td>\n",
              "      <td>0</td>\n",
              "      <td>0</td>\n",
              "      <td>0</td>\n",
              "      <td>0</td>\n",
              "      <td>0</td>\n",
              "      <td>0</td>\n",
              "      <td>0</td>\n",
              "      <td>0</td>\n",
              "      <td>0</td>\n",
              "      <td>0</td>\n",
              "      <td>0</td>\n",
              "      <td>0</td>\n",
              "      <td>0</td>\n",
              "      <td>0</td>\n",
              "      <td>0</td>\n",
              "      <td>0</td>\n",
              "      <td>0</td>\n",
              "      <td>0</td>\n",
              "      <td>0</td>\n",
              "      <td>0</td>\n",
              "    </tr>\n",
              "  </tbody>\n",
              "</table>\n",
              "</div>\n",
              "      <button class=\"colab-df-convert\" onclick=\"convertToInteractive('df-f8444336-9a94-4de5-acd7-b5d8aa688dda')\"\n",
              "              title=\"Convert this dataframe to an interactive table.\"\n",
              "              style=\"display:none;\">\n",
              "        \n",
              "  <svg xmlns=\"http://www.w3.org/2000/svg\" height=\"24px\"viewBox=\"0 0 24 24\"\n",
              "       width=\"24px\">\n",
              "    <path d=\"M0 0h24v24H0V0z\" fill=\"none\"/>\n",
              "    <path d=\"M18.56 5.44l.94 2.06.94-2.06 2.06-.94-2.06-.94-.94-2.06-.94 2.06-2.06.94zm-11 1L8.5 8.5l.94-2.06 2.06-.94-2.06-.94L8.5 2.5l-.94 2.06-2.06.94zm10 10l.94 2.06.94-2.06 2.06-.94-2.06-.94-.94-2.06-.94 2.06-2.06.94z\"/><path d=\"M17.41 7.96l-1.37-1.37c-.4-.4-.92-.59-1.43-.59-.52 0-1.04.2-1.43.59L10.3 9.45l-7.72 7.72c-.78.78-.78 2.05 0 2.83L4 21.41c.39.39.9.59 1.41.59.51 0 1.02-.2 1.41-.59l7.78-7.78 2.81-2.81c.8-.78.8-2.07 0-2.86zM5.41 20L4 18.59l7.72-7.72 1.47 1.35L5.41 20z\"/>\n",
              "  </svg>\n",
              "      </button>\n",
              "      \n",
              "  <style>\n",
              "    .colab-df-container {\n",
              "      display:flex;\n",
              "      flex-wrap:wrap;\n",
              "      gap: 12px;\n",
              "    }\n",
              "\n",
              "    .colab-df-convert {\n",
              "      background-color: #E8F0FE;\n",
              "      border: none;\n",
              "      border-radius: 50%;\n",
              "      cursor: pointer;\n",
              "      display: none;\n",
              "      fill: #1967D2;\n",
              "      height: 32px;\n",
              "      padding: 0 0 0 0;\n",
              "      width: 32px;\n",
              "    }\n",
              "\n",
              "    .colab-df-convert:hover {\n",
              "      background-color: #E2EBFA;\n",
              "      box-shadow: 0px 1px 2px rgba(60, 64, 67, 0.3), 0px 1px 3px 1px rgba(60, 64, 67, 0.15);\n",
              "      fill: #174EA6;\n",
              "    }\n",
              "\n",
              "    [theme=dark] .colab-df-convert {\n",
              "      background-color: #3B4455;\n",
              "      fill: #D2E3FC;\n",
              "    }\n",
              "\n",
              "    [theme=dark] .colab-df-convert:hover {\n",
              "      background-color: #434B5C;\n",
              "      box-shadow: 0px 1px 3px 1px rgba(0, 0, 0, 0.15);\n",
              "      filter: drop-shadow(0px 1px 2px rgba(0, 0, 0, 0.3));\n",
              "      fill: #FFFFFF;\n",
              "    }\n",
              "  </style>\n",
              "\n",
              "      <script>\n",
              "        const buttonEl =\n",
              "          document.querySelector('#df-f8444336-9a94-4de5-acd7-b5d8aa688dda button.colab-df-convert');\n",
              "        buttonEl.style.display =\n",
              "          google.colab.kernel.accessAllowed ? 'block' : 'none';\n",
              "\n",
              "        async function convertToInteractive(key) {\n",
              "          const element = document.querySelector('#df-f8444336-9a94-4de5-acd7-b5d8aa688dda');\n",
              "          const dataTable =\n",
              "            await google.colab.kernel.invokeFunction('convertToInteractive',\n",
              "                                                     [key], {});\n",
              "          if (!dataTable) return;\n",
              "\n",
              "          const docLinkHtml = 'Like what you see? Visit the ' +\n",
              "            '<a target=\"_blank\" href=https://colab.research.google.com/notebooks/data_table.ipynb>data table notebook</a>'\n",
              "            + ' to learn more about interactive tables.';\n",
              "          element.innerHTML = '';\n",
              "          dataTable['output_type'] = 'display_data';\n",
              "          await google.colab.output.renderOutput(dataTable, element);\n",
              "          const docLink = document.createElement('div');\n",
              "          docLink.innerHTML = docLinkHtml;\n",
              "          element.appendChild(docLink);\n",
              "        }\n",
              "      </script>\n",
              "    </div>\n",
              "  </div>\n",
              "  "
            ]
          },
          "metadata": {},
          "execution_count": 223
        }
      ],
      "source": [
        "df_to_collapse2 = pd.get_dummies(df_to_collapse2, drop_first = True)\n",
        "df_to_collapse2.head()"
      ]
    },
    {
      "cell_type": "code",
      "execution_count": null,
      "id": "5e834703",
      "metadata": {
        "colab": {
          "base_uri": "https://localhost:8080/"
        },
        "id": "5e834703",
        "outputId": "da97a77a-f65b-4d1e-f9cc-e88d8673d6a2"
      },
      "outputs": [
        {
          "output_type": "execute_result",
          "data": {
            "text/plain": [
              "RandomForestClassifier(random_state=50)"
            ]
          },
          "metadata": {},
          "execution_count": 224
        }
      ],
      "source": [
        "rf2 = RandomForestClassifier(random_state = 50)\n",
        "rf2.fit(df_to_collapse2.drop('Degree.Attained.Indicator', axis=1), df_to_collapse2['Degree.Attained.Indicator'])"
      ]
    },
    {
      "cell_type": "code",
      "execution_count": null,
      "id": "af0b2904",
      "metadata": {
        "colab": {
          "base_uri": "https://localhost:8080/",
          "height": 1000
        },
        "id": "af0b2904",
        "outputId": "5b66ad1c-1947-4f42-9254-5304faa40c35"
      },
      "outputs": [
        {
          "output_type": "execute_result",
          "data": {
            "text/plain": [
              "                                            Importance\n",
              "Variable                                              \n",
              "First.Major_Business Economics                0.205364\n",
              "First.Major_Undeclared - Business             0.095150\n",
              "First.Major_University Studies                0.092881\n",
              "First.Major_Music Performance                 0.088437\n",
              "First.Major_Chemistry                         0.075508\n",
              "First.Major_Mathematics & Statistics          0.070682\n",
              "First.Major_Management and Leadership         0.057693\n",
              "First.Major_Information Systems               0.056130\n",
              "First.Major_Marketing                         0.026151\n",
              "First.Major_Finance                           0.025683\n",
              "First.Major_Undeclared - Applied Science      0.021836\n",
              "First.Major_Economics                         0.016175\n",
              "First.Major_Political Science                 0.015381\n",
              "First.Major_Biology                           0.014009\n",
              "First.Major_Premedical Studies                0.013207\n",
              "First.Major_Supply Chain & Operations Mgmt    0.012230\n",
              "First.Major_International Studies             0.010394\n",
              "First.Major_Psychology                        0.008802\n",
              "First.Major_Strategic Communication           0.008534\n",
              "First.Major_Journalism                        0.007548\n",
              "First.Major_Sport Leadership & Management     0.006797\n",
              "First.Major_Mechanical Engineering            0.005173\n",
              "First.Major_Communication Pre-Major           0.004182\n",
              "First.Major_Kinesiology                       0.003886\n",
              "First.Major_Mathematics                       0.003844\n",
              "First.Major_Interdisciplinary Bus Managemt    0.003620\n",
              "First.Major_Spanish                           0.002705\n",
              "First.Major_Theatre                           0.002515\n",
              "First.Major_Engineering Management            0.002503\n",
              "First.Major_Quantitative Economics            0.002491\n",
              "First.Major_General Engineering               0.002480\n",
              "First.Major_Zoology                           0.002477\n",
              "First.Major_Graphic Design                    0.002447\n",
              "First.Major_Computer Science                  0.002096\n",
              "First.Major_Geography                         0.001881\n",
              "First.Major_Athletic Training                 0.001561\n",
              "First.Major_Interior Design                   0.001493\n",
              "First.Major_Major Undeclared                  0.001473\n",
              "First.Major_Music Education                   0.001463\n",
              "First.Major_Family Studies                    0.001376\n",
              "First.Major_Music                             0.001346\n",
              "First.Major_Special Education                 0.001339\n",
              "First.Major_German                            0.001339\n",
              "First.Major_East Asian Languages & Culture    0.001310\n",
              "First.Major_Individualized Studies            0.001308\n",
              "First.Major_Software Engineering              0.001282\n",
              "First.Major_Media and Culture                 0.001270\n",
              "First.Major_Philosophy                        0.001265\n",
              "First.Major_Statistics                        0.001248\n",
              "First.Major_Chemical Engineering              0.001233\n",
              "First.Major_Biochemistry                      0.001220\n",
              "First.Major_Interactive Media Studies         0.001181\n",
              "First.Major_Integrated Mathematics Edu        0.001140\n",
              "First.Major_Diplomacy and Global Politics     0.001110\n",
              "First.Major_Environmental Earth Science       0.001104\n",
              "First.Major_Comparative Media Studies         0.001071\n",
              "First.Major_Computer Engineering              0.001000\n",
              "First.Major_Nutrition                         0.000974"
            ],
            "text/html": [
              "\n",
              "  <div id=\"df-238a0004-8838-45f4-9aaa-f5e6ab5edc0a\">\n",
              "    <div class=\"colab-df-container\">\n",
              "      <div>\n",
              "<style scoped>\n",
              "    .dataframe tbody tr th:only-of-type {\n",
              "        vertical-align: middle;\n",
              "    }\n",
              "\n",
              "    .dataframe tbody tr th {\n",
              "        vertical-align: top;\n",
              "    }\n",
              "\n",
              "    .dataframe thead th {\n",
              "        text-align: right;\n",
              "    }\n",
              "</style>\n",
              "<table border=\"1\" class=\"dataframe\">\n",
              "  <thead>\n",
              "    <tr style=\"text-align: right;\">\n",
              "      <th></th>\n",
              "      <th>Importance</th>\n",
              "    </tr>\n",
              "    <tr>\n",
              "      <th>Variable</th>\n",
              "      <th></th>\n",
              "    </tr>\n",
              "  </thead>\n",
              "  <tbody>\n",
              "    <tr>\n",
              "      <th>First.Major_Business Economics</th>\n",
              "      <td>0.205364</td>\n",
              "    </tr>\n",
              "    <tr>\n",
              "      <th>First.Major_Undeclared - Business</th>\n",
              "      <td>0.095150</td>\n",
              "    </tr>\n",
              "    <tr>\n",
              "      <th>First.Major_University Studies</th>\n",
              "      <td>0.092881</td>\n",
              "    </tr>\n",
              "    <tr>\n",
              "      <th>First.Major_Music Performance</th>\n",
              "      <td>0.088437</td>\n",
              "    </tr>\n",
              "    <tr>\n",
              "      <th>First.Major_Chemistry</th>\n",
              "      <td>0.075508</td>\n",
              "    </tr>\n",
              "    <tr>\n",
              "      <th>First.Major_Mathematics &amp; Statistics</th>\n",
              "      <td>0.070682</td>\n",
              "    </tr>\n",
              "    <tr>\n",
              "      <th>First.Major_Management and Leadership</th>\n",
              "      <td>0.057693</td>\n",
              "    </tr>\n",
              "    <tr>\n",
              "      <th>First.Major_Information Systems</th>\n",
              "      <td>0.056130</td>\n",
              "    </tr>\n",
              "    <tr>\n",
              "      <th>First.Major_Marketing</th>\n",
              "      <td>0.026151</td>\n",
              "    </tr>\n",
              "    <tr>\n",
              "      <th>First.Major_Finance</th>\n",
              "      <td>0.025683</td>\n",
              "    </tr>\n",
              "    <tr>\n",
              "      <th>First.Major_Undeclared - Applied Science</th>\n",
              "      <td>0.021836</td>\n",
              "    </tr>\n",
              "    <tr>\n",
              "      <th>First.Major_Economics</th>\n",
              "      <td>0.016175</td>\n",
              "    </tr>\n",
              "    <tr>\n",
              "      <th>First.Major_Political Science</th>\n",
              "      <td>0.015381</td>\n",
              "    </tr>\n",
              "    <tr>\n",
              "      <th>First.Major_Biology</th>\n",
              "      <td>0.014009</td>\n",
              "    </tr>\n",
              "    <tr>\n",
              "      <th>First.Major_Premedical Studies</th>\n",
              "      <td>0.013207</td>\n",
              "    </tr>\n",
              "    <tr>\n",
              "      <th>First.Major_Supply Chain &amp; Operations Mgmt</th>\n",
              "      <td>0.012230</td>\n",
              "    </tr>\n",
              "    <tr>\n",
              "      <th>First.Major_International Studies</th>\n",
              "      <td>0.010394</td>\n",
              "    </tr>\n",
              "    <tr>\n",
              "      <th>First.Major_Psychology</th>\n",
              "      <td>0.008802</td>\n",
              "    </tr>\n",
              "    <tr>\n",
              "      <th>First.Major_Strategic Communication</th>\n",
              "      <td>0.008534</td>\n",
              "    </tr>\n",
              "    <tr>\n",
              "      <th>First.Major_Journalism</th>\n",
              "      <td>0.007548</td>\n",
              "    </tr>\n",
              "    <tr>\n",
              "      <th>First.Major_Sport Leadership &amp; Management</th>\n",
              "      <td>0.006797</td>\n",
              "    </tr>\n",
              "    <tr>\n",
              "      <th>First.Major_Mechanical Engineering</th>\n",
              "      <td>0.005173</td>\n",
              "    </tr>\n",
              "    <tr>\n",
              "      <th>First.Major_Communication Pre-Major</th>\n",
              "      <td>0.004182</td>\n",
              "    </tr>\n",
              "    <tr>\n",
              "      <th>First.Major_Kinesiology</th>\n",
              "      <td>0.003886</td>\n",
              "    </tr>\n",
              "    <tr>\n",
              "      <th>First.Major_Mathematics</th>\n",
              "      <td>0.003844</td>\n",
              "    </tr>\n",
              "    <tr>\n",
              "      <th>First.Major_Interdisciplinary Bus Managemt</th>\n",
              "      <td>0.003620</td>\n",
              "    </tr>\n",
              "    <tr>\n",
              "      <th>First.Major_Spanish</th>\n",
              "      <td>0.002705</td>\n",
              "    </tr>\n",
              "    <tr>\n",
              "      <th>First.Major_Theatre</th>\n",
              "      <td>0.002515</td>\n",
              "    </tr>\n",
              "    <tr>\n",
              "      <th>First.Major_Engineering Management</th>\n",
              "      <td>0.002503</td>\n",
              "    </tr>\n",
              "    <tr>\n",
              "      <th>First.Major_Quantitative Economics</th>\n",
              "      <td>0.002491</td>\n",
              "    </tr>\n",
              "    <tr>\n",
              "      <th>First.Major_General Engineering</th>\n",
              "      <td>0.002480</td>\n",
              "    </tr>\n",
              "    <tr>\n",
              "      <th>First.Major_Zoology</th>\n",
              "      <td>0.002477</td>\n",
              "    </tr>\n",
              "    <tr>\n",
              "      <th>First.Major_Graphic Design</th>\n",
              "      <td>0.002447</td>\n",
              "    </tr>\n",
              "    <tr>\n",
              "      <th>First.Major_Computer Science</th>\n",
              "      <td>0.002096</td>\n",
              "    </tr>\n",
              "    <tr>\n",
              "      <th>First.Major_Geography</th>\n",
              "      <td>0.001881</td>\n",
              "    </tr>\n",
              "    <tr>\n",
              "      <th>First.Major_Athletic Training</th>\n",
              "      <td>0.001561</td>\n",
              "    </tr>\n",
              "    <tr>\n",
              "      <th>First.Major_Interior Design</th>\n",
              "      <td>0.001493</td>\n",
              "    </tr>\n",
              "    <tr>\n",
              "      <th>First.Major_Major Undeclared</th>\n",
              "      <td>0.001473</td>\n",
              "    </tr>\n",
              "    <tr>\n",
              "      <th>First.Major_Music Education</th>\n",
              "      <td>0.001463</td>\n",
              "    </tr>\n",
              "    <tr>\n",
              "      <th>First.Major_Family Studies</th>\n",
              "      <td>0.001376</td>\n",
              "    </tr>\n",
              "    <tr>\n",
              "      <th>First.Major_Music</th>\n",
              "      <td>0.001346</td>\n",
              "    </tr>\n",
              "    <tr>\n",
              "      <th>First.Major_Special Education</th>\n",
              "      <td>0.001339</td>\n",
              "    </tr>\n",
              "    <tr>\n",
              "      <th>First.Major_German</th>\n",
              "      <td>0.001339</td>\n",
              "    </tr>\n",
              "    <tr>\n",
              "      <th>First.Major_East Asian Languages &amp; Culture</th>\n",
              "      <td>0.001310</td>\n",
              "    </tr>\n",
              "    <tr>\n",
              "      <th>First.Major_Individualized Studies</th>\n",
              "      <td>0.001308</td>\n",
              "    </tr>\n",
              "    <tr>\n",
              "      <th>First.Major_Software Engineering</th>\n",
              "      <td>0.001282</td>\n",
              "    </tr>\n",
              "    <tr>\n",
              "      <th>First.Major_Media and Culture</th>\n",
              "      <td>0.001270</td>\n",
              "    </tr>\n",
              "    <tr>\n",
              "      <th>First.Major_Philosophy</th>\n",
              "      <td>0.001265</td>\n",
              "    </tr>\n",
              "    <tr>\n",
              "      <th>First.Major_Statistics</th>\n",
              "      <td>0.001248</td>\n",
              "    </tr>\n",
              "    <tr>\n",
              "      <th>First.Major_Chemical Engineering</th>\n",
              "      <td>0.001233</td>\n",
              "    </tr>\n",
              "    <tr>\n",
              "      <th>First.Major_Biochemistry</th>\n",
              "      <td>0.001220</td>\n",
              "    </tr>\n",
              "    <tr>\n",
              "      <th>First.Major_Interactive Media Studies</th>\n",
              "      <td>0.001181</td>\n",
              "    </tr>\n",
              "    <tr>\n",
              "      <th>First.Major_Integrated Mathematics Edu</th>\n",
              "      <td>0.001140</td>\n",
              "    </tr>\n",
              "    <tr>\n",
              "      <th>First.Major_Diplomacy and Global Politics</th>\n",
              "      <td>0.001110</td>\n",
              "    </tr>\n",
              "    <tr>\n",
              "      <th>First.Major_Environmental Earth Science</th>\n",
              "      <td>0.001104</td>\n",
              "    </tr>\n",
              "    <tr>\n",
              "      <th>First.Major_Comparative Media Studies</th>\n",
              "      <td>0.001071</td>\n",
              "    </tr>\n",
              "    <tr>\n",
              "      <th>First.Major_Computer Engineering</th>\n",
              "      <td>0.001000</td>\n",
              "    </tr>\n",
              "    <tr>\n",
              "      <th>First.Major_Nutrition</th>\n",
              "      <td>0.000974</td>\n",
              "    </tr>\n",
              "  </tbody>\n",
              "</table>\n",
              "</div>\n",
              "      <button class=\"colab-df-convert\" onclick=\"convertToInteractive('df-238a0004-8838-45f4-9aaa-f5e6ab5edc0a')\"\n",
              "              title=\"Convert this dataframe to an interactive table.\"\n",
              "              style=\"display:none;\">\n",
              "        \n",
              "  <svg xmlns=\"http://www.w3.org/2000/svg\" height=\"24px\"viewBox=\"0 0 24 24\"\n",
              "       width=\"24px\">\n",
              "    <path d=\"M0 0h24v24H0V0z\" fill=\"none\"/>\n",
              "    <path d=\"M18.56 5.44l.94 2.06.94-2.06 2.06-.94-2.06-.94-.94-2.06-.94 2.06-2.06.94zm-11 1L8.5 8.5l.94-2.06 2.06-.94-2.06-.94L8.5 2.5l-.94 2.06-2.06.94zm10 10l.94 2.06.94-2.06 2.06-.94-2.06-.94-.94-2.06-.94 2.06-2.06.94z\"/><path d=\"M17.41 7.96l-1.37-1.37c-.4-.4-.92-.59-1.43-.59-.52 0-1.04.2-1.43.59L10.3 9.45l-7.72 7.72c-.78.78-.78 2.05 0 2.83L4 21.41c.39.39.9.59 1.41.59.51 0 1.02-.2 1.41-.59l7.78-7.78 2.81-2.81c.8-.78.8-2.07 0-2.86zM5.41 20L4 18.59l7.72-7.72 1.47 1.35L5.41 20z\"/>\n",
              "  </svg>\n",
              "      </button>\n",
              "      \n",
              "  <style>\n",
              "    .colab-df-container {\n",
              "      display:flex;\n",
              "      flex-wrap:wrap;\n",
              "      gap: 12px;\n",
              "    }\n",
              "\n",
              "    .colab-df-convert {\n",
              "      background-color: #E8F0FE;\n",
              "      border: none;\n",
              "      border-radius: 50%;\n",
              "      cursor: pointer;\n",
              "      display: none;\n",
              "      fill: #1967D2;\n",
              "      height: 32px;\n",
              "      padding: 0 0 0 0;\n",
              "      width: 32px;\n",
              "    }\n",
              "\n",
              "    .colab-df-convert:hover {\n",
              "      background-color: #E2EBFA;\n",
              "      box-shadow: 0px 1px 2px rgba(60, 64, 67, 0.3), 0px 1px 3px 1px rgba(60, 64, 67, 0.15);\n",
              "      fill: #174EA6;\n",
              "    }\n",
              "\n",
              "    [theme=dark] .colab-df-convert {\n",
              "      background-color: #3B4455;\n",
              "      fill: #D2E3FC;\n",
              "    }\n",
              "\n",
              "    [theme=dark] .colab-df-convert:hover {\n",
              "      background-color: #434B5C;\n",
              "      box-shadow: 0px 1px 3px 1px rgba(0, 0, 0, 0.15);\n",
              "      filter: drop-shadow(0px 1px 2px rgba(0, 0, 0, 0.3));\n",
              "      fill: #FFFFFF;\n",
              "    }\n",
              "  </style>\n",
              "\n",
              "      <script>\n",
              "        const buttonEl =\n",
              "          document.querySelector('#df-238a0004-8838-45f4-9aaa-f5e6ab5edc0a button.colab-df-convert');\n",
              "        buttonEl.style.display =\n",
              "          google.colab.kernel.accessAllowed ? 'block' : 'none';\n",
              "\n",
              "        async function convertToInteractive(key) {\n",
              "          const element = document.querySelector('#df-238a0004-8838-45f4-9aaa-f5e6ab5edc0a');\n",
              "          const dataTable =\n",
              "            await google.colab.kernel.invokeFunction('convertToInteractive',\n",
              "                                                     [key], {});\n",
              "          if (!dataTable) return;\n",
              "\n",
              "          const docLinkHtml = 'Like what you see? Visit the ' +\n",
              "            '<a target=\"_blank\" href=https://colab.research.google.com/notebooks/data_table.ipynb>data table notebook</a>'\n",
              "            + ' to learn more about interactive tables.';\n",
              "          element.innerHTML = '';\n",
              "          dataTable['output_type'] = 'display_data';\n",
              "          await google.colab.output.renderOutput(dataTable, element);\n",
              "          const docLink = document.createElement('div');\n",
              "          docLink.innerHTML = docLinkHtml;\n",
              "          element.appendChild(docLink);\n",
              "        }\n",
              "      </script>\n",
              "    </div>\n",
              "  </div>\n",
              "  "
            ]
          },
          "metadata": {},
          "execution_count": 225
        }
      ],
      "source": [
        "feature_importances2 = pd.DataFrame({'Variable' :df_to_collapse2.drop('Degree.Attained.Indicator', axis = 1).columns, 'Importance': rf2.feature_importances_})\n",
        "feature_importances2.set_index('Variable', inplace = True)\n",
        "feature_importances2 = feature_importances2.sort_values(by = 'Importance', ascending = False)\n",
        "feature_importances2"
      ]
    },
    {
      "cell_type": "code",
      "execution_count": null,
      "id": "4e2bbf71",
      "metadata": {
        "id": "4e2bbf71"
      },
      "outputs": [],
      "source": [
        "df['Business_Economics'] = (df[\"First.Major\"] == \"Business Economics\").astype('int')\n",
        "df['Undeclared_Bus'] = (df[\"First.Major\"] == \"Undeclared-Business\").astype('int')\n",
        "df['Undeclared'] = (df[\"First.Major\"] == \"University Studies\").astype('int')\n",
        "df['MusicPerformance'] = (df[\"First.Major\"] == \"Music Performance\").astype('int')\n",
        "df['Chemistry'] = (df[\"First.Major\"] == \"Chemistry\").astype('int')\n",
        "df['Mth_Stats'] = (df[\"First.Major\"] == \"Mathematics & Statistics\").astype('int')\n",
        "df['Mgt_Ldr'] = (df[\"First.Major\"] == \"Management and Leadership\").astype('int')\n",
        "df['Information_Systems'] = (df[\"First.Major\"] == \"Information Systems\").astype('int')"
      ]
    },
    {
      "cell_type": "code",
      "execution_count": null,
      "id": "a7cc4e4f",
      "metadata": {
        "id": "a7cc4e4f"
      },
      "outputs": [],
      "source": [
        "df.drop('First.Major', axis = 1, inplace = True)"
      ]
    },
    {
      "cell_type": "markdown",
      "id": "d40fe1d2",
      "metadata": {
        "id": "d40fe1d2"
      },
      "source": [
        "**The course variables will be collapsed and compared all together to decipher which courses are most important and least important in terms of the probabaility to influence graduation versus no graduation.**"
      ]
    },
    {
      "cell_type": "code",
      "execution_count": null,
      "id": "5ce93a97",
      "metadata": {
        "id": "5ce93a97"
      },
      "outputs": [],
      "source": [
        "df_to_collapse4 = df[['ACC221', 'ACC222', 'BLS342', 'CSE148', 'ECO201', 'ECO202', 'FIN301', 'Degree.Attained.Indicator']]"
      ]
    },
    {
      "cell_type": "code",
      "execution_count": null,
      "id": "29b7af4b",
      "metadata": {
        "colab": {
          "base_uri": "https://localhost:8080/",
          "height": 287
        },
        "id": "29b7af4b",
        "outputId": "5fa948d7-4d9f-4588-83a1-ad1f213726df"
      },
      "outputs": [
        {
          "output_type": "execute_result",
          "data": {
            "text/plain": [
              "   Degree.Attained.Indicator  ACC221_B  ACC221_C  ACC221_CR  ACC221_D  \\\n",
              "0                          1         0         0          0         0   \n",
              "1                          1         1         0          0         0   \n",
              "2                          1         0         1          0         0   \n",
              "3                          1         1         0          0         0   \n",
              "4                          0         0         0          0         0   \n",
              "\n",
              "   ACC221_F  ACC221_No CR  ACC221_W  ACC222_B  ACC222_C  ACC222_CR  ACC222_D  \\\n",
              "0         0             0         0         0         0          0         0   \n",
              "1         0             0         0         1         0          0         0   \n",
              "2         0             0         0         0         1          0         0   \n",
              "3         0             0         0         0         1          0         0   \n",
              "4         1             0         0         0         0          0         0   \n",
              "\n",
              "   ACC222_F  ACC222_No CR  ACC222_W  BLS342_B  BLS342_C  BLS342_CR  BLS342_D  \\\n",
              "0         0             0         0         0         0          0         0   \n",
              "1         0             0         0         0         0          1         0   \n",
              "2         0             0         0         0         0          0         0   \n",
              "3         0             0         0         1         0          0         0   \n",
              "4         0             0         1         0         0          0         0   \n",
              "\n",
              "   BLS342_F  BLS342_No CR  BLS342_W  CSE148_B  CSE148_C  CSE148_CR  CSE148_D  \\\n",
              "0         0             0         0         0         0          1         0   \n",
              "1         0             0         0         1         0          0         0   \n",
              "2         0             0         0         1         0          0         0   \n",
              "3         0             0         0         0         1          0         0   \n",
              "4         0             1         0         0         1          0         0   \n",
              "\n",
              "   CSE148_F  CSE148_No CR  CSE148_W  ECO201_Audit  ECO201_B  ECO201_C  \\\n",
              "0         0             0         0             0         0         0   \n",
              "1         0             0         0             0         0         0   \n",
              "2         0             0         0             0         1         0   \n",
              "3         0             0         0             0         1         0   \n",
              "4         0             0         0             0         0         0   \n",
              "\n",
              "   ECO201_CR  ECO201_D  ECO201_F  ECO201_No CR  ECO201_W  ECO202_Audit  \\\n",
              "0          0         0         0             0         0             0   \n",
              "1          1         0         0             0         0             0   \n",
              "2          0         0         0             0         0             0   \n",
              "3          0         0         0             0         0             0   \n",
              "4          0         0         0             1         0             0   \n",
              "\n",
              "   ECO202_B  ECO202_C  ECO202_CR  ECO202_D  ECO202_F  ECO202_No CR  ECO202_W  \\\n",
              "0         0         0          0         0         0             0         0   \n",
              "1         0         0          1         0         0             0         0   \n",
              "2         1         0          0         0         0             0         0   \n",
              "3         0         0          0         1         0             0         0   \n",
              "4         0         0          0         0         0             1         0   \n",
              "\n",
              "   FIN301_B  FIN301_C  FIN301_CR  FIN301_D  FIN301_F  FIN301_No CR  FIN301_W  \n",
              "0         0         0          0         0         0             0         0  \n",
              "1         0         1          0         0         0             0         0  \n",
              "2         0         0          0         0         0             0         1  \n",
              "3         0         0          0         0         0             0         1  \n",
              "4         0         0          0         0         0             1         0  "
            ],
            "text/html": [
              "\n",
              "  <div id=\"df-2b325443-1492-4fa7-9d5e-7a41a0599b95\">\n",
              "    <div class=\"colab-df-container\">\n",
              "      <div>\n",
              "<style scoped>\n",
              "    .dataframe tbody tr th:only-of-type {\n",
              "        vertical-align: middle;\n",
              "    }\n",
              "\n",
              "    .dataframe tbody tr th {\n",
              "        vertical-align: top;\n",
              "    }\n",
              "\n",
              "    .dataframe thead th {\n",
              "        text-align: right;\n",
              "    }\n",
              "</style>\n",
              "<table border=\"1\" class=\"dataframe\">\n",
              "  <thead>\n",
              "    <tr style=\"text-align: right;\">\n",
              "      <th></th>\n",
              "      <th>Degree.Attained.Indicator</th>\n",
              "      <th>ACC221_B</th>\n",
              "      <th>ACC221_C</th>\n",
              "      <th>ACC221_CR</th>\n",
              "      <th>ACC221_D</th>\n",
              "      <th>ACC221_F</th>\n",
              "      <th>ACC221_No CR</th>\n",
              "      <th>ACC221_W</th>\n",
              "      <th>ACC222_B</th>\n",
              "      <th>ACC222_C</th>\n",
              "      <th>ACC222_CR</th>\n",
              "      <th>ACC222_D</th>\n",
              "      <th>ACC222_F</th>\n",
              "      <th>ACC222_No CR</th>\n",
              "      <th>ACC222_W</th>\n",
              "      <th>BLS342_B</th>\n",
              "      <th>BLS342_C</th>\n",
              "      <th>BLS342_CR</th>\n",
              "      <th>BLS342_D</th>\n",
              "      <th>BLS342_F</th>\n",
              "      <th>BLS342_No CR</th>\n",
              "      <th>BLS342_W</th>\n",
              "      <th>CSE148_B</th>\n",
              "      <th>CSE148_C</th>\n",
              "      <th>CSE148_CR</th>\n",
              "      <th>CSE148_D</th>\n",
              "      <th>CSE148_F</th>\n",
              "      <th>CSE148_No CR</th>\n",
              "      <th>CSE148_W</th>\n",
              "      <th>ECO201_Audit</th>\n",
              "      <th>ECO201_B</th>\n",
              "      <th>ECO201_C</th>\n",
              "      <th>ECO201_CR</th>\n",
              "      <th>ECO201_D</th>\n",
              "      <th>ECO201_F</th>\n",
              "      <th>ECO201_No CR</th>\n",
              "      <th>ECO201_W</th>\n",
              "      <th>ECO202_Audit</th>\n",
              "      <th>ECO202_B</th>\n",
              "      <th>ECO202_C</th>\n",
              "      <th>ECO202_CR</th>\n",
              "      <th>ECO202_D</th>\n",
              "      <th>ECO202_F</th>\n",
              "      <th>ECO202_No CR</th>\n",
              "      <th>ECO202_W</th>\n",
              "      <th>FIN301_B</th>\n",
              "      <th>FIN301_C</th>\n",
              "      <th>FIN301_CR</th>\n",
              "      <th>FIN301_D</th>\n",
              "      <th>FIN301_F</th>\n",
              "      <th>FIN301_No CR</th>\n",
              "      <th>FIN301_W</th>\n",
              "    </tr>\n",
              "  </thead>\n",
              "  <tbody>\n",
              "    <tr>\n",
              "      <th>0</th>\n",
              "      <td>1</td>\n",
              "      <td>0</td>\n",
              "      <td>0</td>\n",
              "      <td>0</td>\n",
              "      <td>0</td>\n",
              "      <td>0</td>\n",
              "      <td>0</td>\n",
              "      <td>0</td>\n",
              "      <td>0</td>\n",
              "      <td>0</td>\n",
              "      <td>0</td>\n",
              "      <td>0</td>\n",
              "      <td>0</td>\n",
              "      <td>0</td>\n",
              "      <td>0</td>\n",
              "      <td>0</td>\n",
              "      <td>0</td>\n",
              "      <td>0</td>\n",
              "      <td>0</td>\n",
              "      <td>0</td>\n",
              "      <td>0</td>\n",
              "      <td>0</td>\n",
              "      <td>0</td>\n",
              "      <td>0</td>\n",
              "      <td>1</td>\n",
              "      <td>0</td>\n",
              "      <td>0</td>\n",
              "      <td>0</td>\n",
              "      <td>0</td>\n",
              "      <td>0</td>\n",
              "      <td>0</td>\n",
              "      <td>0</td>\n",
              "      <td>0</td>\n",
              "      <td>0</td>\n",
              "      <td>0</td>\n",
              "      <td>0</td>\n",
              "      <td>0</td>\n",
              "      <td>0</td>\n",
              "      <td>0</td>\n",
              "      <td>0</td>\n",
              "      <td>0</td>\n",
              "      <td>0</td>\n",
              "      <td>0</td>\n",
              "      <td>0</td>\n",
              "      <td>0</td>\n",
              "      <td>0</td>\n",
              "      <td>0</td>\n",
              "      <td>0</td>\n",
              "      <td>0</td>\n",
              "      <td>0</td>\n",
              "      <td>0</td>\n",
              "      <td>0</td>\n",
              "    </tr>\n",
              "    <tr>\n",
              "      <th>1</th>\n",
              "      <td>1</td>\n",
              "      <td>1</td>\n",
              "      <td>0</td>\n",
              "      <td>0</td>\n",
              "      <td>0</td>\n",
              "      <td>0</td>\n",
              "      <td>0</td>\n",
              "      <td>0</td>\n",
              "      <td>1</td>\n",
              "      <td>0</td>\n",
              "      <td>0</td>\n",
              "      <td>0</td>\n",
              "      <td>0</td>\n",
              "      <td>0</td>\n",
              "      <td>0</td>\n",
              "      <td>0</td>\n",
              "      <td>0</td>\n",
              "      <td>1</td>\n",
              "      <td>0</td>\n",
              "      <td>0</td>\n",
              "      <td>0</td>\n",
              "      <td>0</td>\n",
              "      <td>1</td>\n",
              "      <td>0</td>\n",
              "      <td>0</td>\n",
              "      <td>0</td>\n",
              "      <td>0</td>\n",
              "      <td>0</td>\n",
              "      <td>0</td>\n",
              "      <td>0</td>\n",
              "      <td>0</td>\n",
              "      <td>0</td>\n",
              "      <td>1</td>\n",
              "      <td>0</td>\n",
              "      <td>0</td>\n",
              "      <td>0</td>\n",
              "      <td>0</td>\n",
              "      <td>0</td>\n",
              "      <td>0</td>\n",
              "      <td>0</td>\n",
              "      <td>1</td>\n",
              "      <td>0</td>\n",
              "      <td>0</td>\n",
              "      <td>0</td>\n",
              "      <td>0</td>\n",
              "      <td>0</td>\n",
              "      <td>1</td>\n",
              "      <td>0</td>\n",
              "      <td>0</td>\n",
              "      <td>0</td>\n",
              "      <td>0</td>\n",
              "      <td>0</td>\n",
              "    </tr>\n",
              "    <tr>\n",
              "      <th>2</th>\n",
              "      <td>1</td>\n",
              "      <td>0</td>\n",
              "      <td>1</td>\n",
              "      <td>0</td>\n",
              "      <td>0</td>\n",
              "      <td>0</td>\n",
              "      <td>0</td>\n",
              "      <td>0</td>\n",
              "      <td>0</td>\n",
              "      <td>1</td>\n",
              "      <td>0</td>\n",
              "      <td>0</td>\n",
              "      <td>0</td>\n",
              "      <td>0</td>\n",
              "      <td>0</td>\n",
              "      <td>0</td>\n",
              "      <td>0</td>\n",
              "      <td>0</td>\n",
              "      <td>0</td>\n",
              "      <td>0</td>\n",
              "      <td>0</td>\n",
              "      <td>0</td>\n",
              "      <td>1</td>\n",
              "      <td>0</td>\n",
              "      <td>0</td>\n",
              "      <td>0</td>\n",
              "      <td>0</td>\n",
              "      <td>0</td>\n",
              "      <td>0</td>\n",
              "      <td>0</td>\n",
              "      <td>1</td>\n",
              "      <td>0</td>\n",
              "      <td>0</td>\n",
              "      <td>0</td>\n",
              "      <td>0</td>\n",
              "      <td>0</td>\n",
              "      <td>0</td>\n",
              "      <td>0</td>\n",
              "      <td>1</td>\n",
              "      <td>0</td>\n",
              "      <td>0</td>\n",
              "      <td>0</td>\n",
              "      <td>0</td>\n",
              "      <td>0</td>\n",
              "      <td>0</td>\n",
              "      <td>0</td>\n",
              "      <td>0</td>\n",
              "      <td>0</td>\n",
              "      <td>0</td>\n",
              "      <td>0</td>\n",
              "      <td>0</td>\n",
              "      <td>1</td>\n",
              "    </tr>\n",
              "    <tr>\n",
              "      <th>3</th>\n",
              "      <td>1</td>\n",
              "      <td>1</td>\n",
              "      <td>0</td>\n",
              "      <td>0</td>\n",
              "      <td>0</td>\n",
              "      <td>0</td>\n",
              "      <td>0</td>\n",
              "      <td>0</td>\n",
              "      <td>0</td>\n",
              "      <td>1</td>\n",
              "      <td>0</td>\n",
              "      <td>0</td>\n",
              "      <td>0</td>\n",
              "      <td>0</td>\n",
              "      <td>0</td>\n",
              "      <td>1</td>\n",
              "      <td>0</td>\n",
              "      <td>0</td>\n",
              "      <td>0</td>\n",
              "      <td>0</td>\n",
              "      <td>0</td>\n",
              "      <td>0</td>\n",
              "      <td>0</td>\n",
              "      <td>1</td>\n",
              "      <td>0</td>\n",
              "      <td>0</td>\n",
              "      <td>0</td>\n",
              "      <td>0</td>\n",
              "      <td>0</td>\n",
              "      <td>0</td>\n",
              "      <td>1</td>\n",
              "      <td>0</td>\n",
              "      <td>0</td>\n",
              "      <td>0</td>\n",
              "      <td>0</td>\n",
              "      <td>0</td>\n",
              "      <td>0</td>\n",
              "      <td>0</td>\n",
              "      <td>0</td>\n",
              "      <td>0</td>\n",
              "      <td>0</td>\n",
              "      <td>1</td>\n",
              "      <td>0</td>\n",
              "      <td>0</td>\n",
              "      <td>0</td>\n",
              "      <td>0</td>\n",
              "      <td>0</td>\n",
              "      <td>0</td>\n",
              "      <td>0</td>\n",
              "      <td>0</td>\n",
              "      <td>0</td>\n",
              "      <td>1</td>\n",
              "    </tr>\n",
              "    <tr>\n",
              "      <th>4</th>\n",
              "      <td>0</td>\n",
              "      <td>0</td>\n",
              "      <td>0</td>\n",
              "      <td>0</td>\n",
              "      <td>0</td>\n",
              "      <td>1</td>\n",
              "      <td>0</td>\n",
              "      <td>0</td>\n",
              "      <td>0</td>\n",
              "      <td>0</td>\n",
              "      <td>0</td>\n",
              "      <td>0</td>\n",
              "      <td>0</td>\n",
              "      <td>0</td>\n",
              "      <td>1</td>\n",
              "      <td>0</td>\n",
              "      <td>0</td>\n",
              "      <td>0</td>\n",
              "      <td>0</td>\n",
              "      <td>0</td>\n",
              "      <td>1</td>\n",
              "      <td>0</td>\n",
              "      <td>0</td>\n",
              "      <td>1</td>\n",
              "      <td>0</td>\n",
              "      <td>0</td>\n",
              "      <td>0</td>\n",
              "      <td>0</td>\n",
              "      <td>0</td>\n",
              "      <td>0</td>\n",
              "      <td>0</td>\n",
              "      <td>0</td>\n",
              "      <td>0</td>\n",
              "      <td>0</td>\n",
              "      <td>0</td>\n",
              "      <td>1</td>\n",
              "      <td>0</td>\n",
              "      <td>0</td>\n",
              "      <td>0</td>\n",
              "      <td>0</td>\n",
              "      <td>0</td>\n",
              "      <td>0</td>\n",
              "      <td>0</td>\n",
              "      <td>1</td>\n",
              "      <td>0</td>\n",
              "      <td>0</td>\n",
              "      <td>0</td>\n",
              "      <td>0</td>\n",
              "      <td>0</td>\n",
              "      <td>0</td>\n",
              "      <td>1</td>\n",
              "      <td>0</td>\n",
              "    </tr>\n",
              "  </tbody>\n",
              "</table>\n",
              "</div>\n",
              "      <button class=\"colab-df-convert\" onclick=\"convertToInteractive('df-2b325443-1492-4fa7-9d5e-7a41a0599b95')\"\n",
              "              title=\"Convert this dataframe to an interactive table.\"\n",
              "              style=\"display:none;\">\n",
              "        \n",
              "  <svg xmlns=\"http://www.w3.org/2000/svg\" height=\"24px\"viewBox=\"0 0 24 24\"\n",
              "       width=\"24px\">\n",
              "    <path d=\"M0 0h24v24H0V0z\" fill=\"none\"/>\n",
              "    <path d=\"M18.56 5.44l.94 2.06.94-2.06 2.06-.94-2.06-.94-.94-2.06-.94 2.06-2.06.94zm-11 1L8.5 8.5l.94-2.06 2.06-.94-2.06-.94L8.5 2.5l-.94 2.06-2.06.94zm10 10l.94 2.06.94-2.06 2.06-.94-2.06-.94-.94-2.06-.94 2.06-2.06.94z\"/><path d=\"M17.41 7.96l-1.37-1.37c-.4-.4-.92-.59-1.43-.59-.52 0-1.04.2-1.43.59L10.3 9.45l-7.72 7.72c-.78.78-.78 2.05 0 2.83L4 21.41c.39.39.9.59 1.41.59.51 0 1.02-.2 1.41-.59l7.78-7.78 2.81-2.81c.8-.78.8-2.07 0-2.86zM5.41 20L4 18.59l7.72-7.72 1.47 1.35L5.41 20z\"/>\n",
              "  </svg>\n",
              "      </button>\n",
              "      \n",
              "  <style>\n",
              "    .colab-df-container {\n",
              "      display:flex;\n",
              "      flex-wrap:wrap;\n",
              "      gap: 12px;\n",
              "    }\n",
              "\n",
              "    .colab-df-convert {\n",
              "      background-color: #E8F0FE;\n",
              "      border: none;\n",
              "      border-radius: 50%;\n",
              "      cursor: pointer;\n",
              "      display: none;\n",
              "      fill: #1967D2;\n",
              "      height: 32px;\n",
              "      padding: 0 0 0 0;\n",
              "      width: 32px;\n",
              "    }\n",
              "\n",
              "    .colab-df-convert:hover {\n",
              "      background-color: #E2EBFA;\n",
              "      box-shadow: 0px 1px 2px rgba(60, 64, 67, 0.3), 0px 1px 3px 1px rgba(60, 64, 67, 0.15);\n",
              "      fill: #174EA6;\n",
              "    }\n",
              "\n",
              "    [theme=dark] .colab-df-convert {\n",
              "      background-color: #3B4455;\n",
              "      fill: #D2E3FC;\n",
              "    }\n",
              "\n",
              "    [theme=dark] .colab-df-convert:hover {\n",
              "      background-color: #434B5C;\n",
              "      box-shadow: 0px 1px 3px 1px rgba(0, 0, 0, 0.15);\n",
              "      filter: drop-shadow(0px 1px 2px rgba(0, 0, 0, 0.3));\n",
              "      fill: #FFFFFF;\n",
              "    }\n",
              "  </style>\n",
              "\n",
              "      <script>\n",
              "        const buttonEl =\n",
              "          document.querySelector('#df-2b325443-1492-4fa7-9d5e-7a41a0599b95 button.colab-df-convert');\n",
              "        buttonEl.style.display =\n",
              "          google.colab.kernel.accessAllowed ? 'block' : 'none';\n",
              "\n",
              "        async function convertToInteractive(key) {\n",
              "          const element = document.querySelector('#df-2b325443-1492-4fa7-9d5e-7a41a0599b95');\n",
              "          const dataTable =\n",
              "            await google.colab.kernel.invokeFunction('convertToInteractive',\n",
              "                                                     [key], {});\n",
              "          if (!dataTable) return;\n",
              "\n",
              "          const docLinkHtml = 'Like what you see? Visit the ' +\n",
              "            '<a target=\"_blank\" href=https://colab.research.google.com/notebooks/data_table.ipynb>data table notebook</a>'\n",
              "            + ' to learn more about interactive tables.';\n",
              "          element.innerHTML = '';\n",
              "          dataTable['output_type'] = 'display_data';\n",
              "          await google.colab.output.renderOutput(dataTable, element);\n",
              "          const docLink = document.createElement('div');\n",
              "          docLink.innerHTML = docLinkHtml;\n",
              "          element.appendChild(docLink);\n",
              "        }\n",
              "      </script>\n",
              "    </div>\n",
              "  </div>\n",
              "  "
            ]
          },
          "metadata": {},
          "execution_count": 229
        }
      ],
      "source": [
        "df_to_collapse4 = pd.get_dummies(df_to_collapse4, drop_first = True)\n",
        "df_to_collapse4.head()"
      ]
    },
    {
      "cell_type": "code",
      "execution_count": null,
      "id": "accc75b2",
      "metadata": {
        "id": "accc75b2"
      },
      "outputs": [],
      "source": [
        "df_to_collapse4 = df_to_collapse4.drop(['ACC221_CR', 'ACC221_No CR', 'ACC222_CR', 'ACC222_No CR', 'BLS342_CR', 'BLS342_No CR', 'CSE148_CR', 'CSE148_No CR', 'ECO201_CR', 'ECO201_No CR', 'ECO201_Audit', 'ECO202_CR', 'ECO202_No CR', 'ECO202_Audit', 'FIN301_CR', 'FIN301_No CR'], axis=1)"
      ]
    },
    {
      "cell_type": "code",
      "execution_count": null,
      "id": "3f92c52a",
      "metadata": {
        "colab": {
          "base_uri": "https://localhost:8080/"
        },
        "id": "3f92c52a",
        "outputId": "7ff07908-3413-4a85-a786-c3da820571c1"
      },
      "outputs": [
        {
          "output_type": "execute_result",
          "data": {
            "text/plain": [
              "RandomForestClassifier(random_state=50)"
            ]
          },
          "metadata": {},
          "execution_count": 231
        }
      ],
      "source": [
        "rf4 = RandomForestClassifier(random_state = 50)\n",
        "rf4.fit(df_to_collapse4.drop('Degree.Attained.Indicator', axis=1), df_to_collapse4['Degree.Attained.Indicator'])"
      ]
    },
    {
      "cell_type": "code",
      "execution_count": null,
      "id": "ee901d5d",
      "metadata": {
        "colab": {
          "base_uri": "https://localhost:8080/",
          "height": 1000
        },
        "id": "ee901d5d",
        "outputId": "12be663e-06ef-4e4c-b344-beb8a49d1c11"
      },
      "outputs": [
        {
          "output_type": "execute_result",
          "data": {
            "text/plain": [
              "          Importance\n",
              "Variable            \n",
              "BLS342_B    0.094055\n",
              "ACC222_B    0.061906\n",
              "FIN301_B    0.060961\n",
              "CSE148_F    0.052421\n",
              "CSE148_B    0.052291\n",
              "ECO202_B    0.045584\n",
              "ECO201_B    0.045481\n",
              "CSE148_C    0.042937\n",
              "BLS342_C    0.042824\n",
              "ACC221_B    0.037681\n",
              "ACC221_W    0.036678\n",
              "ECO201_C    0.034909\n",
              "FIN301_C    0.034280\n",
              "ACC221_C    0.033314\n",
              "ACC222_C    0.027703\n",
              "FIN301_W    0.026719\n",
              "ACC222_D    0.023864\n",
              "ACC221_D    0.023272\n",
              "CSE148_W    0.023143\n",
              "BLS342_F    0.022892\n",
              "ECO201_D    0.020150\n",
              "CSE148_D    0.017619\n",
              "ECO202_C    0.016769\n",
              "FIN301_D    0.014046\n",
              "ECO201_F    0.013900\n",
              "ACC222_W    0.012749\n",
              "ACC221_F    0.012347\n",
              "FIN301_F    0.011598\n",
              "BLS342_D    0.011200\n",
              "ECO201_W    0.011027\n",
              "BLS342_W    0.010494\n",
              "ECO202_D    0.008472\n",
              "ECO202_F    0.008352\n",
              "ECO202_W    0.004202\n",
              "ACC222_F    0.004163"
            ],
            "text/html": [
              "\n",
              "  <div id=\"df-e75e792f-4f01-47a4-a8c5-9f8ce2f0d596\">\n",
              "    <div class=\"colab-df-container\">\n",
              "      <div>\n",
              "<style scoped>\n",
              "    .dataframe tbody tr th:only-of-type {\n",
              "        vertical-align: middle;\n",
              "    }\n",
              "\n",
              "    .dataframe tbody tr th {\n",
              "        vertical-align: top;\n",
              "    }\n",
              "\n",
              "    .dataframe thead th {\n",
              "        text-align: right;\n",
              "    }\n",
              "</style>\n",
              "<table border=\"1\" class=\"dataframe\">\n",
              "  <thead>\n",
              "    <tr style=\"text-align: right;\">\n",
              "      <th></th>\n",
              "      <th>Importance</th>\n",
              "    </tr>\n",
              "    <tr>\n",
              "      <th>Variable</th>\n",
              "      <th></th>\n",
              "    </tr>\n",
              "  </thead>\n",
              "  <tbody>\n",
              "    <tr>\n",
              "      <th>BLS342_B</th>\n",
              "      <td>0.094055</td>\n",
              "    </tr>\n",
              "    <tr>\n",
              "      <th>ACC222_B</th>\n",
              "      <td>0.061906</td>\n",
              "    </tr>\n",
              "    <tr>\n",
              "      <th>FIN301_B</th>\n",
              "      <td>0.060961</td>\n",
              "    </tr>\n",
              "    <tr>\n",
              "      <th>CSE148_F</th>\n",
              "      <td>0.052421</td>\n",
              "    </tr>\n",
              "    <tr>\n",
              "      <th>CSE148_B</th>\n",
              "      <td>0.052291</td>\n",
              "    </tr>\n",
              "    <tr>\n",
              "      <th>ECO202_B</th>\n",
              "      <td>0.045584</td>\n",
              "    </tr>\n",
              "    <tr>\n",
              "      <th>ECO201_B</th>\n",
              "      <td>0.045481</td>\n",
              "    </tr>\n",
              "    <tr>\n",
              "      <th>CSE148_C</th>\n",
              "      <td>0.042937</td>\n",
              "    </tr>\n",
              "    <tr>\n",
              "      <th>BLS342_C</th>\n",
              "      <td>0.042824</td>\n",
              "    </tr>\n",
              "    <tr>\n",
              "      <th>ACC221_B</th>\n",
              "      <td>0.037681</td>\n",
              "    </tr>\n",
              "    <tr>\n",
              "      <th>ACC221_W</th>\n",
              "      <td>0.036678</td>\n",
              "    </tr>\n",
              "    <tr>\n",
              "      <th>ECO201_C</th>\n",
              "      <td>0.034909</td>\n",
              "    </tr>\n",
              "    <tr>\n",
              "      <th>FIN301_C</th>\n",
              "      <td>0.034280</td>\n",
              "    </tr>\n",
              "    <tr>\n",
              "      <th>ACC221_C</th>\n",
              "      <td>0.033314</td>\n",
              "    </tr>\n",
              "    <tr>\n",
              "      <th>ACC222_C</th>\n",
              "      <td>0.027703</td>\n",
              "    </tr>\n",
              "    <tr>\n",
              "      <th>FIN301_W</th>\n",
              "      <td>0.026719</td>\n",
              "    </tr>\n",
              "    <tr>\n",
              "      <th>ACC222_D</th>\n",
              "      <td>0.023864</td>\n",
              "    </tr>\n",
              "    <tr>\n",
              "      <th>ACC221_D</th>\n",
              "      <td>0.023272</td>\n",
              "    </tr>\n",
              "    <tr>\n",
              "      <th>CSE148_W</th>\n",
              "      <td>0.023143</td>\n",
              "    </tr>\n",
              "    <tr>\n",
              "      <th>BLS342_F</th>\n",
              "      <td>0.022892</td>\n",
              "    </tr>\n",
              "    <tr>\n",
              "      <th>ECO201_D</th>\n",
              "      <td>0.020150</td>\n",
              "    </tr>\n",
              "    <tr>\n",
              "      <th>CSE148_D</th>\n",
              "      <td>0.017619</td>\n",
              "    </tr>\n",
              "    <tr>\n",
              "      <th>ECO202_C</th>\n",
              "      <td>0.016769</td>\n",
              "    </tr>\n",
              "    <tr>\n",
              "      <th>FIN301_D</th>\n",
              "      <td>0.014046</td>\n",
              "    </tr>\n",
              "    <tr>\n",
              "      <th>ECO201_F</th>\n",
              "      <td>0.013900</td>\n",
              "    </tr>\n",
              "    <tr>\n",
              "      <th>ACC222_W</th>\n",
              "      <td>0.012749</td>\n",
              "    </tr>\n",
              "    <tr>\n",
              "      <th>ACC221_F</th>\n",
              "      <td>0.012347</td>\n",
              "    </tr>\n",
              "    <tr>\n",
              "      <th>FIN301_F</th>\n",
              "      <td>0.011598</td>\n",
              "    </tr>\n",
              "    <tr>\n",
              "      <th>BLS342_D</th>\n",
              "      <td>0.011200</td>\n",
              "    </tr>\n",
              "    <tr>\n",
              "      <th>ECO201_W</th>\n",
              "      <td>0.011027</td>\n",
              "    </tr>\n",
              "    <tr>\n",
              "      <th>BLS342_W</th>\n",
              "      <td>0.010494</td>\n",
              "    </tr>\n",
              "    <tr>\n",
              "      <th>ECO202_D</th>\n",
              "      <td>0.008472</td>\n",
              "    </tr>\n",
              "    <tr>\n",
              "      <th>ECO202_F</th>\n",
              "      <td>0.008352</td>\n",
              "    </tr>\n",
              "    <tr>\n",
              "      <th>ECO202_W</th>\n",
              "      <td>0.004202</td>\n",
              "    </tr>\n",
              "    <tr>\n",
              "      <th>ACC222_F</th>\n",
              "      <td>0.004163</td>\n",
              "    </tr>\n",
              "  </tbody>\n",
              "</table>\n",
              "</div>\n",
              "      <button class=\"colab-df-convert\" onclick=\"convertToInteractive('df-e75e792f-4f01-47a4-a8c5-9f8ce2f0d596')\"\n",
              "              title=\"Convert this dataframe to an interactive table.\"\n",
              "              style=\"display:none;\">\n",
              "        \n",
              "  <svg xmlns=\"http://www.w3.org/2000/svg\" height=\"24px\"viewBox=\"0 0 24 24\"\n",
              "       width=\"24px\">\n",
              "    <path d=\"M0 0h24v24H0V0z\" fill=\"none\"/>\n",
              "    <path d=\"M18.56 5.44l.94 2.06.94-2.06 2.06-.94-2.06-.94-.94-2.06-.94 2.06-2.06.94zm-11 1L8.5 8.5l.94-2.06 2.06-.94-2.06-.94L8.5 2.5l-.94 2.06-2.06.94zm10 10l.94 2.06.94-2.06 2.06-.94-2.06-.94-.94-2.06-.94 2.06-2.06.94z\"/><path d=\"M17.41 7.96l-1.37-1.37c-.4-.4-.92-.59-1.43-.59-.52 0-1.04.2-1.43.59L10.3 9.45l-7.72 7.72c-.78.78-.78 2.05 0 2.83L4 21.41c.39.39.9.59 1.41.59.51 0 1.02-.2 1.41-.59l7.78-7.78 2.81-2.81c.8-.78.8-2.07 0-2.86zM5.41 20L4 18.59l7.72-7.72 1.47 1.35L5.41 20z\"/>\n",
              "  </svg>\n",
              "      </button>\n",
              "      \n",
              "  <style>\n",
              "    .colab-df-container {\n",
              "      display:flex;\n",
              "      flex-wrap:wrap;\n",
              "      gap: 12px;\n",
              "    }\n",
              "\n",
              "    .colab-df-convert {\n",
              "      background-color: #E8F0FE;\n",
              "      border: none;\n",
              "      border-radius: 50%;\n",
              "      cursor: pointer;\n",
              "      display: none;\n",
              "      fill: #1967D2;\n",
              "      height: 32px;\n",
              "      padding: 0 0 0 0;\n",
              "      width: 32px;\n",
              "    }\n",
              "\n",
              "    .colab-df-convert:hover {\n",
              "      background-color: #E2EBFA;\n",
              "      box-shadow: 0px 1px 2px rgba(60, 64, 67, 0.3), 0px 1px 3px 1px rgba(60, 64, 67, 0.15);\n",
              "      fill: #174EA6;\n",
              "    }\n",
              "\n",
              "    [theme=dark] .colab-df-convert {\n",
              "      background-color: #3B4455;\n",
              "      fill: #D2E3FC;\n",
              "    }\n",
              "\n",
              "    [theme=dark] .colab-df-convert:hover {\n",
              "      background-color: #434B5C;\n",
              "      box-shadow: 0px 1px 3px 1px rgba(0, 0, 0, 0.15);\n",
              "      filter: drop-shadow(0px 1px 2px rgba(0, 0, 0, 0.3));\n",
              "      fill: #FFFFFF;\n",
              "    }\n",
              "  </style>\n",
              "\n",
              "      <script>\n",
              "        const buttonEl =\n",
              "          document.querySelector('#df-e75e792f-4f01-47a4-a8c5-9f8ce2f0d596 button.colab-df-convert');\n",
              "        buttonEl.style.display =\n",
              "          google.colab.kernel.accessAllowed ? 'block' : 'none';\n",
              "\n",
              "        async function convertToInteractive(key) {\n",
              "          const element = document.querySelector('#df-e75e792f-4f01-47a4-a8c5-9f8ce2f0d596');\n",
              "          const dataTable =\n",
              "            await google.colab.kernel.invokeFunction('convertToInteractive',\n",
              "                                                     [key], {});\n",
              "          if (!dataTable) return;\n",
              "\n",
              "          const docLinkHtml = 'Like what you see? Visit the ' +\n",
              "            '<a target=\"_blank\" href=https://colab.research.google.com/notebooks/data_table.ipynb>data table notebook</a>'\n",
              "            + ' to learn more about interactive tables.';\n",
              "          element.innerHTML = '';\n",
              "          dataTable['output_type'] = 'display_data';\n",
              "          await google.colab.output.renderOutput(dataTable, element);\n",
              "          const docLink = document.createElement('div');\n",
              "          docLink.innerHTML = docLinkHtml;\n",
              "          element.appendChild(docLink);\n",
              "        }\n",
              "      </script>\n",
              "    </div>\n",
              "  </div>\n",
              "  "
            ]
          },
          "metadata": {},
          "execution_count": 232
        }
      ],
      "source": [
        "feature_importances4 = pd.DataFrame({'Variable' :df_to_collapse4.drop('Degree.Attained.Indicator', axis = 1).columns, 'Importance': rf4.feature_importances_})\n",
        "feature_importances4.set_index('Variable', inplace = True)\n",
        "feature_importances4 = feature_importances4.sort_values(by = 'Importance', ascending = False)\n",
        "feature_importances4"
      ]
    },
    {
      "cell_type": "code",
      "execution_count": null,
      "id": "299d3c4e",
      "metadata": {
        "id": "299d3c4e"
      },
      "outputs": [],
      "source": [
        "df['BLS342_B'] = (df[\"BLS342\"] == \"BLS342_B\").astype('int')\n",
        "df['ACC222_B'] = (df[\"ACC222\"] == \"ACC222_B\").astype('int')\n",
        "df['FIN301_B'] = (df[\"FIN301\"] == \"FIN301_B\").astype('int')\n",
        "df['CSE148_F'] = (df[\"CSE148\"] == \"CSE148_F\").astype('int')"
      ]
    },
    {
      "cell_type": "code",
      "execution_count": null,
      "id": "73d56c5f",
      "metadata": {
        "id": "73d56c5f"
      },
      "outputs": [],
      "source": [
        "df.drop(['BLS342', 'ECO201', 'ECO202', 'FIN301', 'CSE148', 'ACC221', 'ACC222'], axis = 1, inplace = True) #drop the initial columns"
      ]
    },
    {
      "cell_type": "code",
      "execution_count": null,
      "id": "5884e4db",
      "metadata": {
        "colab": {
          "base_uri": "https://localhost:8080/"
        },
        "id": "5884e4db",
        "outputId": "7bef1017-612c-4163-d850-0ba6d611a214"
      },
      "outputs": [
        {
          "output_type": "stream",
          "name": "stdout",
          "text": [
            "<class 'pandas.core.frame.DataFrame'>\n",
            "RangeIndex: 1047 entries, 0 to 1046\n",
            "Data columns (total 20 columns):\n",
            " #   Column                         Non-Null Count  Dtype  \n",
            "---  ------                         --------------  -----  \n",
            " 0   CT.First.Semester.GPA.Average  1047 non-null   float64\n",
            " 1   CT.BEST                        1047 non-null   int64  \n",
            " 2   Degree.Attained.Indicator      1047 non-null   int64  \n",
            " 3   CT.Residency                   1047 non-null   object \n",
            " 4   CT.Honors.Student              1047 non-null   object \n",
            " 5   Term.Count.Greek               1047 non-null   int64  \n",
            " 6   Major.Changes                  1047 non-null   int64  \n",
            " 7   Distance                       1047 non-null   float64\n",
            " 8   Business_Economics             1047 non-null   int64  \n",
            " 9   Undeclared_Bus                 1047 non-null   int64  \n",
            " 10  Undeclared                     1047 non-null   int64  \n",
            " 11  MusicPerformance               1047 non-null   int64  \n",
            " 12  Chemistry                      1047 non-null   int64  \n",
            " 13  Mth_Stats                      1047 non-null   int64  \n",
            " 14  Mgt_Ldr                        1047 non-null   int64  \n",
            " 15  Information_Systems            1047 non-null   int64  \n",
            " 16  BLS342_B                       1047 non-null   int64  \n",
            " 17  ACC222_B                       1047 non-null   int64  \n",
            " 18  FIN301_B                       1047 non-null   int64  \n",
            " 19  CSE148_F                       1047 non-null   int64  \n",
            "dtypes: float64(2), int64(16), object(2)\n",
            "memory usage: 163.7+ KB\n"
          ]
        }
      ],
      "source": [
        "df.info()"
      ]
    },
    {
      "cell_type": "markdown",
      "id": "356dca8a",
      "metadata": {
        "id": "356dca8a"
      },
      "source": [
        "**Dummy encoding is performed for all other categorical variables.**"
      ]
    },
    {
      "cell_type": "code",
      "execution_count": null,
      "id": "c7540f96",
      "metadata": {
        "id": "c7540f96"
      },
      "outputs": [],
      "source": [
        "df2 = pd.get_dummies(df[['CT.Residency', 'CT.Honors.Student']], drop_first = True)"
      ]
    },
    {
      "cell_type": "code",
      "source": [
        "df['CT.Residency']"
      ],
      "metadata": {
        "colab": {
          "base_uri": "https://localhost:8080/"
        },
        "id": "VrU3VipQZCkj",
        "outputId": "0e7eea87-1c0e-404c-de55-fbef1a563910"
      },
      "id": "VrU3VipQZCkj",
      "execution_count": null,
      "outputs": [
        {
          "output_type": "execute_result",
          "data": {
            "text/plain": [
              "0           Resident\n",
              "1       Non-Resident\n",
              "2           Resident\n",
              "3           Resident\n",
              "4           Resident\n",
              "            ...     \n",
              "1042    Non-Resident\n",
              "1043        Resident\n",
              "1044        Resident\n",
              "1045    Non-Resident\n",
              "1046    Non-Resident\n",
              "Name: CT.Residency, Length: 1047, dtype: object"
            ]
          },
          "metadata": {},
          "execution_count": 237
        }
      ]
    },
    {
      "cell_type": "code",
      "execution_count": null,
      "id": "5e10dd81",
      "metadata": {
        "id": "5e10dd81"
      },
      "outputs": [],
      "source": [
        "final_df = pd.concat([df.select_dtypes(exclude = 'O'), df2], axis = 1)"
      ]
    },
    {
      "cell_type": "code",
      "execution_count": null,
      "id": "9ff30183",
      "metadata": {
        "colab": {
          "base_uri": "https://localhost:8080/",
          "height": 488
        },
        "id": "9ff30183",
        "outputId": "1cbf5f9a-8d1a-441d-d413-7e6ceffd8ba8"
      },
      "outputs": [
        {
          "output_type": "execute_result",
          "data": {
            "text/plain": [
              "      CT.First.Semester.GPA.Average  CT.BEST  Degree.Attained.Indicator  \\\n",
              "0                              3.58       32                          1   \n",
              "1                              3.71       29                          1   \n",
              "2                              2.68       26                          1   \n",
              "3                              3.04       25                          1   \n",
              "4                              1.07       28                          0   \n",
              "...                             ...      ...                        ...   \n",
              "1042                           3.60       35                          1   \n",
              "1043                           2.82       31                          0   \n",
              "1044                           3.55       24                          1   \n",
              "1045                           2.92       20                          1   \n",
              "1046                           2.86       30                          1   \n",
              "\n",
              "      Term.Count.Greek  Major.Changes  Distance  Business_Economics  \\\n",
              "0                    6              3      0.00                   0   \n",
              "1                    0              2   2002.00                   0   \n",
              "2                    0              3     26.72                   0   \n",
              "3                    0              4      8.72                   0   \n",
              "4                    0              1      8.73                   0   \n",
              "...                ...            ...       ...                 ...   \n",
              "1042                 7              2    747.01                   0   \n",
              "1043                 3              3     29.13                   0   \n",
              "1044                 4              3     22.87                   0   \n",
              "1045                 5              1    606.44                   0   \n",
              "1046                 5              2    248.40                   0   \n",
              "\n",
              "      Undeclared_Bus  Undeclared  MusicPerformance  Chemistry  Mth_Stats  \\\n",
              "0                  0           0                 0          0          0   \n",
              "1                  0           0                 0          0          0   \n",
              "2                  0           0                 0          0          0   \n",
              "3                  0           1                 0          0          0   \n",
              "4                  0           0                 0          0          0   \n",
              "...              ...         ...               ...        ...        ...   \n",
              "1042               0           0                 0          0          0   \n",
              "1043               0           0                 0          0          0   \n",
              "1044               0           0                 0          0          0   \n",
              "1045               0           0                 0          0          0   \n",
              "1046               0           0                 0          0          0   \n",
              "\n",
              "      Mgt_Ldr  Information_Systems  BLS342_B  ACC222_B  FIN301_B  CSE148_F  \\\n",
              "0           0                    0         0         0         0         0   \n",
              "1           0                    0         0         0         0         0   \n",
              "2           0                    0         0         0         0         0   \n",
              "3           0                    0         0         0         0         0   \n",
              "4           0                    1         0         0         0         0   \n",
              "...       ...                  ...       ...       ...       ...       ...   \n",
              "1042        0                    0         0         0         0         0   \n",
              "1043        0                    0         0         0         0         0   \n",
              "1044        0                    0         0         0         0         0   \n",
              "1045        0                    0         0         0         0         0   \n",
              "1046        0                    0         0         0         0         0   \n",
              "\n",
              "      CT.Residency_Resident  CT.Honors.Student_Y  \n",
              "0                         1                    0  \n",
              "1                         0                    0  \n",
              "2                         1                    0  \n",
              "3                         1                    0  \n",
              "4                         1                    0  \n",
              "...                     ...                  ...  \n",
              "1042                      0                    1  \n",
              "1043                      1                    0  \n",
              "1044                      1                    0  \n",
              "1045                      0                    0  \n",
              "1046                      0                    0  \n",
              "\n",
              "[1047 rows x 20 columns]"
            ],
            "text/html": [
              "\n",
              "  <div id=\"df-23ed2dc0-f7a8-4625-b71c-3051e1dc1af8\">\n",
              "    <div class=\"colab-df-container\">\n",
              "      <div>\n",
              "<style scoped>\n",
              "    .dataframe tbody tr th:only-of-type {\n",
              "        vertical-align: middle;\n",
              "    }\n",
              "\n",
              "    .dataframe tbody tr th {\n",
              "        vertical-align: top;\n",
              "    }\n",
              "\n",
              "    .dataframe thead th {\n",
              "        text-align: right;\n",
              "    }\n",
              "</style>\n",
              "<table border=\"1\" class=\"dataframe\">\n",
              "  <thead>\n",
              "    <tr style=\"text-align: right;\">\n",
              "      <th></th>\n",
              "      <th>CT.First.Semester.GPA.Average</th>\n",
              "      <th>CT.BEST</th>\n",
              "      <th>Degree.Attained.Indicator</th>\n",
              "      <th>Term.Count.Greek</th>\n",
              "      <th>Major.Changes</th>\n",
              "      <th>Distance</th>\n",
              "      <th>Business_Economics</th>\n",
              "      <th>Undeclared_Bus</th>\n",
              "      <th>Undeclared</th>\n",
              "      <th>MusicPerformance</th>\n",
              "      <th>Chemistry</th>\n",
              "      <th>Mth_Stats</th>\n",
              "      <th>Mgt_Ldr</th>\n",
              "      <th>Information_Systems</th>\n",
              "      <th>BLS342_B</th>\n",
              "      <th>ACC222_B</th>\n",
              "      <th>FIN301_B</th>\n",
              "      <th>CSE148_F</th>\n",
              "      <th>CT.Residency_Resident</th>\n",
              "      <th>CT.Honors.Student_Y</th>\n",
              "    </tr>\n",
              "  </thead>\n",
              "  <tbody>\n",
              "    <tr>\n",
              "      <th>0</th>\n",
              "      <td>3.58</td>\n",
              "      <td>32</td>\n",
              "      <td>1</td>\n",
              "      <td>6</td>\n",
              "      <td>3</td>\n",
              "      <td>0.00</td>\n",
              "      <td>0</td>\n",
              "      <td>0</td>\n",
              "      <td>0</td>\n",
              "      <td>0</td>\n",
              "      <td>0</td>\n",
              "      <td>0</td>\n",
              "      <td>0</td>\n",
              "      <td>0</td>\n",
              "      <td>0</td>\n",
              "      <td>0</td>\n",
              "      <td>0</td>\n",
              "      <td>0</td>\n",
              "      <td>1</td>\n",
              "      <td>0</td>\n",
              "    </tr>\n",
              "    <tr>\n",
              "      <th>1</th>\n",
              "      <td>3.71</td>\n",
              "      <td>29</td>\n",
              "      <td>1</td>\n",
              "      <td>0</td>\n",
              "      <td>2</td>\n",
              "      <td>2002.00</td>\n",
              "      <td>0</td>\n",
              "      <td>0</td>\n",
              "      <td>0</td>\n",
              "      <td>0</td>\n",
              "      <td>0</td>\n",
              "      <td>0</td>\n",
              "      <td>0</td>\n",
              "      <td>0</td>\n",
              "      <td>0</td>\n",
              "      <td>0</td>\n",
              "      <td>0</td>\n",
              "      <td>0</td>\n",
              "      <td>0</td>\n",
              "      <td>0</td>\n",
              "    </tr>\n",
              "    <tr>\n",
              "      <th>2</th>\n",
              "      <td>2.68</td>\n",
              "      <td>26</td>\n",
              "      <td>1</td>\n",
              "      <td>0</td>\n",
              "      <td>3</td>\n",
              "      <td>26.72</td>\n",
              "      <td>0</td>\n",
              "      <td>0</td>\n",
              "      <td>0</td>\n",
              "      <td>0</td>\n",
              "      <td>0</td>\n",
              "      <td>0</td>\n",
              "      <td>0</td>\n",
              "      <td>0</td>\n",
              "      <td>0</td>\n",
              "      <td>0</td>\n",
              "      <td>0</td>\n",
              "      <td>0</td>\n",
              "      <td>1</td>\n",
              "      <td>0</td>\n",
              "    </tr>\n",
              "    <tr>\n",
              "      <th>3</th>\n",
              "      <td>3.04</td>\n",
              "      <td>25</td>\n",
              "      <td>1</td>\n",
              "      <td>0</td>\n",
              "      <td>4</td>\n",
              "      <td>8.72</td>\n",
              "      <td>0</td>\n",
              "      <td>0</td>\n",
              "      <td>1</td>\n",
              "      <td>0</td>\n",
              "      <td>0</td>\n",
              "      <td>0</td>\n",
              "      <td>0</td>\n",
              "      <td>0</td>\n",
              "      <td>0</td>\n",
              "      <td>0</td>\n",
              "      <td>0</td>\n",
              "      <td>0</td>\n",
              "      <td>1</td>\n",
              "      <td>0</td>\n",
              "    </tr>\n",
              "    <tr>\n",
              "      <th>4</th>\n",
              "      <td>1.07</td>\n",
              "      <td>28</td>\n",
              "      <td>0</td>\n",
              "      <td>0</td>\n",
              "      <td>1</td>\n",
              "      <td>8.73</td>\n",
              "      <td>0</td>\n",
              "      <td>0</td>\n",
              "      <td>0</td>\n",
              "      <td>0</td>\n",
              "      <td>0</td>\n",
              "      <td>0</td>\n",
              "      <td>0</td>\n",
              "      <td>1</td>\n",
              "      <td>0</td>\n",
              "      <td>0</td>\n",
              "      <td>0</td>\n",
              "      <td>0</td>\n",
              "      <td>1</td>\n",
              "      <td>0</td>\n",
              "    </tr>\n",
              "    <tr>\n",
              "      <th>...</th>\n",
              "      <td>...</td>\n",
              "      <td>...</td>\n",
              "      <td>...</td>\n",
              "      <td>...</td>\n",
              "      <td>...</td>\n",
              "      <td>...</td>\n",
              "      <td>...</td>\n",
              "      <td>...</td>\n",
              "      <td>...</td>\n",
              "      <td>...</td>\n",
              "      <td>...</td>\n",
              "      <td>...</td>\n",
              "      <td>...</td>\n",
              "      <td>...</td>\n",
              "      <td>...</td>\n",
              "      <td>...</td>\n",
              "      <td>...</td>\n",
              "      <td>...</td>\n",
              "      <td>...</td>\n",
              "      <td>...</td>\n",
              "    </tr>\n",
              "    <tr>\n",
              "      <th>1042</th>\n",
              "      <td>3.60</td>\n",
              "      <td>35</td>\n",
              "      <td>1</td>\n",
              "      <td>7</td>\n",
              "      <td>2</td>\n",
              "      <td>747.01</td>\n",
              "      <td>0</td>\n",
              "      <td>0</td>\n",
              "      <td>0</td>\n",
              "      <td>0</td>\n",
              "      <td>0</td>\n",
              "      <td>0</td>\n",
              "      <td>0</td>\n",
              "      <td>0</td>\n",
              "      <td>0</td>\n",
              "      <td>0</td>\n",
              "      <td>0</td>\n",
              "      <td>0</td>\n",
              "      <td>0</td>\n",
              "      <td>1</td>\n",
              "    </tr>\n",
              "    <tr>\n",
              "      <th>1043</th>\n",
              "      <td>2.82</td>\n",
              "      <td>31</td>\n",
              "      <td>0</td>\n",
              "      <td>3</td>\n",
              "      <td>3</td>\n",
              "      <td>29.13</td>\n",
              "      <td>0</td>\n",
              "      <td>0</td>\n",
              "      <td>0</td>\n",
              "      <td>0</td>\n",
              "      <td>0</td>\n",
              "      <td>0</td>\n",
              "      <td>0</td>\n",
              "      <td>0</td>\n",
              "      <td>0</td>\n",
              "      <td>0</td>\n",
              "      <td>0</td>\n",
              "      <td>0</td>\n",
              "      <td>1</td>\n",
              "      <td>0</td>\n",
              "    </tr>\n",
              "    <tr>\n",
              "      <th>1044</th>\n",
              "      <td>3.55</td>\n",
              "      <td>24</td>\n",
              "      <td>1</td>\n",
              "      <td>4</td>\n",
              "      <td>3</td>\n",
              "      <td>22.87</td>\n",
              "      <td>0</td>\n",
              "      <td>0</td>\n",
              "      <td>0</td>\n",
              "      <td>0</td>\n",
              "      <td>0</td>\n",
              "      <td>0</td>\n",
              "      <td>0</td>\n",
              "      <td>0</td>\n",
              "      <td>0</td>\n",
              "      <td>0</td>\n",
              "      <td>0</td>\n",
              "      <td>0</td>\n",
              "      <td>1</td>\n",
              "      <td>0</td>\n",
              "    </tr>\n",
              "    <tr>\n",
              "      <th>1045</th>\n",
              "      <td>2.92</td>\n",
              "      <td>20</td>\n",
              "      <td>1</td>\n",
              "      <td>5</td>\n",
              "      <td>1</td>\n",
              "      <td>606.44</td>\n",
              "      <td>0</td>\n",
              "      <td>0</td>\n",
              "      <td>0</td>\n",
              "      <td>0</td>\n",
              "      <td>0</td>\n",
              "      <td>0</td>\n",
              "      <td>0</td>\n",
              "      <td>0</td>\n",
              "      <td>0</td>\n",
              "      <td>0</td>\n",
              "      <td>0</td>\n",
              "      <td>0</td>\n",
              "      <td>0</td>\n",
              "      <td>0</td>\n",
              "    </tr>\n",
              "    <tr>\n",
              "      <th>1046</th>\n",
              "      <td>2.86</td>\n",
              "      <td>30</td>\n",
              "      <td>1</td>\n",
              "      <td>5</td>\n",
              "      <td>2</td>\n",
              "      <td>248.40</td>\n",
              "      <td>0</td>\n",
              "      <td>0</td>\n",
              "      <td>0</td>\n",
              "      <td>0</td>\n",
              "      <td>0</td>\n",
              "      <td>0</td>\n",
              "      <td>0</td>\n",
              "      <td>0</td>\n",
              "      <td>0</td>\n",
              "      <td>0</td>\n",
              "      <td>0</td>\n",
              "      <td>0</td>\n",
              "      <td>0</td>\n",
              "      <td>0</td>\n",
              "    </tr>\n",
              "  </tbody>\n",
              "</table>\n",
              "<p>1047 rows × 20 columns</p>\n",
              "</div>\n",
              "      <button class=\"colab-df-convert\" onclick=\"convertToInteractive('df-23ed2dc0-f7a8-4625-b71c-3051e1dc1af8')\"\n",
              "              title=\"Convert this dataframe to an interactive table.\"\n",
              "              style=\"display:none;\">\n",
              "        \n",
              "  <svg xmlns=\"http://www.w3.org/2000/svg\" height=\"24px\"viewBox=\"0 0 24 24\"\n",
              "       width=\"24px\">\n",
              "    <path d=\"M0 0h24v24H0V0z\" fill=\"none\"/>\n",
              "    <path d=\"M18.56 5.44l.94 2.06.94-2.06 2.06-.94-2.06-.94-.94-2.06-.94 2.06-2.06.94zm-11 1L8.5 8.5l.94-2.06 2.06-.94-2.06-.94L8.5 2.5l-.94 2.06-2.06.94zm10 10l.94 2.06.94-2.06 2.06-.94-2.06-.94-.94-2.06-.94 2.06-2.06.94z\"/><path d=\"M17.41 7.96l-1.37-1.37c-.4-.4-.92-.59-1.43-.59-.52 0-1.04.2-1.43.59L10.3 9.45l-7.72 7.72c-.78.78-.78 2.05 0 2.83L4 21.41c.39.39.9.59 1.41.59.51 0 1.02-.2 1.41-.59l7.78-7.78 2.81-2.81c.8-.78.8-2.07 0-2.86zM5.41 20L4 18.59l7.72-7.72 1.47 1.35L5.41 20z\"/>\n",
              "  </svg>\n",
              "      </button>\n",
              "      \n",
              "  <style>\n",
              "    .colab-df-container {\n",
              "      display:flex;\n",
              "      flex-wrap:wrap;\n",
              "      gap: 12px;\n",
              "    }\n",
              "\n",
              "    .colab-df-convert {\n",
              "      background-color: #E8F0FE;\n",
              "      border: none;\n",
              "      border-radius: 50%;\n",
              "      cursor: pointer;\n",
              "      display: none;\n",
              "      fill: #1967D2;\n",
              "      height: 32px;\n",
              "      padding: 0 0 0 0;\n",
              "      width: 32px;\n",
              "    }\n",
              "\n",
              "    .colab-df-convert:hover {\n",
              "      background-color: #E2EBFA;\n",
              "      box-shadow: 0px 1px 2px rgba(60, 64, 67, 0.3), 0px 1px 3px 1px rgba(60, 64, 67, 0.15);\n",
              "      fill: #174EA6;\n",
              "    }\n",
              "\n",
              "    [theme=dark] .colab-df-convert {\n",
              "      background-color: #3B4455;\n",
              "      fill: #D2E3FC;\n",
              "    }\n",
              "\n",
              "    [theme=dark] .colab-df-convert:hover {\n",
              "      background-color: #434B5C;\n",
              "      box-shadow: 0px 1px 3px 1px rgba(0, 0, 0, 0.15);\n",
              "      filter: drop-shadow(0px 1px 2px rgba(0, 0, 0, 0.3));\n",
              "      fill: #FFFFFF;\n",
              "    }\n",
              "  </style>\n",
              "\n",
              "      <script>\n",
              "        const buttonEl =\n",
              "          document.querySelector('#df-23ed2dc0-f7a8-4625-b71c-3051e1dc1af8 button.colab-df-convert');\n",
              "        buttonEl.style.display =\n",
              "          google.colab.kernel.accessAllowed ? 'block' : 'none';\n",
              "\n",
              "        async function convertToInteractive(key) {\n",
              "          const element = document.querySelector('#df-23ed2dc0-f7a8-4625-b71c-3051e1dc1af8');\n",
              "          const dataTable =\n",
              "            await google.colab.kernel.invokeFunction('convertToInteractive',\n",
              "                                                     [key], {});\n",
              "          if (!dataTable) return;\n",
              "\n",
              "          const docLinkHtml = 'Like what you see? Visit the ' +\n",
              "            '<a target=\"_blank\" href=https://colab.research.google.com/notebooks/data_table.ipynb>data table notebook</a>'\n",
              "            + ' to learn more about interactive tables.';\n",
              "          element.innerHTML = '';\n",
              "          dataTable['output_type'] = 'display_data';\n",
              "          await google.colab.output.renderOutput(dataTable, element);\n",
              "          const docLink = document.createElement('div');\n",
              "          docLink.innerHTML = docLinkHtml;\n",
              "          element.appendChild(docLink);\n",
              "        }\n",
              "      </script>\n",
              "    </div>\n",
              "  </div>\n",
              "  "
            ]
          },
          "metadata": {},
          "execution_count": 239
        }
      ],
      "source": [
        "final_df"
      ]
    },
    {
      "cell_type": "code",
      "source": [
        "final_df.info()"
      ],
      "metadata": {
        "colab": {
          "base_uri": "https://localhost:8080/"
        },
        "id": "i1LU8HIcUt_I",
        "outputId": "e0c4102d-2ce0-4f8d-c4eb-8e70d3573ad7"
      },
      "id": "i1LU8HIcUt_I",
      "execution_count": null,
      "outputs": [
        {
          "output_type": "stream",
          "name": "stdout",
          "text": [
            "<class 'pandas.core.frame.DataFrame'>\n",
            "RangeIndex: 1047 entries, 0 to 1046\n",
            "Data columns (total 20 columns):\n",
            " #   Column                         Non-Null Count  Dtype  \n",
            "---  ------                         --------------  -----  \n",
            " 0   CT.First.Semester.GPA.Average  1047 non-null   float64\n",
            " 1   CT.BEST                        1047 non-null   int64  \n",
            " 2   Degree.Attained.Indicator      1047 non-null   int64  \n",
            " 3   Term.Count.Greek               1047 non-null   int64  \n",
            " 4   Major.Changes                  1047 non-null   int64  \n",
            " 5   Distance                       1047 non-null   float64\n",
            " 6   Business_Economics             1047 non-null   int64  \n",
            " 7   Undeclared_Bus                 1047 non-null   int64  \n",
            " 8   Undeclared                     1047 non-null   int64  \n",
            " 9   MusicPerformance               1047 non-null   int64  \n",
            " 10  Chemistry                      1047 non-null   int64  \n",
            " 11  Mth_Stats                      1047 non-null   int64  \n",
            " 12  Mgt_Ldr                        1047 non-null   int64  \n",
            " 13  Information_Systems            1047 non-null   int64  \n",
            " 14  BLS342_B                       1047 non-null   int64  \n",
            " 15  ACC222_B                       1047 non-null   int64  \n",
            " 16  FIN301_B                       1047 non-null   int64  \n",
            " 17  CSE148_F                       1047 non-null   int64  \n",
            " 18  CT.Residency_Resident          1047 non-null   uint8  \n",
            " 19  CT.Honors.Student_Y            1047 non-null   uint8  \n",
            "dtypes: float64(2), int64(16), uint8(2)\n",
            "memory usage: 149.4 KB\n"
          ]
        }
      ]
    },
    {
      "cell_type": "markdown",
      "id": "8ec2da91",
      "metadata": {
        "id": "8ec2da91"
      },
      "source": [
        "## Splitting the data"
      ]
    },
    {
      "cell_type": "markdown",
      "id": "6da1292f",
      "metadata": {
        "id": "6da1292f"
      },
      "source": [
        "**Split the Data (70% training, 30% test)**"
      ]
    },
    {
      "cell_type": "code",
      "execution_count": null,
      "id": "c9cf6297",
      "metadata": {
        "id": "c9cf6297"
      },
      "outputs": [],
      "source": [
        "X = final_df.drop('Degree.Attained.Indicator', axis=1)"
      ]
    },
    {
      "cell_type": "code",
      "execution_count": null,
      "id": "84b173b8",
      "metadata": {
        "id": "84b173b8"
      },
      "outputs": [],
      "source": [
        "y = final_df['Degree.Attained.Indicator']"
      ]
    },
    {
      "cell_type": "code",
      "execution_count": null,
      "id": "72ee483e",
      "metadata": {
        "id": "72ee483e"
      },
      "outputs": [],
      "source": [
        "X_train, X_test, y_train, y_test = train_test_split(X, y, test_size=0.3, random_state=100)"
      ]
    },
    {
      "cell_type": "markdown",
      "id": "0af4c5be",
      "metadata": {
        "id": "0af4c5be"
      },
      "source": [
        "**Upsampling on the training data**"
      ]
    },
    {
      "cell_type": "markdown",
      "id": "0854fedd",
      "metadata": {
        "id": "0854fedd"
      },
      "source": [
        "We will use upsampling to avoid an unbalanced data that can affect out modeling process."
      ]
    },
    {
      "cell_type": "code",
      "execution_count": null,
      "id": "fe250b22",
      "metadata": {
        "colab": {
          "base_uri": "https://localhost:8080/"
        },
        "id": "fe250b22",
        "outputId": "d15d40dc-2eec-4f5f-fc5b-e5fedfa3d466"
      },
      "outputs": [
        {
          "output_type": "stream",
          "name": "stdout",
          "text": [
            "Looking in indexes: https://pypi.org/simple, https://us-python.pkg.dev/colab-wheels/public/simple/\n",
            "Requirement already satisfied: imbalanced-learn in /usr/local/lib/python3.7/dist-packages (0.8.1)\n",
            "Requirement already satisfied: scipy>=0.19.1 in /usr/local/lib/python3.7/dist-packages (from imbalanced-learn) (1.7.3)\n",
            "Requirement already satisfied: joblib>=0.11 in /usr/local/lib/python3.7/dist-packages (from imbalanced-learn) (1.2.0)\n",
            "Requirement already satisfied: scikit-learn>=0.24 in /usr/local/lib/python3.7/dist-packages (from imbalanced-learn) (1.0.2)\n",
            "Requirement already satisfied: numpy>=1.13.3 in /usr/local/lib/python3.7/dist-packages (from imbalanced-learn) (1.21.6)\n",
            "Requirement already satisfied: threadpoolctl>=2.0.0 in /usr/local/lib/python3.7/dist-packages (from scikit-learn>=0.24->imbalanced-learn) (3.1.0)\n"
          ]
        }
      ],
      "source": [
        "!pip install imbalanced-learn"
      ]
    },
    {
      "cell_type": "code",
      "execution_count": null,
      "id": "1aa2e9a2",
      "metadata": {
        "id": "1aa2e9a2"
      },
      "outputs": [],
      "source": [
        "import imblearn\n",
        "from imblearn.over_sampling import SMOTE"
      ]
    },
    {
      "cell_type": "code",
      "execution_count": null,
      "id": "8569fb85",
      "metadata": {
        "id": "8569fb85"
      },
      "outputs": [],
      "source": [
        "oversample = SMOTE()\n",
        "X_train, y_train = oversample.fit_resample(X_train, y_train)\n"
      ]
    },
    {
      "cell_type": "markdown",
      "id": "b3c8f8bd",
      "metadata": {
        "id": "b3c8f8bd"
      },
      "source": [
        "## First Model"
      ]
    },
    {
      "cell_type": "markdown",
      "id": "aa20f81a",
      "metadata": {
        "id": "aa20f81a"
      },
      "source": [
        "**Model will be created using a Support Vector Classifier (SVC)**"
      ]
    },
    {
      "cell_type": "code",
      "execution_count": null,
      "id": "831a3fa5",
      "metadata": {
        "id": "831a3fa5"
      },
      "outputs": [],
      "source": [
        "from sklearn.preprocessing import StandardScaler\n",
        "from sklearn.svm import SVC"
      ]
    },
    {
      "cell_type": "markdown",
      "id": "10d81489",
      "metadata": {
        "id": "10d81489"
      },
      "source": [
        "**Fit the train and test sets**"
      ]
    },
    {
      "cell_type": "code",
      "execution_count": null,
      "id": "912a4e1c",
      "metadata": {
        "id": "912a4e1c"
      },
      "outputs": [],
      "source": [
        "sc_x = StandardScaler()\n",
        "X_train = sc_x.fit_transform(X_train)\n",
        "X_test = sc_x.fit_transform(X_test)"
      ]
    },
    {
      "cell_type": "code",
      "execution_count": null,
      "id": "bb28725f",
      "metadata": {
        "id": "bb28725f"
      },
      "outputs": [],
      "source": [
        "support_vector_classifier = SVC(kernel='linear')\n",
        "support_vector_classifier.fit(X_train,y_train)\n",
        "y_pred_svc = support_vector_classifier.predict(X_test)"
      ]
    },
    {
      "cell_type": "markdown",
      "id": "8ccac2d2",
      "metadata": {
        "id": "8ccac2d2"
      },
      "source": [
        "**Find the model's accuracy and cross-validation accuracy**"
      ]
    },
    {
      "cell_type": "code",
      "execution_count": null,
      "id": "80c8dd73",
      "metadata": {
        "colab": {
          "base_uri": "https://localhost:8080/"
        },
        "id": "80c8dd73",
        "outputId": "bef9f53d-2a41-4679-d637-87946031bcf2"
      },
      "outputs": [
        {
          "output_type": "stream",
          "name": "stdout",
          "text": [
            "[[ 31   5]\n",
            " [105 174]]\n",
            "\n"
          ]
        }
      ],
      "source": [
        "from sklearn.metrics import confusion_matrix\n",
        "cm_support_vector_classifier = confusion_matrix(y_test,y_pred_svc)\n",
        "print(cm_support_vector_classifier,end='\\n\\n')"
      ]
    },
    {
      "cell_type": "code",
      "execution_count": null,
      "id": "bd14b45f",
      "metadata": {
        "colab": {
          "base_uri": "https://localhost:8080/"
        },
        "id": "bd14b45f",
        "outputId": "3839ce46-4203-4cf7-8c20-589d37ea3d21"
      },
      "outputs": [
        {
          "output_type": "stream",
          "name": "stdout",
          "text": [
            "              precision    recall  f1-score   support\n",
            "\n",
            "           0       0.23      0.86      0.36        36\n",
            "           1       0.97      0.62      0.76       279\n",
            "\n",
            "    accuracy                           0.65       315\n",
            "   macro avg       0.60      0.74      0.56       315\n",
            "weighted avg       0.89      0.65      0.71       315\n",
            "\n"
          ]
        }
      ],
      "source": [
        "print(classification_report(y_test, y_pred_svc)) "
      ]
    },
    {
      "cell_type": "code",
      "execution_count": null,
      "id": "df241f98",
      "metadata": {
        "colab": {
          "base_uri": "https://localhost:8080/"
        },
        "id": "df241f98",
        "outputId": "1da1c150-8d62-47a0-d066-06f1fdf608f1"
      },
      "outputs": [
        {
          "output_type": "stream",
          "name": "stdout",
          "text": [
            "Accuracy :  65.08 %\n"
          ]
        }
      ],
      "source": [
        "numerator = cm_support_vector_classifier[0][0] + cm_support_vector_classifier[1][1]\n",
        "denominator = sum(cm_support_vector_classifier[0]) + sum(cm_support_vector_classifier[1])\n",
        "acc_svc = (numerator/denominator) * 100\n",
        "print(\"Accuracy : \",round(acc_svc,2),\"%\")"
      ]
    },
    {
      "cell_type": "code",
      "execution_count": null,
      "id": "8cc10a75",
      "metadata": {
        "colab": {
          "base_uri": "https://localhost:8080/"
        },
        "id": "8cc10a75",
        "outputId": "7defecfb-c399-4208-f087-5831cc22b0f4"
      },
      "outputs": [
        {
          "output_type": "stream",
          "name": "stdout",
          "text": [
            "Cross Validation Accuracy :  82.76 %\n"
          ]
        }
      ],
      "source": [
        "from sklearn.model_selection import cross_val_score\n",
        "cross_val_svc = cross_val_score(estimator = SVC(kernel = 'linear'), X = X_train, y = y_train, cv = 10, n_jobs = -1)\n",
        "print(\"Cross Validation Accuracy : \",round(cross_val_svc.mean() * 100 , 2),\"%\")"
      ]
    },
    {
      "cell_type": "markdown",
      "id": "04cd4ce5",
      "metadata": {
        "id": "04cd4ce5"
      },
      "source": [
        "**We will perform some parameters tuning to find the best set of parameters**"
      ]
    },
    {
      "cell_type": "code",
      "execution_count": null,
      "id": "55ece5df",
      "metadata": {
        "colab": {
          "base_uri": "https://localhost:8080/"
        },
        "id": "55ece5df",
        "outputId": "1fbab87d-3d7e-4dce-9bd6-16417b22514a"
      },
      "outputs": [
        {
          "output_type": "execute_result",
          "data": {
            "text/plain": [
              "GridSearchCV(cv=5, estimator=SVC(),\n",
              "             param_grid={'C': [1, 4, 8, 16, 32], 'kernel': ['linear', 'rbf']})"
            ]
          },
          "metadata": {},
          "execution_count": 254
        }
      ],
      "source": [
        "from sklearn.model_selection import GridSearchCV\n",
        "#set the parameters\n",
        "parameters = {'C': [1,4,8,16,32] ,'kernel':['linear', 'rbf']}\n",
        "svc = SVC()\n",
        "svc_grid = GridSearchCV(svc,parameters, cv=5)\n",
        "\n",
        "svc_grid.fit(X_train, y_train)"
      ]
    },
    {
      "cell_type": "code",
      "execution_count": null,
      "id": "e758affc",
      "metadata": {
        "colab": {
          "base_uri": "https://localhost:8080/"
        },
        "id": "e758affc",
        "outputId": "5566452f-60dc-4a57-87b3-d15e0446de7a"
      },
      "outputs": [
        {
          "output_type": "execute_result",
          "data": {
            "text/plain": [
              "{'C': 16, 'kernel': 'rbf'}"
            ]
          },
          "metadata": {},
          "execution_count": 255
        }
      ],
      "source": [
        "svc_grid.best_params_"
      ]
    },
    {
      "cell_type": "code",
      "execution_count": null,
      "id": "50d5c1f1",
      "metadata": {
        "id": "50d5c1f1"
      },
      "outputs": [],
      "source": [
        "y_pred_svc_grid = svc_grid.predict(X_test)\n"
      ]
    },
    {
      "cell_type": "code",
      "execution_count": null,
      "id": "d231a295",
      "metadata": {
        "colab": {
          "base_uri": "https://localhost:8080/"
        },
        "id": "d231a295",
        "outputId": "ddeb1013-2091-40db-f2a7-8ed0daa19c3b"
      },
      "outputs": [
        {
          "output_type": "stream",
          "name": "stdout",
          "text": [
            "              precision    recall  f1-score   support\n",
            "\n",
            "           0       0.23      0.58      0.33        36\n",
            "           1       0.93      0.74      0.83       279\n",
            "\n",
            "    accuracy                           0.72       315\n",
            "   macro avg       0.58      0.66      0.58       315\n",
            "weighted avg       0.85      0.72      0.77       315\n",
            "\n"
          ]
        }
      ],
      "source": [
        "from sklearn import metrics\n",
        "print(metrics.classification_report(y_test, y_pred_svc_grid))"
      ]
    },
    {
      "cell_type": "code",
      "execution_count": null,
      "id": "cd7c9763",
      "metadata": {
        "colab": {
          "base_uri": "https://localhost:8080/"
        },
        "id": "cd7c9763",
        "outputId": "1e739d9c-0f6a-4292-8d87-9f06b015e283"
      },
      "outputs": [
        {
          "output_type": "stream",
          "name": "stdout",
          "text": [
            "[[ 21  15]\n",
            " [ 72 207]]\n",
            "\n"
          ]
        }
      ],
      "source": [
        "cm_support_vector_classifier = confusion_matrix(y_test,y_pred_svc_grid)\n",
        "print(cm_support_vector_classifier,end='\\n\\n')"
      ]
    },
    {
      "cell_type": "code",
      "execution_count": null,
      "id": "7987221d",
      "metadata": {
        "colab": {
          "base_uri": "https://localhost:8080/"
        },
        "id": "7987221d",
        "outputId": "4dd4c30f-6d95-4ced-fea3-ffc738502eda"
      },
      "outputs": [
        {
          "output_type": "stream",
          "name": "stdout",
          "text": [
            "Accuracy :  72.38 %\n"
          ]
        }
      ],
      "source": [
        "numerator = cm_support_vector_classifier[0][0] + cm_support_vector_classifier[1][1]\n",
        "denominator = sum(cm_support_vector_classifier[0]) + sum(cm_support_vector_classifier[1])\n",
        "acc_svc = (numerator/denominator) * 100\n",
        "print(\"Accuracy : \",round(acc_svc,2),\"%\")"
      ]
    },
    {
      "cell_type": "code",
      "execution_count": null,
      "id": "a34c72a7",
      "metadata": {
        "colab": {
          "base_uri": "https://localhost:8080/"
        },
        "id": "a34c72a7",
        "outputId": "e6c32840-5b29-4a89-dcde-27f54d22c634"
      },
      "outputs": [
        {
          "output_type": "stream",
          "name": "stdout",
          "text": [
            "Cross Validation Accuracy :  86.41 %\n"
          ]
        }
      ],
      "source": [
        "from sklearn.model_selection import cross_val_score\n",
        "cross_val_svc = cross_val_score(estimator = svc_grid, X = X_train, y = y_train, cv = 10, n_jobs = -1)\n",
        "print(\"Cross Validation Accuracy : \",round(cross_val_svc.mean() * 100 , 2),\"%\")"
      ]
    },
    {
      "cell_type": "markdown",
      "id": "bca72bc4",
      "metadata": {
        "id": "bca72bc4"
      },
      "source": [
        "## Second Model using Logistic Regression"
      ]
    },
    {
      "cell_type": "code",
      "execution_count": null,
      "id": "fe344a89",
      "metadata": {
        "id": "fe344a89"
      },
      "outputs": [],
      "source": [
        "from sklearn.linear_model import LogisticRegression"
      ]
    },
    {
      "cell_type": "code",
      "execution_count": null,
      "id": "e4339439",
      "metadata": {
        "id": "e4339439"
      },
      "outputs": [],
      "source": [
        "reg_log = LogisticRegression()\n",
        "reg_log.fit(X_train, y_train)\n",
        "y_pred_log = reg_log.predict(X_test)"
      ]
    },
    {
      "cell_type": "code",
      "execution_count": null,
      "id": "a23c629f",
      "metadata": {
        "colab": {
          "base_uri": "https://localhost:8080/"
        },
        "id": "a23c629f",
        "outputId": "6fa0c3f5-c4a3-4447-ff01-c05e4931d77a"
      },
      "outputs": [
        {
          "output_type": "execute_result",
          "data": {
            "text/plain": [
              "array([[ 30,   6],\n",
              "       [102, 177]])"
            ]
          },
          "metadata": {},
          "execution_count": 263
        }
      ],
      "source": [
        "cm_log = confusion_matrix(y_test, y_pred_log)\n",
        "cm_log"
      ]
    },
    {
      "cell_type": "code",
      "execution_count": null,
      "id": "42fe1a39",
      "metadata": {
        "colab": {
          "base_uri": "https://localhost:8080/"
        },
        "id": "42fe1a39",
        "outputId": "957e1351-4ba0-4eff-dcfd-6378c907cf94"
      },
      "outputs": [
        {
          "output_type": "stream",
          "name": "stdout",
          "text": [
            "              precision    recall  f1-score   support\n",
            "\n",
            "           0       0.23      0.83      0.36        36\n",
            "           1       0.97      0.63      0.77       279\n",
            "\n",
            "    accuracy                           0.66       315\n",
            "   macro avg       0.60      0.73      0.56       315\n",
            "weighted avg       0.88      0.66      0.72       315\n",
            "\n"
          ]
        }
      ],
      "source": [
        "from sklearn import metrics\n",
        "print(metrics.classification_report(y_test, y_pred_log))"
      ]
    },
    {
      "cell_type": "code",
      "execution_count": null,
      "id": "1c571066",
      "metadata": {
        "colab": {
          "base_uri": "https://localhost:8080/"
        },
        "id": "1c571066",
        "outputId": "3dd7426e-e8f1-4d9f-e798-741111749cc6"
      },
      "outputs": [
        {
          "output_type": "stream",
          "name": "stdout",
          "text": [
            "[0.73863636 0.83269962 0.85171103 0.85931559 0.8365019 ]\n"
          ]
        }
      ],
      "source": [
        "from sklearn.model_selection import cross_val_score\n",
        "print(cross_val_score(reg_log, X_train, y_train, cv=5))"
      ]
    },
    {
      "cell_type": "code",
      "execution_count": null,
      "id": "12fcd6d9",
      "metadata": {
        "colab": {
          "base_uri": "https://localhost:8080/"
        },
        "id": "12fcd6d9",
        "outputId": "21aa4c1f-655e-4dff-fabd-c6c236912d00"
      },
      "outputs": [
        {
          "output_type": "stream",
          "name": "stdout",
          "text": [
            "0.8237729001036985\n"
          ]
        }
      ],
      "source": [
        "import numpy as np\n",
        "print(np.mean(cross_val_score(reg_log, X_train, y_train, cv=5)))"
      ]
    },
    {
      "cell_type": "code",
      "execution_count": null,
      "id": "cb45a090",
      "metadata": {
        "colab": {
          "base_uri": "https://localhost:8080/"
        },
        "id": "cb45a090",
        "outputId": "a918479c-ba73-4bc9-ba67-ce8f932f6dcd"
      },
      "outputs": [
        {
          "output_type": "stream",
          "name": "stdout",
          "text": [
            "tuned hpyerparameters :(best parameters)  {'C': 0.1, 'penalty': 'l2'}\n",
            "accuracy : 0.8306037473976406\n"
          ]
        },
        {
          "output_type": "stream",
          "name": "stderr",
          "text": [
            "/usr/local/lib/python3.7/dist-packages/sklearn/model_selection/_validation.py:372: FitFailedWarning: \n",
            "70 fits failed out of a total of 140.\n",
            "The score on these train-test partitions for these parameters will be set to nan.\n",
            "If these failures are not expected, you can try to debug them by setting error_score='raise'.\n",
            "\n",
            "Below are more details about the failures:\n",
            "--------------------------------------------------------------------------------\n",
            "70 fits failed with the following error:\n",
            "Traceback (most recent call last):\n",
            "  File \"/usr/local/lib/python3.7/dist-packages/sklearn/model_selection/_validation.py\", line 680, in _fit_and_score\n",
            "    estimator.fit(X_train, y_train, **fit_params)\n",
            "  File \"/usr/local/lib/python3.7/dist-packages/sklearn/linear_model/_logistic.py\", line 1461, in fit\n",
            "    solver = _check_solver(self.solver, self.penalty, self.dual)\n",
            "  File \"/usr/local/lib/python3.7/dist-packages/sklearn/linear_model/_logistic.py\", line 449, in _check_solver\n",
            "    % (solver, penalty)\n",
            "ValueError: Solver lbfgs supports only 'l2' or 'none' penalties, got l1 penalty.\n",
            "\n",
            "  warnings.warn(some_fits_failed_message, FitFailedWarning)\n",
            "/usr/local/lib/python3.7/dist-packages/sklearn/model_selection/_search.py:972: UserWarning: One or more of the test scores are non-finite: [       nan 0.81615776        nan 0.82528915        nan 0.83060375\n",
            "        nan 0.83060375        nan 0.82984617        nan 0.82984617\n",
            "        nan 0.82984617]\n",
            "  category=UserWarning,\n"
          ]
        }
      ],
      "source": [
        "grid={\"C\":np.logspace(-3,3,7), \"penalty\":[\"l1\",\"l2\"]}# l1 lasso l2 ridge\n",
        "reglog_cv=GridSearchCV(reg_log,grid,cv=10)\n",
        "reglog_cv.fit(X_train,y_train)\n",
        "print(\"tuned hpyerparameters :(best parameters) \",reglog_cv.best_params_)\n",
        "print(\"accuracy :\",reglog_cv.best_score_)"
      ]
    },
    {
      "cell_type": "code",
      "execution_count": null,
      "id": "727ac656",
      "metadata": {
        "id": "727ac656"
      },
      "outputs": [],
      "source": [
        "y_pred_log_cv = reglog_cv.predict(X_test)"
      ]
    },
    {
      "cell_type": "markdown",
      "id": "0138391b",
      "metadata": {
        "id": "0138391b"
      },
      "source": [
        "**The result is not improved or different from our original model**\n"
      ]
    },
    {
      "cell_type": "code",
      "execution_count": null,
      "id": "19589b0e",
      "metadata": {
        "colab": {
          "base_uri": "https://localhost:8080/"
        },
        "id": "19589b0e",
        "outputId": "17a90b25-9454-47a8-94b6-c96ebe9813d7"
      },
      "outputs": [
        {
          "output_type": "execute_result",
          "data": {
            "text/plain": [
              "array([[ 31,   5],\n",
              "       [102, 177]])"
            ]
          },
          "metadata": {},
          "execution_count": 270
        }
      ],
      "source": [
        "cm_log_2 = confusion_matrix(y_test, y_pred_log_cv)\n",
        "cm_log_2"
      ]
    },
    {
      "cell_type": "markdown",
      "id": "dabc8176",
      "metadata": {
        "id": "dabc8176"
      },
      "source": [
        "## Third Model using RandomForest"
      ]
    },
    {
      "cell_type": "code",
      "execution_count": null,
      "id": "0292e717",
      "metadata": {
        "id": "0292e717"
      },
      "outputs": [],
      "source": [
        "from sklearn.ensemble import RandomForestClassifier"
      ]
    },
    {
      "cell_type": "code",
      "execution_count": null,
      "id": "8cf8a548",
      "metadata": {
        "id": "8cf8a548"
      },
      "outputs": [],
      "source": [
        "reg_rf = RandomForestClassifier()\n",
        "reg_rf.fit(X_train, y_train)\n",
        "y_pred_reg_rf = reg_rf.predict(X_test)"
      ]
    },
    {
      "cell_type": "code",
      "execution_count": null,
      "id": "a61d604b",
      "metadata": {
        "colab": {
          "base_uri": "https://localhost:8080/"
        },
        "id": "a61d604b",
        "outputId": "00e3ea67-7e5d-4622-fa8c-4c90d867ebeb"
      },
      "outputs": [
        {
          "output_type": "stream",
          "name": "stdout",
          "text": [
            "[[ 20  16]\n",
            " [ 51 228]]\n",
            "\n"
          ]
        }
      ],
      "source": [
        "cm_reg_rf = confusion_matrix(y_test,y_pred_reg_rf)\n",
        "print(cm_reg_rf,end='\\n\\n')"
      ]
    },
    {
      "cell_type": "code",
      "execution_count": null,
      "id": "dbc77aca",
      "metadata": {
        "colab": {
          "base_uri": "https://localhost:8080/"
        },
        "id": "dbc77aca",
        "outputId": "af13d2b8-7a36-4556-aad1-ac61f397d2ce"
      },
      "outputs": [
        {
          "output_type": "stream",
          "name": "stdout",
          "text": [
            "              precision    recall  f1-score   support\n",
            "\n",
            "           0       0.28      0.56      0.37        36\n",
            "           1       0.93      0.82      0.87       279\n",
            "\n",
            "    accuracy                           0.79       315\n",
            "   macro avg       0.61      0.69      0.62       315\n",
            "weighted avg       0.86      0.79      0.81       315\n",
            "\n"
          ]
        }
      ],
      "source": [
        "print(metrics.classification_report(y_test, y_pred_reg_rf))"
      ]
    },
    {
      "cell_type": "code",
      "execution_count": null,
      "id": "a4e27373",
      "metadata": {
        "colab": {
          "base_uri": "https://localhost:8080/"
        },
        "id": "a4e27373",
        "outputId": "bb9e0ee6-42cd-437b-ba67-ca732fa5aa50"
      },
      "outputs": [
        {
          "output_type": "stream",
          "name": "stdout",
          "text": [
            "[0.84848485 0.88593156 0.90494297 0.92015209 0.8973384 ]\n",
            "0.892888005530591\n"
          ]
        }
      ],
      "source": [
        "from sklearn.model_selection import cross_val_score\n",
        "print(cross_val_score(reg_rf, X_train, y_train, cv=5))\n",
        "print(np.mean(cross_val_score(reg_rf, X_train, y_train, cv=5)))"
      ]
    },
    {
      "cell_type": "code",
      "execution_count": null,
      "id": "84f6893a",
      "metadata": {
        "id": "84f6893a"
      },
      "outputs": [],
      "source": [
        "from sklearn.model_selection import RandomizedSearchCV\n"
      ]
    },
    {
      "cell_type": "code",
      "execution_count": null,
      "id": "b56cb6c9",
      "metadata": {
        "id": "b56cb6c9"
      },
      "outputs": [],
      "source": [
        "def get_rf_parameters():\n",
        "    n_estimators = [10, 50, 100]\n",
        "    max_features = ['auto', 'sqrt', 'log2']\n",
        "    max_depth = [5, 10, 20, 50, None]\n",
        "    min_samples_split = [2, 4, 6, 8]\n",
        "    min_samples_leaf = [1, 2, 4, 6]\n",
        "    bootstrap = [True, False]\n",
        "\n",
        "    random_grid = {'n_estimators':n_estimators,\n",
        "                   'max_features': max_features,\n",
        "                   'max_depth': max_depth,\n",
        "                   'min_samples_split': min_samples_split,\n",
        "                   'min_samples_leaf': min_samples_leaf,\n",
        "                   'bootstrap':bootstrap}\n",
        "    model = RandomForestClassifier(random_state =42)\n",
        "    rf_random = RandomizedSearchCV(estimator = model, param_distributions = random_grid, n_iter = 5, cv = 3, verbose =  2, random_state = 42)\n",
        "    rf_random.fit(X_train, y_train)\n",
        "    parameters = rf_random.best_params_\n",
        "    print(\"Best Parameters: \", parameters)\n",
        "    return parameters"
      ]
    },
    {
      "cell_type": "code",
      "execution_count": null,
      "id": "1e62379a",
      "metadata": {
        "colab": {
          "base_uri": "https://localhost:8080/"
        },
        "id": "1e62379a",
        "outputId": "a07c399a-41e7-4d33-b70f-e160109f5b28"
      },
      "outputs": [
        {
          "output_type": "stream",
          "name": "stdout",
          "text": [
            "Fitting 3 folds for each of 5 candidates, totalling 15 fits\n",
            "[CV] END bootstrap=False, max_depth=20, max_features=log2, min_samples_leaf=2, min_samples_split=8, n_estimators=50; total time=   0.1s\n",
            "[CV] END bootstrap=False, max_depth=20, max_features=log2, min_samples_leaf=2, min_samples_split=8, n_estimators=50; total time=   0.1s\n",
            "[CV] END bootstrap=False, max_depth=20, max_features=log2, min_samples_leaf=2, min_samples_split=8, n_estimators=50; total time=   0.1s\n",
            "[CV] END bootstrap=False, max_depth=5, max_features=log2, min_samples_leaf=6, min_samples_split=6, n_estimators=100; total time=   0.2s\n",
            "[CV] END bootstrap=False, max_depth=5, max_features=log2, min_samples_leaf=6, min_samples_split=6, n_estimators=100; total time=   0.2s\n",
            "[CV] END bootstrap=False, max_depth=5, max_features=log2, min_samples_leaf=6, min_samples_split=6, n_estimators=100; total time=   0.2s\n",
            "[CV] END bootstrap=False, max_depth=50, max_features=log2, min_samples_leaf=6, min_samples_split=8, n_estimators=50; total time=   0.1s\n",
            "[CV] END bootstrap=False, max_depth=50, max_features=log2, min_samples_leaf=6, min_samples_split=8, n_estimators=50; total time=   0.1s\n",
            "[CV] END bootstrap=False, max_depth=50, max_features=log2, min_samples_leaf=6, min_samples_split=8, n_estimators=50; total time=   0.1s\n",
            "[CV] END bootstrap=False, max_depth=20, max_features=log2, min_samples_leaf=4, min_samples_split=2, n_estimators=100; total time=   0.2s\n",
            "[CV] END bootstrap=False, max_depth=20, max_features=log2, min_samples_leaf=4, min_samples_split=2, n_estimators=100; total time=   0.2s\n",
            "[CV] END bootstrap=False, max_depth=20, max_features=log2, min_samples_leaf=4, min_samples_split=2, n_estimators=100; total time=   0.2s\n",
            "[CV] END bootstrap=False, max_depth=20, max_features=sqrt, min_samples_leaf=6, min_samples_split=4, n_estimators=10; total time=   0.0s\n",
            "[CV] END bootstrap=False, max_depth=20, max_features=sqrt, min_samples_leaf=6, min_samples_split=4, n_estimators=10; total time=   0.0s\n",
            "[CV] END bootstrap=False, max_depth=20, max_features=sqrt, min_samples_leaf=6, min_samples_split=4, n_estimators=10; total time=   0.0s\n",
            "Best Parameters:  {'n_estimators': 50, 'min_samples_split': 8, 'min_samples_leaf': 2, 'max_features': 'log2', 'max_depth': 20, 'bootstrap': False}\n"
          ]
        },
        {
          "output_type": "execute_result",
          "data": {
            "text/plain": [
              "{'n_estimators': 50,\n",
              " 'min_samples_split': 8,\n",
              " 'min_samples_leaf': 2,\n",
              " 'max_features': 'log2',\n",
              " 'max_depth': 20,\n",
              " 'bootstrap': False}"
            ]
          },
          "metadata": {},
          "execution_count": 278
        }
      ],
      "source": [
        "get_rf_parameters()"
      ]
    },
    {
      "cell_type": "code",
      "execution_count": null,
      "id": "07fa8e57",
      "metadata": {
        "id": "07fa8e57"
      },
      "outputs": [],
      "source": [
        "reg_rf_2 = RandomForestClassifier(n_estimators= 50,\n",
        " min_samples_split= 8,\n",
        " min_samples_leaf=2,\n",
        " max_features='log2',\n",
        " max_depth= 20,\n",
        " bootstrap= False)\n",
        "reg_rf_2.fit(X_train, y_train)\n",
        "y_pred_reg_rf_2 = reg_rf_2.predict(X_test)"
      ]
    },
    {
      "cell_type": "code",
      "execution_count": null,
      "id": "3ade1914",
      "metadata": {
        "colab": {
          "base_uri": "https://localhost:8080/"
        },
        "id": "3ade1914",
        "outputId": "29ac843e-7b3e-491a-dff5-99c0da97b0f9"
      },
      "outputs": [
        {
          "output_type": "execute_result",
          "data": {
            "text/plain": [
              "array([[ 19,  17],\n",
              "       [ 47, 232]])"
            ]
          },
          "metadata": {},
          "execution_count": 280
        }
      ],
      "source": [
        "cm_reg_rf_2 = confusion_matrix(y_test, y_pred_reg_rf_2)\n",
        "cm_reg_rf_2"
      ]
    },
    {
      "cell_type": "code",
      "execution_count": null,
      "id": "4304a309",
      "metadata": {
        "colab": {
          "base_uri": "https://localhost:8080/"
        },
        "id": "4304a309",
        "outputId": "b6ca816a-fc7e-42b8-c3fa-9de15a379f9f"
      },
      "outputs": [
        {
          "output_type": "stream",
          "name": "stdout",
          "text": [
            "              precision    recall  f1-score   support\n",
            "\n",
            "           0       0.29      0.53      0.37        36\n",
            "           1       0.93      0.83      0.88       279\n",
            "\n",
            "    accuracy                           0.80       315\n",
            "   macro avg       0.61      0.68      0.63       315\n",
            "weighted avg       0.86      0.80      0.82       315\n",
            "\n"
          ]
        }
      ],
      "source": [
        "print(metrics.classification_report(y_test, y_pred_reg_rf_2))"
      ]
    },
    {
      "cell_type": "code",
      "execution_count": null,
      "id": "acd4b22e",
      "metadata": {
        "colab": {
          "base_uri": "https://localhost:8080/"
        },
        "id": "acd4b22e",
        "outputId": "f12b345c-226f-4a23-b956-ad43b7ec3c0f"
      },
      "outputs": [
        {
          "output_type": "stream",
          "name": "stdout",
          "text": [
            "[0.81439394 0.85171103 0.90874525 0.91254753 0.89353612]\n",
            "0.8845402696163152\n"
          ]
        }
      ],
      "source": [
        "print(cross_val_score(reg_rf_2, X_train, y_train, cv=5))\n",
        "print(np.mean(cross_val_score(reg_rf_2, X_train, y_train, cv=5)))"
      ]
    },
    {
      "cell_type": "markdown",
      "id": "cdac8802",
      "metadata": {
        "id": "cdac8802"
      },
      "source": [
        "## Fourth Model using NaiveBayes\n"
      ]
    },
    {
      "cell_type": "code",
      "execution_count": null,
      "id": "86120921",
      "metadata": {
        "id": "86120921"
      },
      "outputs": [],
      "source": [
        "from sklearn.naive_bayes import GaussianNB\n",
        "gnb = GaussianNB()\n",
        "gnb.fit(X_train, y_train)\n",
        "gnb_pred = gnb.predict(X_test)"
      ]
    },
    {
      "cell_type": "code",
      "execution_count": null,
      "id": "8d590a54",
      "metadata": {
        "colab": {
          "base_uri": "https://localhost:8080/"
        },
        "id": "8d590a54",
        "outputId": "faaa006c-9cde-4ab3-df61-0feeda8008d9"
      },
      "outputs": [
        {
          "output_type": "execute_result",
          "data": {
            "text/plain": [
              "array([[  0,  36],\n",
              "       [  0, 279]])"
            ]
          },
          "metadata": {},
          "execution_count": 284
        }
      ],
      "source": [
        "cm_gnb = confusion_matrix(y_test, gnb_pred)\n",
        "cm_gnb"
      ]
    },
    {
      "cell_type": "code",
      "execution_count": null,
      "id": "5fe1e644",
      "metadata": {
        "colab": {
          "base_uri": "https://localhost:8080/"
        },
        "id": "5fe1e644",
        "outputId": "385e9c90-b568-4495-d8ca-05afc6aefa05"
      },
      "outputs": [
        {
          "output_type": "stream",
          "name": "stdout",
          "text": [
            "              precision    recall  f1-score   support\n",
            "\n",
            "           0       0.00      0.00      0.00        36\n",
            "           1       0.89      1.00      0.94       279\n",
            "\n",
            "    accuracy                           0.89       315\n",
            "   macro avg       0.44      0.50      0.47       315\n",
            "weighted avg       0.78      0.89      0.83       315\n",
            "\n"
          ]
        },
        {
          "output_type": "stream",
          "name": "stderr",
          "text": [
            "/usr/local/lib/python3.7/dist-packages/sklearn/metrics/_classification.py:1318: UndefinedMetricWarning: Precision and F-score are ill-defined and being set to 0.0 in labels with no predicted samples. Use `zero_division` parameter to control this behavior.\n",
            "  _warn_prf(average, modifier, msg_start, len(result))\n",
            "/usr/local/lib/python3.7/dist-packages/sklearn/metrics/_classification.py:1318: UndefinedMetricWarning: Precision and F-score are ill-defined and being set to 0.0 in labels with no predicted samples. Use `zero_division` parameter to control this behavior.\n",
            "  _warn_prf(average, modifier, msg_start, len(result))\n",
            "/usr/local/lib/python3.7/dist-packages/sklearn/metrics/_classification.py:1318: UndefinedMetricWarning: Precision and F-score are ill-defined and being set to 0.0 in labels with no predicted samples. Use `zero_division` parameter to control this behavior.\n",
            "  _warn_prf(average, modifier, msg_start, len(result))\n"
          ]
        }
      ],
      "source": [
        "print(metrics.classification_report(y_test, gnb_pred))"
      ]
    },
    {
      "cell_type": "markdown",
      "id": "0d496aa2",
      "metadata": {
        "id": "0d496aa2"
      },
      "source": [
        "## Fifth Model using XGBoost\n"
      ]
    },
    {
      "cell_type": "code",
      "execution_count": null,
      "id": "3ac376f7",
      "metadata": {
        "colab": {
          "base_uri": "https://localhost:8080/"
        },
        "id": "3ac376f7",
        "outputId": "c946214f-5099-408a-a082-e735f1c37615"
      },
      "outputs": [
        {
          "output_type": "stream",
          "name": "stdout",
          "text": [
            "Looking in indexes: https://pypi.org/simple, https://us-python.pkg.dev/colab-wheels/public/simple/\n",
            "Requirement already satisfied: xgboost in /usr/local/lib/python3.7/dist-packages (0.90)\n",
            "Requirement already satisfied: numpy in /usr/local/lib/python3.7/dist-packages (from xgboost) (1.21.6)\n",
            "Requirement already satisfied: scipy in /usr/local/lib/python3.7/dist-packages (from xgboost) (1.7.3)\n"
          ]
        }
      ],
      "source": [
        "!pip install xgboost"
      ]
    },
    {
      "cell_type": "code",
      "execution_count": null,
      "id": "4fc37e51",
      "metadata": {
        "id": "4fc37e51"
      },
      "outputs": [],
      "source": [
        "import xgboost as xgb"
      ]
    },
    {
      "cell_type": "code",
      "execution_count": null,
      "id": "3c0e974e",
      "metadata": {
        "id": "3c0e974e"
      },
      "outputs": [],
      "source": [
        "xgb_cl = xgb.XGBClassifier(objective=\"binary:logistic\")"
      ]
    },
    {
      "cell_type": "code",
      "execution_count": null,
      "id": "adf45ac1",
      "metadata": {
        "id": "adf45ac1"
      },
      "outputs": [],
      "source": [
        "xgb_cl.fit(X_train, y_train)\n",
        "y_pred_xgb = xgb_cl.predict(X_test)\n"
      ]
    },
    {
      "cell_type": "code",
      "execution_count": null,
      "id": "935b487b",
      "metadata": {
        "colab": {
          "base_uri": "https://localhost:8080/"
        },
        "id": "935b487b",
        "outputId": "e07114a1-f161-4722-e094-e2d3f41c9b5d"
      },
      "outputs": [
        {
          "output_type": "stream",
          "name": "stdout",
          "text": [
            "[[ 20  16]\n",
            " [ 51 228]]\n",
            "\n"
          ]
        }
      ],
      "source": [
        "cm_xgb = confusion_matrix(y_test,y_pred_xgb)\n",
        "print(cm_reg_rf,end='\\n\\n')"
      ]
    },
    {
      "cell_type": "code",
      "execution_count": null,
      "id": "b2313900",
      "metadata": {
        "colab": {
          "base_uri": "https://localhost:8080/"
        },
        "id": "b2313900",
        "outputId": "f87519ed-2069-4e11-b7d8-e6dadb9a826c"
      },
      "outputs": [
        {
          "output_type": "stream",
          "name": "stdout",
          "text": [
            "              precision    recall  f1-score   support\n",
            "\n",
            "           0       0.25      0.72      0.38        36\n",
            "           1       0.95      0.73      0.83       279\n",
            "\n",
            "    accuracy                           0.73       315\n",
            "   macro avg       0.60      0.72      0.60       315\n",
            "weighted avg       0.87      0.73      0.77       315\n",
            "\n"
          ]
        }
      ],
      "source": [
        "print(metrics.classification_report(y_test, y_pred_xgb))"
      ]
    },
    {
      "cell_type": "markdown",
      "id": "c657852e",
      "metadata": {
        "id": "c657852e"
      },
      "source": [
        "**Parameters tuning**"
      ]
    },
    {
      "cell_type": "code",
      "execution_count": null,
      "id": "51afd684",
      "metadata": {
        "id": "51afd684"
      },
      "outputs": [],
      "source": [
        "param_grid = {\n",
        "    \"max_depth\": [3, 4, 5, 7, 8, 10],\n",
        "    \"learning_rate\": [0.1, 0.01, 0.05],\n",
        "    \"gamma\": [0, 0.25, 1],\n",
        "    \"reg_lambda\": [0, 1, 10],\n",
        "    \"scale_pos_weight\": [1, 3, 5],\n",
        "    \"subsample\": [0.8],\n",
        "    \"colsample_bytree\": [0.5],\n",
        "}"
      ]
    },
    {
      "cell_type": "code",
      "execution_count": null,
      "id": "45c1857c",
      "metadata": {
        "id": "45c1857c"
      },
      "outputs": [],
      "source": [
        "# Init classifier\n",
        "xgb_cl = xgb.XGBClassifier(objective=\"binary:logistic\")\n",
        "\n",
        "# Init Grid Search\n",
        "grid_cv = GridSearchCV(xgb_cl, param_grid, n_jobs=-1, cv=3, scoring=\"accuracy\")"
      ]
    },
    {
      "cell_type": "code",
      "execution_count": null,
      "id": "5f660974",
      "metadata": {
        "id": "5f660974"
      },
      "outputs": [],
      "source": [
        "xgb_cl_2 = grid_cv.fit(X_train, y_train)"
      ]
    },
    {
      "cell_type": "code",
      "execution_count": null,
      "id": "9595db9c",
      "metadata": {
        "colab": {
          "base_uri": "https://localhost:8080/"
        },
        "id": "9595db9c",
        "outputId": "0dec9baa-8a16-425b-d50f-ece3ea775154"
      },
      "outputs": [
        {
          "output_type": "execute_result",
          "data": {
            "text/plain": [
              "(0.8852744059939742,\n",
              " {'colsample_bytree': 0.5,\n",
              "  'gamma': 0,\n",
              "  'learning_rate': 0.01,\n",
              "  'max_depth': 10,\n",
              "  'reg_lambda': 0,\n",
              "  'scale_pos_weight': 1,\n",
              "  'subsample': 0.8})"
            ]
          },
          "metadata": {},
          "execution_count": 295
        }
      ],
      "source": [
        "xgb_cl_2.best_score_,xgb_cl_2.best_params_"
      ]
    },
    {
      "cell_type": "code",
      "execution_count": null,
      "id": "b1fb4605",
      "metadata": {
        "id": "b1fb4605"
      },
      "outputs": [],
      "source": [
        "# fit the new model using the returned parameters\n",
        "xgb_cl = xgb.XGBClassifier(\n",
        "    grid_cv.best_params_,\n",
        "    objective=\"binary:logistic\"\n",
        ")\n"
      ]
    },
    {
      "cell_type": "code",
      "execution_count": null,
      "id": "b37866b4",
      "metadata": {
        "id": "b37866b4"
      },
      "outputs": [],
      "source": [
        "y_pred_xgb_2 = xgb_cl_2.predict(X_test)"
      ]
    },
    {
      "cell_type": "code",
      "execution_count": null,
      "id": "0e9d42c7",
      "metadata": {
        "colab": {
          "base_uri": "https://localhost:8080/"
        },
        "id": "0e9d42c7",
        "outputId": "c00334c9-d147-432c-c1d6-7e06b93f4a72"
      },
      "outputs": [
        {
          "output_type": "stream",
          "name": "stdout",
          "text": [
            "[[ 26  10]\n",
            " [ 76 203]]\n",
            "\n"
          ]
        }
      ],
      "source": [
        "cm_xgb_2 = confusion_matrix(y_test,y_pred_xgb_2)\n",
        "print(cm_xgb,end='\\n\\n')"
      ]
    },
    {
      "cell_type": "code",
      "execution_count": null,
      "id": "5b189908",
      "metadata": {
        "colab": {
          "base_uri": "https://localhost:8080/"
        },
        "id": "5b189908",
        "outputId": "eb1a8736-9d77-4fef-cc45-1aa6a857210b"
      },
      "outputs": [
        {
          "output_type": "stream",
          "name": "stdout",
          "text": [
            "              precision    recall  f1-score   support\n",
            "\n",
            "           0       0.30      0.64      0.41        36\n",
            "           1       0.95      0.81      0.87       279\n",
            "\n",
            "    accuracy                           0.79       315\n",
            "   macro avg       0.62      0.72      0.64       315\n",
            "weighted avg       0.87      0.79      0.82       315\n",
            "\n"
          ]
        }
      ],
      "source": [
        "print(metrics.classification_report(y_test, y_pred_xgb_2))"
      ]
    },
    {
      "cell_type": "code",
      "execution_count": null,
      "id": "20d8dc36",
      "metadata": {
        "colab": {
          "base_uri": "https://localhost:8080/"
        },
        "id": "20d8dc36",
        "outputId": "2266cc14-ac91-41b2-d4d5-180dd7478916"
      },
      "outputs": [
        {
          "output_type": "stream",
          "name": "stdout",
          "text": [
            "[nan nan nan nan nan]\n",
            "nan\n"
          ]
        },
        {
          "output_type": "stream",
          "name": "stderr",
          "text": [
            "/usr/local/lib/python3.7/dist-packages/sklearn/model_selection/_validation.py:372: FitFailedWarning: \n",
            "5 fits failed out of a total of 5.\n",
            "The score on these train-test partitions for these parameters will be set to nan.\n",
            "If these failures are not expected, you can try to debug them by setting error_score='raise'.\n",
            "\n",
            "Below are more details about the failures:\n",
            "--------------------------------------------------------------------------------\n",
            "5 fits failed with the following error:\n",
            "Traceback (most recent call last):\n",
            "  File \"/usr/local/lib/python3.7/dist-packages/sklearn/model_selection/_validation.py\", line 680, in _fit_and_score\n",
            "    estimator.fit(X_train, y_train, **fit_params)\n",
            "  File \"/usr/local/lib/python3.7/dist-packages/xgboost/sklearn.py\", line 732, in fit\n",
            "    callbacks=callbacks)\n",
            "  File \"/usr/local/lib/python3.7/dist-packages/xgboost/training.py\", line 216, in train\n",
            "    xgb_model=xgb_model, callbacks=callbacks)\n",
            "  File \"/usr/local/lib/python3.7/dist-packages/xgboost/training.py\", line 74, in _train_internal\n",
            "    bst.update(dtrain, i, obj)\n",
            "  File \"/usr/local/lib/python3.7/dist-packages/xgboost/core.py\", line 1109, in update\n",
            "    dtrain.handle))\n",
            "  File \"/usr/local/lib/python3.7/dist-packages/xgboost/core.py\", line 176, in _check_call\n",
            "    raise XGBoostError(py_str(_LIB.XGBGetLastError()))\n",
            "xgboost.core.XGBoostError: Invalid Parameter format for max_depth expect int but value='{'colsample_bytree': 0.5, 'gamma': 0, 'learning_rate': 0.01, 'max_depth': 10, 'reg_lambda': 0, 'scale_pos_weight': 1, 'subsample': 0.8}'\n",
            "\n",
            "  warnings.warn(some_fits_failed_message, FitFailedWarning)\n",
            "/usr/local/lib/python3.7/dist-packages/sklearn/model_selection/_validation.py:372: FitFailedWarning: \n",
            "5 fits failed out of a total of 5.\n",
            "The score on these train-test partitions for these parameters will be set to nan.\n",
            "If these failures are not expected, you can try to debug them by setting error_score='raise'.\n",
            "\n",
            "Below are more details about the failures:\n",
            "--------------------------------------------------------------------------------\n",
            "5 fits failed with the following error:\n",
            "Traceback (most recent call last):\n",
            "  File \"/usr/local/lib/python3.7/dist-packages/sklearn/model_selection/_validation.py\", line 680, in _fit_and_score\n",
            "    estimator.fit(X_train, y_train, **fit_params)\n",
            "  File \"/usr/local/lib/python3.7/dist-packages/xgboost/sklearn.py\", line 732, in fit\n",
            "    callbacks=callbacks)\n",
            "  File \"/usr/local/lib/python3.7/dist-packages/xgboost/training.py\", line 216, in train\n",
            "    xgb_model=xgb_model, callbacks=callbacks)\n",
            "  File \"/usr/local/lib/python3.7/dist-packages/xgboost/training.py\", line 74, in _train_internal\n",
            "    bst.update(dtrain, i, obj)\n",
            "  File \"/usr/local/lib/python3.7/dist-packages/xgboost/core.py\", line 1109, in update\n",
            "    dtrain.handle))\n",
            "  File \"/usr/local/lib/python3.7/dist-packages/xgboost/core.py\", line 176, in _check_call\n",
            "    raise XGBoostError(py_str(_LIB.XGBGetLastError()))\n",
            "xgboost.core.XGBoostError: Invalid Parameter format for max_depth expect int but value='{'colsample_bytree': 0.5, 'gamma': 0, 'learning_rate': 0.01, 'max_depth': 10, 'reg_lambda': 0, 'scale_pos_weight': 1, 'subsample': 0.8}'\n",
            "\n",
            "  warnings.warn(some_fits_failed_message, FitFailedWarning)\n"
          ]
        }
      ],
      "source": [
        "print(cross_val_score(xgb_cl, X_train, y_train, cv=5))\n",
        "print(np.mean(cross_val_score(xgb_cl, X_train, y_train, cv=5)))"
      ]
    },
    {
      "cell_type": "code",
      "execution_count": null,
      "id": "b39a7a4c",
      "metadata": {
        "id": "b39a7a4c"
      },
      "outputs": [],
      "source": []
    },
    {
      "cell_type": "code",
      "execution_count": null,
      "id": "6cc32ac2",
      "metadata": {
        "id": "6cc32ac2"
      },
      "outputs": [],
      "source": [
        "def confusion_metrics (conf_matrix):\n",
        "# save confusion matrix and slice into four pieces\n",
        "    TP = conf_matrix[1][1]\n",
        "    TN = conf_matrix[0][0]\n",
        "    FP = conf_matrix[0][1]\n",
        "    FN = conf_matrix[1][0]\n",
        "    print('True Positives:', TP)\n",
        "    print('True Negatives:', TN)\n",
        "    print('False Positives:', FP)\n",
        "    print('False Negatives:', FN)\n",
        "    \n",
        "    # calculate accuracy\n",
        "    conf_accuracy = (float (TP+TN) / float(TP + TN + FP + FN))\n",
        "    \n",
        "    # calculate mis-classification\n",
        "    conf_misclassification = 1- conf_accuracy\n",
        "    \n",
        "    # calculate the sensitivity\n",
        "    conf_sensitivity = (TP / (TP + FN))\n",
        "    # calculate the specificity\n",
        "    conf_specificity = (TN /(TN + FP))\n",
        "    \n",
        "    # calculate precision\n",
        "    conf_precision = (TN /(TN + FP))\n",
        "    # calculate f_1 score\n",
        "    conf_f1 = 2 * ((conf_precision * conf_sensitivity) / (conf_precision + conf_sensitivity))\n",
        "    print('-'*50)\n",
        "    print(f'Accuracy: {conf_accuracy}') \n",
        "    print(f'Mis-Classification: {conf_misclassification}') \n",
        "    print(f'Sensitivity: {conf_sensitivity}') \n",
        "    print(f'Specificity: {conf_specificity}') \n",
        "    print(f'Precision: {conf_precision}')\n",
        "    print(f'f_1 Score: {conf_f1}')"
      ]
    },
    {
      "cell_type": "code",
      "execution_count": null,
      "id": "199ea0fa",
      "metadata": {
        "colab": {
          "base_uri": "https://localhost:8080/"
        },
        "id": "199ea0fa",
        "outputId": "bc136c4e-4624-4248-dba5-f035768eb7f3"
      },
      "outputs": [
        {
          "output_type": "stream",
          "name": "stdout",
          "text": [
            "True Positives: 203\n",
            "True Negatives: 26\n",
            "False Positives: 10\n",
            "False Negatives: 76\n",
            "--------------------------------------------------\n",
            "Accuracy: 0.726984126984127\n",
            "Mis-Classification: 0.27301587301587305\n",
            "Sensitivity: 0.7275985663082437\n",
            "Specificity: 0.7222222222222222\n",
            "Precision: 0.7222222222222222\n",
            "f_1 Score: 0.7249004257656916\n"
          ]
        }
      ],
      "source": [
        "confusion_metrics(cm_xgb)"
      ]
    },
    {
      "cell_type": "code",
      "execution_count": null,
      "id": "2d7fb59b",
      "metadata": {
        "colab": {
          "base_uri": "https://localhost:8080/"
        },
        "id": "2d7fb59b",
        "outputId": "cfd644f6-33c5-48a0-ab3c-24e43b2605fd"
      },
      "outputs": [
        {
          "output_type": "stream",
          "name": "stdout",
          "text": [
            "True Positives: 226\n",
            "True Negatives: 23\n",
            "False Positives: 13\n",
            "False Negatives: 53\n",
            "--------------------------------------------------\n",
            "Accuracy: 0.7904761904761904\n",
            "Mis-Classification: 0.20952380952380956\n",
            "Sensitivity: 0.8100358422939068\n",
            "Specificity: 0.6388888888888888\n",
            "Precision: 0.6388888888888888\n",
            "f_1 Score: 0.7143544286401429\n"
          ]
        }
      ],
      "source": [
        "confusion_metrics(cm_xgb_2)"
      ]
    },
    {
      "cell_type": "code",
      "execution_count": null,
      "id": "591078d9",
      "metadata": {
        "colab": {
          "base_uri": "https://localhost:8080/"
        },
        "id": "591078d9",
        "outputId": "29584395-481a-4dbb-b2ed-659ee2babcf9"
      },
      "outputs": [
        {
          "output_type": "stream",
          "name": "stdout",
          "text": [
            "True Positives: 177\n",
            "True Negatives: 30\n",
            "False Positives: 6\n",
            "False Negatives: 102\n",
            "--------------------------------------------------\n",
            "Accuracy: 0.6571428571428571\n",
            "Mis-Classification: 0.34285714285714286\n",
            "Sensitivity: 0.6344086021505376\n",
            "Specificity: 0.8333333333333334\n",
            "Precision: 0.8333333333333334\n",
            "f_1 Score: 0.7203907203907205\n"
          ]
        }
      ],
      "source": [
        "confusion_metrics(cm_log)"
      ]
    },
    {
      "cell_type": "code",
      "execution_count": null,
      "id": "72e61f97",
      "metadata": {
        "colab": {
          "base_uri": "https://localhost:8080/"
        },
        "id": "72e61f97",
        "outputId": "c230e561-77a2-4884-da17-f65ff9991d18"
      },
      "outputs": [
        {
          "output_type": "stream",
          "name": "stdout",
          "text": [
            "True Positives: 228\n",
            "True Negatives: 20\n",
            "False Positives: 16\n",
            "False Negatives: 51\n",
            "--------------------------------------------------\n",
            "Accuracy: 0.7873015873015873\n",
            "Mis-Classification: 0.21269841269841272\n",
            "Sensitivity: 0.8172043010752689\n",
            "Specificity: 0.5555555555555556\n",
            "Precision: 0.5555555555555556\n",
            "f_1 Score: 0.6614447345517842\n"
          ]
        }
      ],
      "source": [
        "confusion_metrics(cm_reg_rf)"
      ]
    },
    {
      "cell_type": "code",
      "execution_count": null,
      "id": "8d8bfdf7",
      "metadata": {
        "colab": {
          "base_uri": "https://localhost:8080/"
        },
        "id": "8d8bfdf7",
        "outputId": "5f7906be-6eaf-40ec-b14d-1218cb7696e1"
      },
      "outputs": [
        {
          "output_type": "stream",
          "name": "stdout",
          "text": [
            "True Positives: 232\n",
            "True Negatives: 19\n",
            "False Positives: 17\n",
            "False Negatives: 47\n",
            "--------------------------------------------------\n",
            "Accuracy: 0.7968253968253968\n",
            "Mis-Classification: 0.20317460317460323\n",
            "Sensitivity: 0.8315412186379928\n",
            "Specificity: 0.5277777777777778\n",
            "Precision: 0.5277777777777778\n",
            "f_1 Score: 0.6457188896213286\n"
          ]
        }
      ],
      "source": [
        "confusion_metrics(cm_reg_rf_2)"
      ]
    },
    {
      "cell_type": "code",
      "execution_count": null,
      "id": "9dd4425e",
      "metadata": {
        "colab": {
          "base_uri": "https://localhost:8080/"
        },
        "id": "9dd4425e",
        "outputId": "52d94701-324d-4176-85f5-ecc36065c622"
      },
      "outputs": [
        {
          "output_type": "stream",
          "name": "stdout",
          "text": [
            "True Positives: 207\n",
            "True Negatives: 21\n",
            "False Positives: 15\n",
            "False Negatives: 72\n",
            "--------------------------------------------------\n",
            "Accuracy: 0.7238095238095238\n",
            "Mis-Classification: 0.2761904761904762\n",
            "Sensitivity: 0.7419354838709677\n",
            "Specificity: 0.5833333333333334\n",
            "Precision: 0.5833333333333334\n",
            "f_1 Score: 0.6531440162271805\n"
          ]
        }
      ],
      "source": [
        "confusion_metrics(cm_support_vector_classifier)"
      ]
    },
    {
      "cell_type": "markdown",
      "id": "11893972",
      "metadata": {
        "id": "11893972"
      },
      "source": [
        "**To balance our model efficiency in identifying the at-risk students while still having low mis-classification rate (to ensure our faculty/advisor team has the capacity to acommodate these targeted students), we would choose the Logistic Regression model. The specificity is over .83, while we have a relatively high accuracy and low mis-classification rate**"
      ]
    },
    {
      "cell_type": "code",
      "execution_count": null,
      "id": "a4cdc463",
      "metadata": {
        "id": "a4cdc463",
        "colab": {
          "base_uri": "https://localhost:8080/",
          "height": 477
        },
        "outputId": "c72a5c0c-fdec-4f12-cba1-01adff75db05"
      },
      "outputs": [
        {
          "output_type": "display_data",
          "data": {
            "text/plain": [
              "<Figure size 720x360 with 1 Axes>"
            ],
            "image/png": "[encoded data removed]"
          },
          "metadata": {
            "needs_background": "light"
          }
        }
      ],
      "source": [
        "feature_importance=pd.DataFrame({'feature':list(X.columns),'feature_importance':[abs(i) for i in reg_log.coef_[0]]})\n",
        "feature_importance=feature_importance.sort_values('feature_importance',ascending=False)\n",
        "plt.figure(figsize=(10, 5))\n",
        "plt.bar(feature_importance[\"feature\"],feature_importance[\"feature_importance\"])\n",
        "plt.xticks(rotation = 90)\n",
        "plt.xlabel('Predictor Variables for Student Success')\n",
        "plt.ylabel('Feature Importance of Attributes')\n",
        "plt.show() "
      ]
    },
    {
      "cell_type": "code",
      "execution_count": null,
      "id": "02826585",
      "metadata": {
        "colab": {
          "base_uri": "https://localhost:8080/",
          "height": 645
        },
        "id": "02826585",
        "outputId": "d9b868e9-d66b-4040-8856-300a7c60dbd8"
      },
      "outputs": [
        {
          "output_type": "execute_result",
          "data": {
            "text/plain": [
              "                                   coef\n",
              "Term.Count.Greek               3.356913\n",
              "Major.Changes                  2.303743\n",
              "Undeclared                     2.221406\n",
              "CT.Honors.Student_Y            2.181829\n",
              "CT.Residency_Resident          1.633093\n",
              "CT.First.Semester.GPA.Average  1.589087\n",
              "Information_Systems            1.506603\n",
              "CT.BEST                        1.395258\n",
              "Mgt_Ldr                        1.361840\n",
              "Distance                       1.325430\n",
              "Business_Economics             1.275215\n",
              "Chemistry                      1.045684\n",
              "Undeclared_Bus                 1.000000\n",
              "BLS342_B                       1.000000\n",
              "ACC222_B                       1.000000\n",
              "FIN301_B                       1.000000\n",
              "CSE148_F                       1.000000\n",
              "Mth_Stats                      0.952025\n",
              "MusicPerformance               0.817879"
            ],
            "text/html": [
              "\n",
              "  <div id=\"df-f8229bea-aa09-46c9-b7b6-ad0c8b04481d\">\n",
              "    <div class=\"colab-df-container\">\n",
              "      <div>\n",
              "<style scoped>\n",
              "    .dataframe tbody tr th:only-of-type {\n",
              "        vertical-align: middle;\n",
              "    }\n",
              "\n",
              "    .dataframe tbody tr th {\n",
              "        vertical-align: top;\n",
              "    }\n",
              "\n",
              "    .dataframe thead th {\n",
              "        text-align: right;\n",
              "    }\n",
              "</style>\n",
              "<table border=\"1\" class=\"dataframe\">\n",
              "  <thead>\n",
              "    <tr style=\"text-align: right;\">\n",
              "      <th></th>\n",
              "      <th>coef</th>\n",
              "    </tr>\n",
              "  </thead>\n",
              "  <tbody>\n",
              "    <tr>\n",
              "      <th>Term.Count.Greek</th>\n",
              "      <td>3.356913</td>\n",
              "    </tr>\n",
              "    <tr>\n",
              "      <th>Major.Changes</th>\n",
              "      <td>2.303743</td>\n",
              "    </tr>\n",
              "    <tr>\n",
              "      <th>Undeclared</th>\n",
              "      <td>2.221406</td>\n",
              "    </tr>\n",
              "    <tr>\n",
              "      <th>CT.Honors.Student_Y</th>\n",
              "      <td>2.181829</td>\n",
              "    </tr>\n",
              "    <tr>\n",
              "      <th>CT.Residency_Resident</th>\n",
              "      <td>1.633093</td>\n",
              "    </tr>\n",
              "    <tr>\n",
              "      <th>CT.First.Semester.GPA.Average</th>\n",
              "      <td>1.589087</td>\n",
              "    </tr>\n",
              "    <tr>\n",
              "      <th>Information_Systems</th>\n",
              "      <td>1.506603</td>\n",
              "    </tr>\n",
              "    <tr>\n",
              "      <th>CT.BEST</th>\n",
              "      <td>1.395258</td>\n",
              "    </tr>\n",
              "    <tr>\n",
              "      <th>Mgt_Ldr</th>\n",
              "      <td>1.361840</td>\n",
              "    </tr>\n",
              "    <tr>\n",
              "      <th>Distance</th>\n",
              "      <td>1.325430</td>\n",
              "    </tr>\n",
              "    <tr>\n",
              "      <th>Business_Economics</th>\n",
              "      <td>1.275215</td>\n",
              "    </tr>\n",
              "    <tr>\n",
              "      <th>Chemistry</th>\n",
              "      <td>1.045684</td>\n",
              "    </tr>\n",
              "    <tr>\n",
              "      <th>Undeclared_Bus</th>\n",
              "      <td>1.000000</td>\n",
              "    </tr>\n",
              "    <tr>\n",
              "      <th>BLS342_B</th>\n",
              "      <td>1.000000</td>\n",
              "    </tr>\n",
              "    <tr>\n",
              "      <th>ACC222_B</th>\n",
              "      <td>1.000000</td>\n",
              "    </tr>\n",
              "    <tr>\n",
              "      <th>FIN301_B</th>\n",
              "      <td>1.000000</td>\n",
              "    </tr>\n",
              "    <tr>\n",
              "      <th>CSE148_F</th>\n",
              "      <td>1.000000</td>\n",
              "    </tr>\n",
              "    <tr>\n",
              "      <th>Mth_Stats</th>\n",
              "      <td>0.952025</td>\n",
              "    </tr>\n",
              "    <tr>\n",
              "      <th>MusicPerformance</th>\n",
              "      <td>0.817879</td>\n",
              "    </tr>\n",
              "  </tbody>\n",
              "</table>\n",
              "</div>\n",
              "      <button class=\"colab-df-convert\" onclick=\"convertToInteractive('df-f8229bea-aa09-46c9-b7b6-ad0c8b04481d')\"\n",
              "              title=\"Convert this dataframe to an interactive table.\"\n",
              "              style=\"display:none;\">\n",
              "        \n",
              "  <svg xmlns=\"http://www.w3.org/2000/svg\" height=\"24px\"viewBox=\"0 0 24 24\"\n",
              "       width=\"24px\">\n",
              "    <path d=\"M0 0h24v24H0V0z\" fill=\"none\"/>\n",
              "    <path d=\"M18.56 5.44l.94 2.06.94-2.06 2.06-.94-2.06-.94-.94-2.06-.94 2.06-2.06.94zm-11 1L8.5 8.5l.94-2.06 2.06-.94-2.06-.94L8.5 2.5l-.94 2.06-2.06.94zm10 10l.94 2.06.94-2.06 2.06-.94-2.06-.94-.94-2.06-.94 2.06-2.06.94z\"/><path d=\"M17.41 7.96l-1.37-1.37c-.4-.4-.92-.59-1.43-.59-.52 0-1.04.2-1.43.59L10.3 9.45l-7.72 7.72c-.78.78-.78 2.05 0 2.83L4 21.41c.39.39.9.59 1.41.59.51 0 1.02-.2 1.41-.59l7.78-7.78 2.81-2.81c.8-.78.8-2.07 0-2.86zM5.41 20L4 18.59l7.72-7.72 1.47 1.35L5.41 20z\"/>\n",
              "  </svg>\n",
              "      </button>\n",
              "      \n",
              "  <style>\n",
              "    .colab-df-container {\n",
              "      display:flex;\n",
              "      flex-wrap:wrap;\n",
              "      gap: 12px;\n",
              "    }\n",
              "\n",
              "    .colab-df-convert {\n",
              "      background-color: #E8F0FE;\n",
              "      border: none;\n",
              "      border-radius: 50%;\n",
              "      cursor: pointer;\n",
              "      display: none;\n",
              "      fill: #1967D2;\n",
              "      height: 32px;\n",
              "      padding: 0 0 0 0;\n",
              "      width: 32px;\n",
              "    }\n",
              "\n",
              "    .colab-df-convert:hover {\n",
              "      background-color: #E2EBFA;\n",
              "      box-shadow: 0px 1px 2px rgba(60, 64, 67, 0.3), 0px 1px 3px 1px rgba(60, 64, 67, 0.15);\n",
              "      fill: #174EA6;\n",
              "    }\n",
              "\n",
              "    [theme=dark] .colab-df-convert {\n",
              "      background-color: #3B4455;\n",
              "      fill: #D2E3FC;\n",
              "    }\n",
              "\n",
              "    [theme=dark] .colab-df-convert:hover {\n",
              "      background-color: #434B5C;\n",
              "      box-shadow: 0px 1px 3px 1px rgba(0, 0, 0, 0.15);\n",
              "      filter: drop-shadow(0px 1px 2px rgba(0, 0, 0, 0.3));\n",
              "      fill: #FFFFFF;\n",
              "    }\n",
              "  </style>\n",
              "\n",
              "      <script>\n",
              "        const buttonEl =\n",
              "          document.querySelector('#df-f8229bea-aa09-46c9-b7b6-ad0c8b04481d button.colab-df-convert');\n",
              "        buttonEl.style.display =\n",
              "          google.colab.kernel.accessAllowed ? 'block' : 'none';\n",
              "\n",
              "        async function convertToInteractive(key) {\n",
              "          const element = document.querySelector('#df-f8229bea-aa09-46c9-b7b6-ad0c8b04481d');\n",
              "          const dataTable =\n",
              "            await google.colab.kernel.invokeFunction('convertToInteractive',\n",
              "                                                     [key], {});\n",
              "          if (!dataTable) return;\n",
              "\n",
              "          const docLinkHtml = 'Like what you see? Visit the ' +\n",
              "            '<a target=\"_blank\" href=https://colab.research.google.com/notebooks/data_table.ipynb>data table notebook</a>'\n",
              "            + ' to learn more about interactive tables.';\n",
              "          element.innerHTML = '';\n",
              "          dataTable['output_type'] = 'display_data';\n",
              "          await google.colab.output.renderOutput(dataTable, element);\n",
              "          const docLink = document.createElement('div');\n",
              "          docLink.innerHTML = docLinkHtml;\n",
              "          element.appendChild(docLink);\n",
              "        }\n",
              "      </script>\n",
              "    </div>\n",
              "  </div>\n",
              "  "
            ]
          },
          "metadata": {},
          "execution_count": 309
        }
      ],
      "source": [
        "odds = np.exp(reg_log.coef_[0])\n",
        "pd.DataFrame(odds, \n",
        "             X.columns, \n",
        "             columns=['coef'])\\\n",
        "            .sort_values(by='coef', ascending=False)"
      ]
    },
    {
      "cell_type": "code",
      "execution_count": null,
      "id": "1c6218a5",
      "metadata": {
        "id": "1c6218a5"
      },
      "outputs": [],
      "source": []
    }
  ],
  "metadata": {
    "kernelspec": {
      "display_name": "Python 3 (ipykernel)",
      "language": "python",
      "name": "python3"
    },
    "language_info": {
      "codemirror_mode": {
        "name": "ipython",
        "version": 3
      },
      "file_extension": ".py",
      "mimetype": "text/x-python",
      "name": "python",
      "nbconvert_exporter": "python",
      "pygments_lexer": "ipython3",
      "version": "3.9.12"
    },
    "colab": {
      "provenance": []
    }
  },
  "nbformat": 4,
  "nbformat_minor": 5
}