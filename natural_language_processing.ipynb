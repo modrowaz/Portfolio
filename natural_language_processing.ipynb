{
 "cells": [
  {
   "cell_type": "markdown",
   "metadata": {
    "application/vnd.databricks.v1+cell": {
     "cellMetadata": {
      "byteLimit": 2048000,
      "rowLimit": 10000
     },
     "inputWidgets": {},
     "nuid": "8b673a5a-f704-4199-84ef-2347885460b0",
     "showTitle": false,
     "title": ""
    }
   },
   "source": [
    "# Predicting Product Ratings using Customer Reviews"
   ]
  },
  {
   "cell_type": "code",
   "execution_count": 0,
   "metadata": {
    "application/vnd.databricks.v1+cell": {
     "cellMetadata": {
      "byteLimit": 2048000,
      "rowLimit": 10000
     },
     "inputWidgets": {},
     "nuid": "f087622c-b94d-48bf-b2f6-a17e7dfebb4c",
     "showTitle": false,
     "title": ""
    }
   },
   "outputs": [],
   "source": [
    "# start the timer\n",
    "import time\n",
    "start_time = time.time()"
   ]
  },
  {
   "cell_type": "markdown",
   "metadata": {
    "application/vnd.databricks.v1+cell": {
     "cellMetadata": {
      "byteLimit": 2048000,
      "rowLimit": 10000
     },
     "inputWidgets": {},
     "nuid": "bb114a74-d0da-4040-9104-82e26eea9943",
     "showTitle": false,
     "title": ""
    }
   },
   "source": [
    "## Environment Setup\n",
    "\n",
    "**`Classroom-Setup`**"
   ]
  },
  {
   "cell_type": "code",
   "execution_count": 0,
   "metadata": {
    "application/vnd.databricks.v1+cell": {
     "cellMetadata": {
      "byteLimit": 2048000,
      "rowLimit": 10000
     },
     "inputWidgets": {},
     "nuid": "f1df5ba5-45fa-40f9-8377-9ed2efefa8a0",
     "showTitle": false,
     "title": ""
    }
   },
   "outputs": [
    {
     "output_type": "display_data",
     "data": {
      "text/html": [
       "<style scoped>\n  .ansiout {\n    display: block;\n    unicode-bidi: embed;\n    white-space: pre-wrap;\n    word-wrap: break-word;\n    word-break: break-all;\n    font-family: \"Source Code Pro\", \"Menlo\", monospace;;\n    font-size: 13px;\n    color: #555;\n    margin-left: 4px;\n    line-height: 19px;\n  }\n</style>"
      ]
     },
     "metadata": {
      "application/vnd.databricks.v1+output": {
       "arguments": {},
       "data": "",
       "errorSummary": "Notebook not found: Users/odrowamm@miamioh.edu/hw2/Includes/Classroom-Setup. Notebooks can be specified via a relative path (./Notebook or ../folder/Notebook) or via an absolute path (/Abs/Path/to/Notebook). Make sure you are specifying the path correctly.\n\nStacktrace:\n  /Users/odrowamm@miamioh.edu/hw2/amazon_lda: python",
       "errorTraceType": null,
       "metadata": {},
       "type": "ipynbError"
      }
     },
     "output_type": "display_data"
    }
   ],
   "source": [
    "%run ./Includes/Classroom-Setup"
   ]
  },
  {
   "cell_type": "markdown",
   "metadata": {
    "application/vnd.databricks.v1+cell": {
     "cellMetadata": {
      "byteLimit": 2048000,
      "rowLimit": 10000
     },
     "inputWidgets": {},
     "nuid": "1dd6ca9b-03e6-4a9f-8917-bd34967a0e3b",
     "showTitle": false,
     "title": ""
    }
   },
   "source": [
    "### Loading the DataFrame"
   ]
  },
  {
   "cell_type": "code",
   "execution_count": 0,
   "metadata": {
    "application/vnd.databricks.v1+cell": {
     "cellMetadata": {
      "byteLimit": 2048000,
      "rowLimit": 10000
     },
     "inputWidgets": {},
     "nuid": "c7bfd6d8-8f03-4aae-bf8c-8ba87fd37bf0",
     "showTitle": false,
     "title": ""
    }
   },
   "outputs": [
    {
     "output_type": "display_data",
     "data": {
      "text/html": [
       "<style scoped>\n  .table-result-container {\n    max-height: 300px;\n    overflow: auto;\n  }\n  table, th, td {\n    border: 1px solid black;\n    border-collapse: collapse;\n  }\n  th, td {\n    padding: 5px;\n  }\n  th {\n    text-align: left;\n  }\n</style><div class='table-result-container'><table class='table-result'><thead style='background-color: white'><tr><th>Id</th><th>ProductId</th><th>UserId</th><th>ProfileName</th><th>HelpfulnessNumerator</th><th>HelpfulnessDenominator</th><th>Score</th><th>Time</th><th>Summary</th><th>Text</th></tr></thead><tbody><tr><td>1</td><td>B001E4KFG0</td><td>A3SGXH7AUHU8GW</td><td>delmartian</td><td>1</td><td>1</td><td>5</td><td>1303862400</td><td>Good Quality Dog Food</td><td>I have bought several of the Vitality canned dog food products and have found them all to be of good quality. The product looks more like a stew than a processed meat and it smells better. My Labrador is finicky and she appreciates this product better than  most.</td></tr><tr><td>2</td><td>B00813GRG4</td><td>A1D87F6ZCVE5NK</td><td>dll pa</td><td>0</td><td>0</td><td>1</td><td>1346976000</td><td>Not as Advertised</td><td>Product arrived labeled as Jumbo Salted Peanuts...the peanuts were actually small sized unsalted. Not sure if this was an error or if the vendor intended to represent the product as \"Jumbo\".</td></tr><tr><td>3</td><td>B000LQOCH0</td><td>ABXLMWJIXXAIN</td><td>Natalia Corres \"Natalia Corres\"</td><td>1</td><td>1</td><td>4</td><td>1219017600</td><td>\"Delight\" says it all</td><td>This is a confection that has been around a few centuries.  It is a light, pillowy citrus gelatin with nuts - in this case Filberts. And it is cut into tiny squares and then liberally coated with powdered sugar.  And it is a tiny mouthful of heaven.  Not too chewy, and very flavorful.  I highly recommend this yummy treat.  If you are familiar with the story of C.S. Lewis' \"The Lion, The Witch, and The Wardrobe\" - this is the treat that seduces Edmund into selling out his Brother and Sisters to the Witch.</td></tr><tr><td>4</td><td>B000UA0QIQ</td><td>A395BORC6FGVXV</td><td>Karl</td><td>3</td><td>3</td><td>2</td><td>1307923200</td><td>Cough Medicine</td><td>If you are looking for the secret ingredient in Robitussin I believe I have found it.  I got this in addition to the Root Beer Extract I ordered (which was good) and made some cherry soda.  The flavor is very medicinal.</td></tr><tr><td>5</td><td>B006K2ZZ7K</td><td>A1UQRSCLF8GW1T</td><td>Michael D. Bigham \"M. Wassir\"</td><td>0</td><td>0</td><td>5</td><td>1350777600</td><td>Great taffy</td><td>Great taffy at a great price.  There was a wide assortment of yummy taffy.  Delivery was very quick.  If your a taffy lover, this is a deal.</td></tr><tr><td>6</td><td>B006K2ZZ7K</td><td>ADT0SRK1MGOEU</td><td>Twoapennything</td><td>0</td><td>0</td><td>4</td><td>1342051200</td><td>Nice Taffy</td><td>I got a wild hair for taffy and ordered this five pound bag. The taffy was all very enjoyable with many flavors: watermelon, root beer, melon, peppermint, grape, etc. My only complaint is there was a bit too much red/black licorice-flavored pieces (just not my particular favorites). Between me, my kids, and my husband, this lasted only two weeks! I would recommend this brand of taffy -- it was a delightful treat.</td></tr><tr><td>7</td><td>B006K2ZZ7K</td><td>A1SP2KVKFXXRU1</td><td>David C. Sullivan</td><td>0</td><td>0</td><td>5</td><td>1340150400</td><td>Great!  Just as good as the expensive brands!</td><td>This saltwater taffy had great flavors and was very soft and chewy.  Each candy was individually wrapped well.  None of the candies were stuck together, which did happen in the expensive version, Fralinger's.  Would highly recommend this candy!  I served it at a beach-themed party and everyone loved it!</td></tr><tr><td>8</td><td>B006K2ZZ7K</td><td>A3JRGQVEQN31IQ</td><td>Pamela G. Williams</td><td>0</td><td>0</td><td>5</td><td>1336003200</td><td>Wonderful, tasty taffy</td><td>This taffy is so good.  It is very soft and chewy.  The flavors are amazing.  I would definitely recommend you buying it.  Very satisfying!!</td></tr><tr><td>9</td><td>B000E7L2R4</td><td>A1MZYO9TZK0BBI</td><td>R. James</td><td>1</td><td>1</td><td>5</td><td>1322006400</td><td>Yay Barley</td><td>Right now I'm mostly just sprouting this so my cats can eat the grass. They love it. I rotate it around with Wheatgrass and Rye too</td></tr><tr><td>10</td><td>B00171APVA</td><td>A21BT40VZCCYT4</td><td>Carol A. Reed</td><td>0</td><td>0</td><td>5</td><td>1351209600</td><td>Healthy Dog Food</td><td>This is a very healthy dog food. Good for their digestion. Also good for small puppies. My dog eats her required amount at every feeding.</td></tr></tbody></table></div>"
      ]
     },
     "metadata": {
      "application/vnd.databricks.v1+output": {
       "addedWidgets": {},
       "aggData": [],
       "aggError": "",
       "aggOverflow": false,
       "aggSchema": [],
       "aggSeriesLimitReached": false,
       "aggType": "",
       "arguments": {},
       "columnCustomDisplayInfos": {},
       "data": [
        [
         1,
         "B001E4KFG0",
         "A3SGXH7AUHU8GW",
         "delmartian",
         1,
         1,
         5,
         1303862400,
         "Good Quality Dog Food",
         "I have bought several of the Vitality canned dog food products and have found them all to be of good quality. The product looks more like a stew than a processed meat and it smells better. My Labrador is finicky and she appreciates this product better than  most."
        ],
        [
         2,
         "B00813GRG4",
         "A1D87F6ZCVE5NK",
         "dll pa",
         0,
         0,
         1,
         1346976000,
         "Not as Advertised",
         "Product arrived labeled as Jumbo Salted Peanuts...the peanuts were actually small sized unsalted. Not sure if this was an error or if the vendor intended to represent the product as \"Jumbo\"."
        ],
        [
         3,
         "B000LQOCH0",
         "ABXLMWJIXXAIN",
         "Natalia Corres \"Natalia Corres\"",
         1,
         1,
         4,
         1219017600,
         "\"Delight\" says it all",
         "This is a confection that has been around a few centuries.  It is a light, pillowy citrus gelatin with nuts - in this case Filberts. And it is cut into tiny squares and then liberally coated with powdered sugar.  And it is a tiny mouthful of heaven.  Not too chewy, and very flavorful.  I highly recommend this yummy treat.  If you are familiar with the story of C.S. Lewis' \"The Lion, The Witch, and The Wardrobe\" - this is the treat that seduces Edmund into selling out his Brother and Sisters to the Witch."
        ],
        [
         4,
         "B000UA0QIQ",
         "A395BORC6FGVXV",
         "Karl",
         3,
         3,
         2,
         1307923200,
         "Cough Medicine",
         "If you are looking for the secret ingredient in Robitussin I believe I have found it.  I got this in addition to the Root Beer Extract I ordered (which was good) and made some cherry soda.  The flavor is very medicinal."
        ],
        [
         5,
         "B006K2ZZ7K",
         "A1UQRSCLF8GW1T",
         "Michael D. Bigham \"M. Wassir\"",
         0,
         0,
         5,
         1350777600,
         "Great taffy",
         "Great taffy at a great price.  There was a wide assortment of yummy taffy.  Delivery was very quick.  If your a taffy lover, this is a deal."
        ],
        [
         6,
         "B006K2ZZ7K",
         "ADT0SRK1MGOEU",
         "Twoapennything",
         0,
         0,
         4,
         1342051200,
         "Nice Taffy",
         "I got a wild hair for taffy and ordered this five pound bag. The taffy was all very enjoyable with many flavors: watermelon, root beer, melon, peppermint, grape, etc. My only complaint is there was a bit too much red/black licorice-flavored pieces (just not my particular favorites). Between me, my kids, and my husband, this lasted only two weeks! I would recommend this brand of taffy -- it was a delightful treat."
        ],
        [
         7,
         "B006K2ZZ7K",
         "A1SP2KVKFXXRU1",
         "David C. Sullivan",
         0,
         0,
         5,
         1340150400,
         "Great!  Just as good as the expensive brands!",
         "This saltwater taffy had great flavors and was very soft and chewy.  Each candy was individually wrapped well.  None of the candies were stuck together, which did happen in the expensive version, Fralinger's.  Would highly recommend this candy!  I served it at a beach-themed party and everyone loved it!"
        ],
        [
         8,
         "B006K2ZZ7K",
         "A3JRGQVEQN31IQ",
         "Pamela G. Williams",
         0,
         0,
         5,
         1336003200,
         "Wonderful, tasty taffy",
         "This taffy is so good.  It is very soft and chewy.  The flavors are amazing.  I would definitely recommend you buying it.  Very satisfying!!"
        ],
        [
         9,
         "B000E7L2R4",
         "A1MZYO9TZK0BBI",
         "R. James",
         1,
         1,
         5,
         1322006400,
         "Yay Barley",
         "Right now I'm mostly just sprouting this so my cats can eat the grass. They love it. I rotate it around with Wheatgrass and Rye too"
        ],
        [
         10,
         "B00171APVA",
         "A21BT40VZCCYT4",
         "Carol A. Reed",
         0,
         0,
         5,
         1351209600,
         "Healthy Dog Food",
         "This is a very healthy dog food. Good for their digestion. Also good for small puppies. My dog eats her required amount at every feeding."
        ]
       ],
       "datasetInfos": [],
       "dbfsResultPath": null,
       "isJsonSchema": true,
       "metadata": {},
       "overflow": false,
       "plotOptions": {
        "customPlotOptions": {},
        "displayType": "table",
        "pivotAggregation": null,
        "pivotColumns": null,
        "xColumns": null,
        "yColumns": null
       },
       "removedWidgets": [],
       "schema": [
        {
         "metadata": "{}",
         "name": "Id",
         "type": "\"integer\""
        },
        {
         "metadata": "{}",
         "name": "ProductId",
         "type": "\"string\""
        },
        {
         "metadata": "{}",
         "name": "UserId",
         "type": "\"string\""
        },
        {
         "metadata": "{}",
         "name": "ProfileName",
         "type": "\"string\""
        },
        {
         "metadata": "{}",
         "name": "HelpfulnessNumerator",
         "type": "\"integer\""
        },
        {
         "metadata": "{}",
         "name": "HelpfulnessDenominator",
         "type": "\"integer\""
        },
        {
         "metadata": "{}",
         "name": "Score",
         "type": "\"integer\""
        },
        {
         "metadata": "{}",
         "name": "Time",
         "type": "\"integer\""
        },
        {
         "metadata": "{}",
         "name": "Summary",
         "type": "\"string\""
        },
        {
         "metadata": "{}",
         "name": "Text",
         "type": "\"string\""
        }
       ],
       "type": "table"
      }
     },
     "output_type": "display_data"
    }
   ],
   "source": [
    "textDF = spark.read.csv(\"/mnt/training/reviews/reviews.csv\", inferSchema = True, header=True, escape='\"')\n",
    "display(textDF.limit(10))"
   ]
  },
  {
   "cell_type": "code",
   "execution_count": 0,
   "metadata": {
    "application/vnd.databricks.v1+cell": {
     "cellMetadata": {
      "byteLimit": 2048000,
      "rowLimit": 10000
     },
     "inputWidgets": {},
     "nuid": "24848a07-3a98-440e-8d13-47a205a84dbc",
     "showTitle": false,
     "title": ""
    }
   },
   "outputs": [
    {
     "output_type": "stream",
     "name": "stdout",
     "output_type": "stream",
     "text": [
      "(568454, 10)\n"
     ]
    }
   ],
   "source": [
    "# check numbers of rows and columns\n",
    "\n",
    "print((textDF.count(), len(textDF.columns)))"
   ]
  },
  {
   "cell_type": "code",
   "execution_count": 0,
   "metadata": {
    "application/vnd.databricks.v1+cell": {
     "cellMetadata": {
      "byteLimit": 2048000,
      "rowLimit": 10000
     },
     "inputWidgets": {},
     "nuid": "d688cf2f-3393-491e-9d29-17c0b0a2681e",
     "showTitle": false,
     "title": ""
    }
   },
   "outputs": [],
   "source": [
    "# sample 10% data for debugging\n",
    "textDF = textDF.sample(False, 0.1)"
   ]
  },
  {
   "cell_type": "markdown",
   "metadata": {
    "application/vnd.databricks.v1+cell": {
     "cellMetadata": {
      "byteLimit": 2048000,
      "rowLimit": 10000
     },
     "inputWidgets": {},
     "nuid": "7f300ced-d870-4bf2-87d2-95999316dc42",
     "showTitle": false,
     "title": ""
    }
   },
   "source": [
    "### Selecting Columns"
   ]
  },
  {
   "cell_type": "code",
   "execution_count": 0,
   "metadata": {
    "application/vnd.databricks.v1+cell": {
     "cellMetadata": {
      "byteLimit": 2048000,
      "rowLimit": 10000
     },
     "inputWidgets": {},
     "nuid": "df941cdd-e77d-498f-882d-8875f8f71720",
     "showTitle": false,
     "title": ""
    }
   },
   "outputs": [
    {
     "output_type": "stream",
     "name": "stdout",
     "output_type": "stream",
     "text": [
      "Out[43]: 57055"
     ]
    }
   ],
   "source": [
    "textDF = textDF.select(\"Id\", \"ProductId\", \"Score\", \"Summary\", \"Text\")\n",
    "\n",
    "textDF.cache().count()"
   ]
  },
  {
   "cell_type": "code",
   "execution_count": 0,
   "metadata": {
    "application/vnd.databricks.v1+cell": {
     "cellMetadata": {
      "byteLimit": 2048000,
      "rowLimit": 10000
     },
     "inputWidgets": {},
     "nuid": "579e0369-cd7b-4844-969d-bd38909f6e18",
     "showTitle": false,
     "title": ""
    }
   },
   "outputs": [
    {
     "output_type": "stream",
     "name": "stdout",
     "output_type": "stream",
     "text": [
      "root\n |-- Id: integer (nullable = true)\n |-- ProductId: string (nullable = true)\n |-- Score: integer (nullable = true)\n |-- Summary: string (nullable = true)\n |-- Text: string (nullable = true)\n\n"
     ]
    }
   ],
   "source": [
    "textDF.printSchema()"
   ]
  },
  {
   "cell_type": "code",
   "execution_count": 0,
   "metadata": {
    "application/vnd.databricks.v1+cell": {
     "cellMetadata": {
      "byteLimit": 2048000,
      "rowLimit": 10000
     },
     "inputWidgets": {},
     "nuid": "5156cec7-1c68-4fb2-ae3b-81b245aeec40",
     "showTitle": false,
     "title": ""
    }
   },
   "outputs": [],
   "source": [
    "from pyspark.sql.types import IntegerType\n",
    "from pyspark.sql.functions import col\n",
    "\n",
    "textDF = textDF.withColumn('Score', col('Score').cast(IntegerType()))"
   ]
  },
  {
   "cell_type": "code",
   "execution_count": 0,
   "metadata": {
    "application/vnd.databricks.v1+cell": {
     "cellMetadata": {
      "byteLimit": 2048000,
      "rowLimit": 10000
     },
     "inputWidgets": {},
     "nuid": "90309f55-e67f-4f08-afdf-ef56c0b93328",
     "showTitle": false,
     "title": ""
    }
   },
   "outputs": [
    {
     "output_type": "stream",
     "name": "stdout",
     "output_type": "stream",
     "text": [
      "root\n |-- Id: integer (nullable = true)\n |-- ProductId: string (nullable = true)\n |-- Score: integer (nullable = true)\n |-- Summary: string (nullable = true)\n |-- Text: string (nullable = true)\n\n"
     ]
    }
   ],
   "source": [
    "textDF.printSchema()"
   ]
  },
  {
   "cell_type": "markdown",
   "metadata": {
    "application/vnd.databricks.v1+cell": {
     "cellMetadata": {
      "byteLimit": 2048000,
      "rowLimit": 10000
     },
     "inputWidgets": {},
     "nuid": "1ae0e61c-06e5-4c54-9f0e-ddee37ca5aeb",
     "showTitle": false,
     "title": ""
    }
   },
   "source": [
    "## LDA"
   ]
  },
  {
   "cell_type": "code",
   "execution_count": 0,
   "metadata": {
    "application/vnd.databricks.v1+cell": {
     "cellMetadata": {
      "byteLimit": 2048000,
      "rowLimit": 10000
     },
     "inputWidgets": {},
     "nuid": "bdf0cd31-64ca-4c7f-b4a4-a66311bcae9d",
     "showTitle": false,
     "title": ""
    }
   },
   "outputs": [],
   "source": [
    "import sparknlp\n",
    "\n",
    "from sparknlp.annotator import *\n",
    "from sparknlp.common import *\n",
    "from sparknlp.base import *\n",
    "from nltk.corpus import stopwords\n",
    "\n",
    "from pyspark.ml import Pipeline\n"
   ]
  },
  {
   "cell_type": "code",
   "execution_count": 0,
   "metadata": {
    "application/vnd.databricks.v1+cell": {
     "cellMetadata": {
      "byteLimit": 2048000,
      "rowLimit": 10000
     },
     "inputWidgets": {},
     "nuid": "632e59d2-7a49-4b38-9fe8-45de5baf3353",
     "showTitle": false,
     "title": ""
    }
   },
   "outputs": [
    {
     "output_type": "stream",
     "name": "stdout",
     "output_type": "stream",
     "text": [
      "tfhub_use download started this may take some time.\nApproximate size to download 923.7 MB\n\r[ | ]\r[OK!]\nsentimentdl_use_twitter download started this may take some time.\nApproximate size to download 11.4 MB\n\r[ | ]\r[OK!]\n"
     ]
    }
   ],
   "source": [
    "## text cleaning annotators & Sentiment Analysis stages\n",
    "documentAssembler = DocumentAssembler()\\\n",
    "    .setInputCol(\"Text\")\\\n",
    "    .setOutputCol(\"document\")\n",
    "    \n",
    "senEmbedder = UniversalSentenceEncoder.pretrained(name=\"tfhub_use\", lang=\"en\")\\\n",
    " .setInputCols([\"document\"])\\\n",
    " .setOutputCol(\"sentence_embeddings\")\n",
    "\n",
    "sentimentModel = SentimentDLModel.pretrained(name='sentimentdl_use_twitter', lang=\"en\")\\\n",
    "    .setInputCols([\"sentence_embeddings\"])\\\n",
    "    .setOutputCol(\"sentiment\")\n",
    "\n",
    "finisher = Finisher() \\\n",
    "    .setInputCols([\"sentiment\"]) \\\n",
    "    .setOutputCols([\"sentiment_result2\"]) \\\n",
    "    .setOutputAsArray(False) \\\n",
    "    .setCleanAnnotations(True)\n",
    "\n",
    "from pyspark.ml.feature import StringIndexer\n",
    "\n",
    "## string indexer on sentiment results \n",
    "sentIndex = StringIndexer(inputCol='sentiment_result2',outputCol='sent_label')\n",
    "\n",
    "from pyspark.ml.feature import Tokenizer,StopWordsRemover, CountVectorizer,IDF,StringIndexer\n",
    "\n",
    "\n",
    "## LDA pre precessing steps\n",
    "tokenizer = Tokenizer(inputCol=\"Text\", outputCol=\"token_text\")\n",
    "stopremove = StopWordsRemover(inputCol='token_text',outputCol='stop_tokens')\n",
    "count_vec = CountVectorizer(inputCol='stop_tokens',outputCol='c_vec')\n",
    "\n",
    "\n",
    "from pyspark.ml.clustering import LDA\n",
    "\n",
    "# Trains a LDA model.\n",
    "lda = LDA(k=10, maxIter=10, featuresCol='c_vec')\n",
    "\n",
    "## assemble features vector\n",
    "from pyspark.ml.feature import VectorAssembler\n",
    "from pyspark.ml.linalg import Vector\n",
    "assembler = VectorAssembler(inputCols=['sent_label','topicDistribution'],outputCol='features')\n",
    "\n",
    "## create pipeline for sentiment analysis, lda, and vector assembler\n",
    "from pyspark.ml import Pipeline\n",
    "\n",
    "\n",
    "lda_pipe = Pipeline(stages=[documentAssembler, senEmbedder, sentimentModel, finisher, sentIndex, tokenizer, stopremove, count_vec, lda, assembler])\n"
   ]
  },
  {
   "cell_type": "code",
   "execution_count": 0,
   "metadata": {
    "application/vnd.databricks.v1+cell": {
     "cellMetadata": {
      "byteLimit": 2048000,
      "rowLimit": 10000
     },
     "inputWidgets": {},
     "nuid": "a65dae62-8ca9-4b62-838d-d7c7836c1121",
     "showTitle": false,
     "title": ""
    }
   },
   "outputs": [],
   "source": [
    "lda_model = lda_pipe.fit(textDF)\n",
    "processed = lda_model.transform(textDF).persist()"
   ]
  },
  {
   "cell_type": "code",
   "execution_count": 0,
   "metadata": {
    "application/vnd.databricks.v1+cell": {
     "cellMetadata": {
      "byteLimit": 2048000,
      "rowLimit": 10000
     },
     "inputWidgets": {},
     "nuid": "1be6eaba-fd7f-4aed-a970-24e8bf7dd035",
     "showTitle": false,
     "title": ""
    }
   },
   "outputs": [
    {
     "output_type": "display_data",
     "data": {
      "text/html": [
       "<style scoped>\n  .table-result-container {\n    max-height: 300px;\n    overflow: auto;\n  }\n  table, th, td {\n    border: 1px solid black;\n    border-collapse: collapse;\n  }\n  th, td {\n    padding: 5px;\n  }\n  th {\n    text-align: left;\n  }\n</style><div class='table-result-container'><table class='table-result'><thead style='background-color: white'><tr><th>Id</th><th>ProductId</th><th>Score</th><th>Summary</th><th>Text</th><th>sentiment_result2</th><th>sent_label</th><th>token_text</th><th>stop_tokens</th><th>c_vec</th><th>topicDistribution</th><th>features</th></tr></thead><tbody><tr><td>8</td><td>B006K2ZZ7K</td><td>5</td><td>Wonderful, tasty taffy</td><td>This taffy is so good.  It is very soft and chewy.  The flavors are amazing.  I would definitely recommend you buying it.  Very satisfying!!</td><td>positive</td><td>0.0</td><td>List(this, taffy, is, so, good., , it, is, very, soft, and, chewy., , the, flavors, are, amazing., , i, would, definitely, recommend, you, buying, it., , very, satisfying!!)</td><td>List(taffy, good., , soft, chewy., , flavors, amazing., , definitely, recommend, buying, it., , satisfying!!)</td><td>Map(vectorType -> sparse, length -> 140052, indices -> List(0, 18, 55, 98, 100, 135, 138, 366, 1189, 3358, 5704, 122795), values -> List(4.0, 1.0, 1.0, 1.0, 1.0, 1.0, 1.0, 1.0, 1.0, 1.0, 1.0, 1.0))</td><td>Map(vectorType -> dense, length -> 10, values -> List(0.005566218170119425, 0.005611343533239611, 0.005551693192480247, 0.0056048831503632025, 0.005552638951381288, 0.005562603179898767, 0.9498516681333362, 0.005568093404497909, 0.005562015428270905, 0.005568842856412426))</td><td>Map(vectorType -> dense, length -> 11, values -> List(0.0, 0.005566218170119425, 0.005611343533239611, 0.005551693192480247, 0.0056048831503632025, 0.005552638951381288, 0.005562603179898767, 0.9498516681333362, 0.005568093404497909, 0.005562015428270905, 0.005568842856412426))</td></tr><tr><td>13</td><td>B0009XLVG0</td><td>1</td><td>My Cats Are Not Fans of the New Food</td><td>My cats have been happily eating Felidae Platinum for more than two years. I just got a new bag and the shape of the food is different. They tried the new food when I first put it in their bowls and now the bowls sit full and the kitties will not touch the food. I've noticed similar reviews related to formula changes in the past. Unfortunately, I now need to find a new food that my cats will eat.</td><td>negative</td><td>1.0</td><td>List(my, cats, have, been, happily, eating, felidae, platinum, for, more, than, two, years., i, just, got, a, new, bag, and, the, shape, of, the, food, is, different., they, tried, the, new, food, when, i, first, put, it, in, their, bowls, and, now, the, bowls, sit, full, and, the, kitties, will, not, touch, the, food., i've, noticed, similar, reviews, related, to, formula, changes, in, the, past., unfortunately,, i, now, need, to, find, a, new, food, that, my, cats, will, eat.)</td><td>List(cats, happily, eating, felidae, platinum, two, years., got, new, bag, shape, food, different., tried, new, food, first, put, bowls, bowls, sit, full, kitties, touch, food., noticed, similar, reviews, related, formula, changes, past., unfortunately,, need, find, new, food, cats, eat.)</td><td>Map(vectorType -> sparse, length -> 140052, indices -> List(14, 23, 24, 33, 42, 50, 54, 83, 89, 107, 136, 168, 188, 202, 277, 429, 432, 549, 568, 787, 886, 1043, 1066, 1611, 1913, 2623, 2636, 2697, 2759, 2922, 4280, 10000, 15228), values -> List(3.0, 1.0, 1.0, 1.0, 1.0, 1.0, 1.0, 1.0, 1.0, 1.0, 3.0, 2.0, 1.0, 1.0, 1.0, 1.0, 1.0, 1.0, 1.0, 1.0, 1.0, 1.0, 1.0, 1.0, 1.0, 2.0, 1.0, 1.0, 1.0, 1.0, 1.0, 1.0, 1.0))</td><td>Map(vectorType -> dense, length -> 10, values -> List(0.002220026979203955, 0.0022380010864382818, 0.002214219590192951, 0.0022354236094553376, 0.0022146039780849835, 0.0022185836542123736, 0.979998963139558, 0.0022207640924727223, 0.002218339916477742, 0.0022210739539034424))</td><td>Map(vectorType -> dense, length -> 11, values -> List(1.0, 0.002220026979203955, 0.0022380010864382818, 0.002214219590192951, 0.0022354236094553376, 0.0022146039780849835, 0.0022185836542123736, 0.979998963139558, 0.0022207640924727223, 0.002218339916477742, 0.0022210739539034424))</td></tr><tr><td>27</td><td>B001GVISJM</td><td>1</td><td>Nasty No flavor</td><td>The candy is just red , No flavor . Just  plan and chewy .  I would never buy them again</td><td>negative</td><td>1.0</td><td>List(the, candy, is, just, red, ,, no, flavor, ., just, , plan, and, chewy, ., , i, would, never, buy, them, again)</td><td>List(candy, red, ,, flavor, ., , plan, chewy, ., , never, buy)</td><td>Map(vectorType -> sparse, length -> 140052, indices -> List(0, 13, 22, 57, 292, 334, 517, 768, 842, 870), values -> List(2.0, 1.0, 1.0, 1.0, 1.0, 1.0, 2.0, 1.0, 1.0, 1.0))</td><td>Map(vectorType -> dense, length -> 10, values -> List(0.006858290025990384, 0.0069138692165904665, 0.0068403567091160945, 0.006905932830447659, 0.006841559290535272, 0.006853831148008518, 0.9382109693193177, 0.0068605579394475065, 0.006853113488650832, 0.006861520031895483))</td><td>Map(vectorType -> dense, length -> 11, values -> List(1.0, 0.006858290025990384, 0.0069138692165904665, 0.0068403567091160945, 0.006905932830447659, 0.006841559290535272, 0.006853831148008518, 0.9382109693193177, 0.0068605579394475065, 0.006853113488650832, 0.006861520031895483))</td></tr><tr><td>32</td><td>B003F6UO7K</td><td>5</td><td>THIS IS MY TASTE...</td><td>This offer is a great price and a great taste, thanks Amazon for selling this product.<br /><br />Staral</td><td>positive</td><td>0.0</td><td>List(this, offer, is, a, great, price, and, a, great, taste,, thanks, amazon, for, selling, this, product.<br, /><br, />staral)</td><td>List(offer, great, price, great, taste,, thanks, amazon, selling, product.<br, /><br, />staral)</td><td>Map(vectorType -> sparse, length -> 140052, indices -> List(1, 5, 35, 37, 302, 583, 1012, 1122, 1634, 138647), values -> List(1.0, 2.0, 1.0, 1.0, 1.0, 1.0, 1.0, 1.0, 1.0, 1.0))</td><td>Map(vectorType -> dense, length -> 10, values -> List(0.0074338296269999046, 0.00749414045135798, 0.007414430459873014, 0.007485638382866978, 0.007415810626918955, 0.007429081812077447, 0.9330250699241449, 0.0074363990962649715, 0.007428129143152479, 0.007437470476343399))</td><td>Map(vectorType -> dense, length -> 11, values -> List(0.0, 0.0074338296269999046, 0.00749414045135798, 0.007414430459873014, 0.007485638382866978, 0.007415810626918955, 0.007429081812077447, 0.9330250699241449, 0.0074363990962649715, 0.007428129143152479, 0.007437470476343399))</td></tr><tr><td>37</td><td>B001EO5QW8</td><td>5</td><td>Love Gluten Free Oatmeal!!!</td><td>For those of us with celiac disease this product is a lifesaver and what could be better than getting it at almost half the price of the grocery or health food store!  I love McCann's instant oatmeal - all flavors!!!<br /><br />Thanks,<br />Abby</td><td>neutral</td><td>2.0</td><td>List(for, those, of, us, with, celiac, disease, this, product, is, a, lifesaver, and, what, could, be, better, than, getting, it, at, almost, half, the, price, of, the, grocery, or, health, food, store!, , i, love, mccann's, instant, oatmeal, -, all, flavors!!!<br, /><br, />thanks,<br, />abby)</td><td>List(us, celiac, disease, product, lifesaver, better, getting, almost, half, price, grocery, health, food, store!, , love, mccann's, instant, oatmeal, -, flavors!!!<br, /><br, />thanks,<br, />abby)</td><td>Map(vectorType -> sparse, length -> 140052, indices -> List(0, 1, 7, 10, 14, 19, 32, 37, 137, 176, 178, 187, 248, 273, 561, 587, 2263, 3006, 5591, 6060, 9266, 15633, 93156, 102746), values -> List(1.0, 1.0, 1.0, 1.0, 1.0, 1.0, 1.0, 1.0, 1.0, 1.0, 1.0, 1.0, 1.0, 1.0, 1.0, 1.0, 1.0, 1.0, 1.0, 1.0, 1.0, 1.0, 1.0, 1.0))</td><td>Map(vectorType -> dense, length -> 10, values -> List(0.0035563278478382998, 0.0035851788658388885, 0.0035470609172359017, 0.00358105645855103, 0.0035476530324701347, 0.003554050511791025, 0.967959491323229, 0.003557536315526835, 0.003553652390020925, 0.003557992337497972))</td><td>Map(vectorType -> dense, length -> 11, values -> List(2.0, 0.0035563278478382998, 0.0035851788658388885, 0.0035470609172359017, 0.00358105645855103, 0.0035476530324701347, 0.003554050511791025, 0.967959491323229, 0.003557536315526835, 0.003553652390020925, 0.003557992337497972))</td></tr><tr><td>39</td><td>B001EO5QW8</td><td>4</td><td>GOOD WAY TO START THE DAY....</td><td>I WAS VISITING MY FRIEND NATE THE OTHER MORNING FOR COFFEE , HE CAME OUT OF HIS STORAGE ROOM WITH ( A PACKET OF McCANNS INSTANT IRISH OATMEAL .) HE SUGGESTED THAT I TRY IT FOR MY OWN USE ,IN MY STASH . SOMETIMES NATE DOSE NOT GIVE YOU A CHANCE TO SAY NO , SO I ENDED UP TRYING THE APPLE AND CINN . FOUND IT TO BE VERY TASTEFULL WHEN MADE WITH WATER OR POWDERED MILK . IT GOES GOOD WITH O.J. AND COFFEE AND A SLICE OF TOAST AND YOUR READY TO TAKE ON THE WORLD...OR THE DAY AT LEAST..  JERRY REITH...</td><td>positive</td><td>0.0</td><td>List(i, was, visiting, my, friend, nate, the, other, morning, for, coffee, ,, he, came, out, of, his, storage, room, with, (, a, packet, of, mccanns, instant, irish, oatmeal, .), he, suggested, that, i, try, it, for, my, own, use, ,in, my, stash, ., sometimes, nate, dose, not, give, you, a, chance, to, say, no, ,, so, i, ended, up, trying, the, apple, and, cinn, ., found, it, to, be, very, tastefull, when, made, with, water, or, powdered, milk, ., it, goes, good, with, o.j., and, coffee, and, a, slice, of, toast, and, your, ready, to, take, on, the, world...or, the, day, at, least.., , jerry, reith...)</td><td>List(visiting, friend, nate, morning, coffee, ,, came, storage, room, (, packet, mccanns, instant, irish, oatmeal, .), suggested, try, use, ,in, stash, ., sometimes, nate, dose, give, chance, say, ,, ended, trying, apple, cinn, ., found, tastefull, made, water, powdered, milk, ., goes, good, o.j., coffee, slice, toast, ready, take, world...or, day, least.., , jerry, reith...)</td><td>Map(vectorType -> sparse, length -> 140052, indices -> List(0, 4, 8, 17, 29, 36, 40, 48, 51, 90, 118, 129, 145, 162, 173, 285, 350, 373, 517, 552, 561, 585, 587, 685, 780, 839, 870, 940, 1039, 1153, 1231, 1442, 1792, 2020, 2406, 2506, 2733, 2858, 3346, 26236, 31675, 38276, 38755, 40748, 45057, 47885, 63347, 92585, 122990, 138066), values -> List(1.0, 1.0, 2.0, 1.0, 1.0, 1.0, 1.0, 1.0, 1.0, 1.0, 1.0, 1.0, 1.0, 1.0, 1.0, 1.0, 1.0, 1.0, 3.0, 1.0, 1.0, 1.0, 1.0, 1.0, 1.0, 1.0, 2.0, 1.0, 1.0, 1.0, 1.0, 1.0, 1.0, 1.0, 1.0, 1.0, 1.0, 1.0, 1.0, 1.0, 1.0, 1.0, 1.0, 1.0, 1.0, 2.0, 1.0, 1.0, 1.0, 1.0))</td><td>Map(vectorType -> dense, length -> 10, values -> List(0.0015849085647570945, 0.0015977358711001019, 0.0015807608786107157, 0.0015958958755557457, 0.0015810419767963986, 0.0015838714709439814, 0.9857208736250537, 0.00158542262426886, 0.0015838419286062818, 0.0015856471843070643))</td><td>Map(vectorType -> dense, length -> 11, values -> List(0.0, 0.0015849085647570945, 0.0015977358711001019, 0.0015807608786107157, 0.0015958958755557457, 0.0015810419767963986, 0.0015838714709439814, 0.9857208736250537, 0.00158542262426886, 0.0015838419286062818, 0.0015856471843070643))</td></tr><tr><td>41</td><td>B001EO5QW8</td><td>5</td><td>Why wouldn't you buy oatmeal from Mcanns? Tastes great!</td><td>The variety packs taste great!<br /><br />I have them every morning. At $0.30 cents per meal, I don't understand why everyone on earth isn't buying this stuff up.<br /><br />Maple and brown sugar is terrific, followed by apples and cinnamon, followed by regular. You don't get tired of the same ole thing, and they taste great.<br /><br />I just boil water from a small pot, empty the packet or 2 in a bowl, pour in boiling water, and watch it expand to 2x its size!<br /><br />Taste really good and takes minutes to prepare.<br /><br />Not sure why everyone on earth isn't this. Convenient, healthy, very quick, excellent quality, and extremely cheap...</td><td>negative</td><td>1.0</td><td>List(the, variety, packs, taste, great!<br, /><br, />i, have, them, every, morning., at, $0.30, cents, per, meal,, i, don't, understand, why, everyone, on, earth, isn't, buying, this, stuff, up.<br, /><br, />maple, and, brown, sugar, is, terrific,, followed, by, apples, and, cinnamon,, followed, by, regular., you, don't, get, tired, of, the, same, ole, thing,, and, they, taste, great.<br, /><br, />i, just, boil, water, from, a, small, pot,, empty, the, packet, or, 2, in, a, bowl,, pour, in, boiling, water,, and, watch, it, expand, to, 2x, its, size!<br, /><br, />taste, really, good, and, takes, minutes, to, prepare.<br, /><br, />not, sure, why, everyone, on, earth, isn't, this., convenient,, healthy,, very, quick,, excellent, quality,, and, extremely, cheap...)</td><td>List(variety, packs, taste, great!<br, /><br, />i, every, morning., $0.30, cents, per, meal,, understand, everyone, earth, buying, stuff, up.<br, /><br, />maple, brown, sugar, terrific,, followed, apples, cinnamon,, followed, regular., get, tired, ole, thing,, taste, great.<br, /><br, />i, boil, water, small, pot,, empty, packet, 2, bowl,, pour, boiling, water,, watch, expand, 2x, size!<br, /><br, />taste, really, good, takes, minutes, prepare.<br, /><br, />not, sure, everyone, earth, this., convenient,, healthy,, quick,, excellent, quality,, extremely, cheap...)</td><td>Map(vectorType -> sparse, length -> 140052, indices -> List(1, 4, 6, 9, 12, 31, 51, 60, 70, 77, 87, 100, 101, 140, 147, 207, 274, 324, 388, 421, 430, 449, 485, 491, 629, 685, 803, 997, 1068, 1101, 1132, 1158, 1408, 1446, 1454, 1470, 1650, 1770, 1886, 1907, 2025, 2294, 2715, 2938, 3072, 3101, 3260, 3381, 3394, 3740, 5342, 6052, 7000, 7042, 8743, 9319, 10624, 26696, 30567, 32062, 38104, 137414), values -> List(5.0, 1.0, 2.0, 1.0, 1.0, 2.0, 1.0, 1.0, 1.0, 1.0, 1.0, 1.0, 1.0, 1.0, 1.0, 1.0, 1.0, 1.0, 2.0, 1.0, 1.0, 1.0, 1.0, 1.0, 1.0, 1.0, 1.0, 1.0, 1.0, 1.0, 1.0, 1.0, 1.0, 1.0, 2.0, 1.0, 1.0, 1.0, 1.0, 1.0, 1.0, 1.0, 1.0, 1.0, 1.0, 2.0, 1.0, 1.0, 1.0, 1.0, 1.0, 1.0, 1.0, 1.0, 1.0, 1.0, 1.0, 1.0, 1.0, 1.0, 1.0, 1.0))</td><td>Map(vectorType -> dense, length -> 10, values -> List(0.0012323266644889514, 0.001242313804396048, 0.001229106498273743, 0.0012408743783171655, 0.0012293147605256342, 0.0012315201666468047, 0.9888975103138901, 0.0012327300933465007, 0.0012313958597548677, 0.0012329074603604385))</td><td>Map(vectorType -> dense, length -> 11, values -> List(1.0, 0.0012323266644889514, 0.001242313804396048, 0.001229106498273743, 0.0012408743783171655, 0.0012293147605256342, 0.0012315201666468047, 0.9888975103138901, 0.0012327300933465007, 0.0012313958597548677, 0.0012329074603604385))</td></tr><tr><td>43</td><td>B001EO5QW8</td><td>5</td><td>Food-Great</td><td>I have McCann's Oatmeal every morning and by ordering it from Amazon I am able to save almost $3.00 per box.<br />It is a great product. Tastes great and very healthy</td><td>positive</td><td>0.0</td><td>List(i, have, mccann's, oatmeal, every, morning, and, by, ordering, it, from, amazon, i, am, able, to, save, almost, $3.00, per, box.<br, />it, is, a, great, product., tastes, great, and, very, healthy)</td><td>List(mccann's, oatmeal, every, morning, ordering, amazon, able, save, almost, $3.00, per, box.<br, />it, great, product., tastes, great, healthy)</td><td>Map(vectorType -> sparse, length -> 140052, indices -> List(5, 35, 43, 60, 105, 124, 137, 147, 206, 285, 299, 308, 523, 561, 4192, 6060, 10860), values -> List(2.0, 1.0, 1.0, 1.0, 1.0, 1.0, 1.0, 1.0, 1.0, 1.0, 1.0, 1.0, 1.0, 1.0, 1.0, 1.0, 1.0))</td><td>Map(vectorType -> dense, length -> 10, values -> List(0.004683735133434455, 0.004721674262558895, 0.004671509595059264, 0.004716266161473063, 0.004672288456731633, 0.004680675424606294, 0.9578024710712074, 0.004685273996681718, 0.0046801780384107435, 0.0046859278598365365))</td><td>Map(vectorType -> dense, length -> 11, values -> List(0.0, 0.004683735133434455, 0.004721674262558895, 0.004671509595059264, 0.004716266161473063, 0.004672288456731633, 0.004680675424606294, 0.9578024710712074, 0.004685273996681718, 0.0046801780384107435, 0.0046859278598365365))</td></tr><tr><td>47</td><td>B001EO5QW8</td><td>5</td><td>good</td><td>Good oatmeal.  I like the apple cinnamon the best.  Though I wouldn't follow the directions on the package since it always comes out too soupy for my taste.  That could just be me since I like my oatmeal really thick to add some milk on top of.</td><td>positive</td><td>0.0</td><td>List(good, oatmeal., , i, like, the, apple, cinnamon, the, best., , though, i, wouldn't, follow, the, directions, on, the, package, since, it, always, comes, out, too, soupy, for, my, taste., , that, could, just, be, me, since, i, like, my, oatmeal, really, thick, to, add, some, milk, on, top, of.)</td><td>List(good, oatmeal., , like, apple, cinnamon, best., , though, follow, directions, package, since, always, comes, soupy, taste., , since, like, oatmeal, really, thick, add, milk, top, of.)</td><td>Map(vectorType -> sparse, length -> 140052, indices -> List(0, 2, 4, 12, 47, 66, 67, 145, 150, 193, 212, 215, 279, 418, 552, 561, 628, 757, 1128, 1714, 2635, 2987, 14865), values -> List(3.0, 2.0, 1.0, 1.0, 2.0, 1.0, 1.0, 1.0, 1.0, 1.0, 1.0, 1.0, 1.0, 1.0, 1.0, 1.0, 1.0, 1.0, 1.0, 1.0, 1.0, 1.0, 1.0))</td><td>Map(vectorType -> dense, length -> 10, values -> List(0.003174084684202073, 0.0031997923519918895, 0.003165779565866592, 0.003196107262509054, 0.0031663327387300507, 0.0031720112703257364, 0.9714035033625242, 0.003175129913737266, 0.003171684916983103, 0.003175573933129953))</td><td>Map(vectorType -> dense, length -> 11, values -> List(0.0, 0.003174084684202073, 0.0031997923519918895, 0.003165779565866592, 0.003196107262509054, 0.0031663327387300507, 0.0031720112703257364, 0.9714035033625242, 0.003175129913737266, 0.003171684916983103, 0.003175573933129953))</td></tr><tr><td>59</td><td>B004N5KULM</td><td>5</td><td>Awsome - Kids in neighborhood loved us!</td><td>Great product, nice combination of chocolates and perfect size!  The bags had plenty, and they were shipped promptly.  The kids in the neighborhood liked our candies!</td><td>positive</td><td>0.0</td><td>List(great, product,, nice, combination, of, chocolates, and, perfect, size!, , the, bags, had, plenty,, and, they, were, shipped, promptly., , the, kids, in, the, neighborhood, liked, our, candies!)</td><td>List(great, product,, nice, combination, chocolates, perfect, size!, , bags, plenty,, shipped, promptly., , kids, neighborhood, liked, candies!)</td><td>Map(vectorType -> sparse, length -> 140052, indices -> List(0, 5, 63, 114, 155, 263, 284, 321, 589, 909, 1625, 5080, 6241, 12716, 26290, 36502), values -> List(2.0, 1.0, 1.0, 1.0, 1.0, 1.0, 1.0, 1.0, 1.0, 1.0, 1.0, 1.0, 1.0, 1.0, 1.0, 1.0))</td><td>Map(vectorType -> dense, length -> 10, values -> List(0.004945186493506853, 0.004985238502044831, 0.004932268366668754, 0.004979562408511787, 0.0049331507124178615, 0.0049420157910921685, 0.9554467339374283, 0.004946860854188972, 0.004941439002172584, 0.004947543931967994))</td><td>Map(vectorType -> dense, length -> 11, values -> List(0.0, 0.004945186493506853, 0.004985238502044831, 0.004932268366668754, 0.004979562408511787, 0.0049331507124178615, 0.0049420157910921685, 0.9554467339374283, 0.004946860854188972, 0.004941439002172584, 0.004947543931967994))</td></tr></tbody></table></div>"
      ]
     },
     "metadata": {
      "application/vnd.databricks.v1+output": {
       "addedWidgets": {},
       "aggData": [],
       "aggError": "",
       "aggOverflow": false,
       "aggSchema": [],
       "aggSeriesLimitReached": false,
       "aggType": "",
       "arguments": {},
       "columnCustomDisplayInfos": {},
       "data": [
        [
         8,
         "B006K2ZZ7K",
         5,
         "Wonderful, tasty taffy",
         "This taffy is so good.  It is very soft and chewy.  The flavors are amazing.  I would definitely recommend you buying it.  Very satisfying!!",
         "positive",
         0.0,
         [
          "this",
          "taffy",
          "is",
          "so",
          "good.",
          "",
          "it",
          "is",
          "very",
          "soft",
          "and",
          "chewy.",
          "",
          "the",
          "flavors",
          "are",
          "amazing.",
          "",
          "i",
          "would",
          "definitely",
          "recommend",
          "you",
          "buying",
          "it.",
          "",
          "very",
          "satisfying!!"
         ],
         [
          "taffy",
          "good.",
          "",
          "soft",
          "chewy.",
          "",
          "flavors",
          "amazing.",
          "",
          "definitely",
          "recommend",
          "buying",
          "it.",
          "",
          "satisfying!!"
         ],
         {
          "indices": [
           0,
           18,
           55,
           98,
           100,
           135,
           138,
           366,
           1189,
           3358,
           5704,
           122795
          ],
          "length": 140052,
          "values": [
           4.0,
           1.0,
           1.0,
           1.0,
           1.0,
           1.0,
           1.0,
           1.0,
           1.0,
           1.0,
           1.0,
           1.0
          ],
          "vectorType": "sparse"
         },
         {
          "length": 10,
          "values": [
           0.005566218170119425,
           0.005611343533239611,
           0.005551693192480247,
           0.0056048831503632025,
           0.005552638951381288,
           0.005562603179898767,
           0.9498516681333362,
           0.005568093404497909,
           0.005562015428270905,
           0.005568842856412426
          ],
          "vectorType": "dense"
         },
         {
          "length": 11,
          "values": [
           0.0,
           0.005566218170119425,
           0.005611343533239611,
           0.005551693192480247,
           0.0056048831503632025,
           0.005552638951381288,
           0.005562603179898767,
           0.9498516681333362,
           0.005568093404497909,
           0.005562015428270905,
           0.005568842856412426
          ],
          "vectorType": "dense"
         }
        ],
        [
         13,
         "B0009XLVG0",
         1,
         "My Cats Are Not Fans of the New Food",
         "My cats have been happily eating Felidae Platinum for more than two years. I just got a new bag and the shape of the food is different. They tried the new food when I first put it in their bowls and now the bowls sit full and the kitties will not touch the food. I've noticed similar reviews related to formula changes in the past. Unfortunately, I now need to find a new food that my cats will eat.",
         "negative",
         1.0,
         [
          "my",
          "cats",
          "have",
          "been",
          "happily",
          "eating",
          "felidae",
          "platinum",
          "for",
          "more",
          "than",
          "two",
          "years.",
          "i",
          "just",
          "got",
          "a",
          "new",
          "bag",
          "and",
          "the",
          "shape",
          "of",
          "the",
          "food",
          "is",
          "different.",
          "they",
          "tried",
          "the",
          "new",
          "food",
          "when",
          "i",
          "first",
          "put",
          "it",
          "in",
          "their",
          "bowls",
          "and",
          "now",
          "the",
          "bowls",
          "sit",
          "full",
          "and",
          "the",
          "kitties",
          "will",
          "not",
          "touch",
          "the",
          "food.",
          "i've",
          "noticed",
          "similar",
          "reviews",
          "related",
          "to",
          "formula",
          "changes",
          "in",
          "the",
          "past.",
          "unfortunately,",
          "i",
          "now",
          "need",
          "to",
          "find",
          "a",
          "new",
          "food",
          "that",
          "my",
          "cats",
          "will",
          "eat."
         ],
         [
          "cats",
          "happily",
          "eating",
          "felidae",
          "platinum",
          "two",
          "years.",
          "got",
          "new",
          "bag",
          "shape",
          "food",
          "different.",
          "tried",
          "new",
          "food",
          "first",
          "put",
          "bowls",
          "bowls",
          "sit",
          "full",
          "kitties",
          "touch",
          "food.",
          "noticed",
          "similar",
          "reviews",
          "related",
          "formula",
          "changes",
          "past.",
          "unfortunately,",
          "need",
          "find",
          "new",
          "food",
          "cats",
          "eat."
         ],
         {
          "indices": [
           14,
           23,
           24,
           33,
           42,
           50,
           54,
           83,
           89,
           107,
           136,
           168,
           188,
           202,
           277,
           429,
           432,
           549,
           568,
           787,
           886,
           1043,
           1066,
           1611,
           1913,
           2623,
           2636,
           2697,
           2759,
           2922,
           4280,
           10000,
           15228
          ],
          "length": 140052,
          "values": [
           3.0,
           1.0,
           1.0,
           1.0,
           1.0,
           1.0,
           1.0,
           1.0,
           1.0,
           1.0,
           3.0,
           2.0,
           1.0,
           1.0,
           1.0,
           1.0,
           1.0,
           1.0,
           1.0,
           1.0,
           1.0,
           1.0,
           1.0,
           1.0,
           1.0,
           2.0,
           1.0,
           1.0,
           1.0,
           1.0,
           1.0,
           1.0,
           1.0
          ],
          "vectorType": "sparse"
         },
         {
          "length": 10,
          "values": [
           0.002220026979203955,
           0.0022380010864382818,
           0.002214219590192951,
           0.0022354236094553376,
           0.0022146039780849835,
           0.0022185836542123736,
           0.979998963139558,
           0.0022207640924727223,
           0.002218339916477742,
           0.0022210739539034424
          ],
          "vectorType": "dense"
         },
         {
          "length": 11,
          "values": [
           1.0,
           0.002220026979203955,
           0.0022380010864382818,
           0.002214219590192951,
           0.0022354236094553376,
           0.0022146039780849835,
           0.0022185836542123736,
           0.979998963139558,
           0.0022207640924727223,
           0.002218339916477742,
           0.0022210739539034424
          ],
          "vectorType": "dense"
         }
        ],
        [
         27,
         "B001GVISJM",
         1,
         "Nasty No flavor",
         "The candy is just red , No flavor . Just  plan and chewy .  I would never buy them again",
         "negative",
         1.0,
         [
          "the",
          "candy",
          "is",
          "just",
          "red",
          ",",
          "no",
          "flavor",
          ".",
          "just",
          "",
          "plan",
          "and",
          "chewy",
          ".",
          "",
          "i",
          "would",
          "never",
          "buy",
          "them",
          "again"
         ],
         [
          "candy",
          "red",
          ",",
          "flavor",
          ".",
          "",
          "plan",
          "chewy",
          ".",
          "",
          "never",
          "buy"
         ],
         {
          "indices": [
           0,
           13,
           22,
           57,
           292,
           334,
           517,
           768,
           842,
           870
          ],
          "length": 140052,
          "values": [
           2.0,
           1.0,
           1.0,
           1.0,
           1.0,
           1.0,
           2.0,
           1.0,
           1.0,
           1.0
          ],
          "vectorType": "sparse"
         },
         {
          "length": 10,
          "values": [
           0.006858290025990384,
           0.0069138692165904665,
           0.0068403567091160945,
           0.006905932830447659,
           0.006841559290535272,
           0.006853831148008518,
           0.9382109693193177,
           0.0068605579394475065,
           0.006853113488650832,
           0.006861520031895483
          ],
          "vectorType": "dense"
         },
         {
          "length": 11,
          "values": [
           1.0,
           0.006858290025990384,
           0.0069138692165904665,
           0.0068403567091160945,
           0.006905932830447659,
           0.006841559290535272,
           0.006853831148008518,
           0.9382109693193177,
           0.0068605579394475065,
           0.006853113488650832,
           0.006861520031895483
          ],
          "vectorType": "dense"
         }
        ],
        [
         32,
         "B003F6UO7K",
         5,
         "THIS IS MY TASTE...",
         "This offer is a great price and a great taste, thanks Amazon for selling this product.<br /><br />Staral",
         "positive",
         0.0,
         [
          "this",
          "offer",
          "is",
          "a",
          "great",
          "price",
          "and",
          "a",
          "great",
          "taste,",
          "thanks",
          "amazon",
          "for",
          "selling",
          "this",
          "product.<br",
          "/><br",
          "/>staral"
         ],
         [
          "offer",
          "great",
          "price",
          "great",
          "taste,",
          "thanks",
          "amazon",
          "selling",
          "product.<br",
          "/><br",
          "/>staral"
         ],
         {
          "indices": [
           1,
           5,
           35,
           37,
           302,
           583,
           1012,
           1122,
           1634,
           138647
          ],
          "length": 140052,
          "values": [
           1.0,
           2.0,
           1.0,
           1.0,
           1.0,
           1.0,
           1.0,
           1.0,
           1.0,
           1.0
          ],
          "vectorType": "sparse"
         },
         {
          "length": 10,
          "values": [
           0.0074338296269999046,
           0.00749414045135798,
           0.007414430459873014,
           0.007485638382866978,
           0.007415810626918955,
           0.007429081812077447,
           0.9330250699241449,
           0.0074363990962649715,
           0.007428129143152479,
           0.007437470476343399
          ],
          "vectorType": "dense"
         },
         {
          "length": 11,
          "values": [
           0.0,
           0.0074338296269999046,
           0.00749414045135798,
           0.007414430459873014,
           0.007485638382866978,
           0.007415810626918955,
           0.007429081812077447,
           0.9330250699241449,
           0.0074363990962649715,
           0.007428129143152479,
           0.007437470476343399
          ],
          "vectorType": "dense"
         }
        ],
        [
         37,
         "B001EO5QW8",
         5,
         "Love Gluten Free Oatmeal!!!",
         "For those of us with celiac disease this product is a lifesaver and what could be better than getting it at almost half the price of the grocery or health food store!  I love McCann's instant oatmeal - all flavors!!!<br /><br />Thanks,<br />Abby",
         "neutral",
         2.0,
         [
          "for",
          "those",
          "of",
          "us",
          "with",
          "celiac",
          "disease",
          "this",
          "product",
          "is",
          "a",
          "lifesaver",
          "and",
          "what",
          "could",
          "be",
          "better",
          "than",
          "getting",
          "it",
          "at",
          "almost",
          "half",
          "the",
          "price",
          "of",
          "the",
          "grocery",
          "or",
          "health",
          "food",
          "store!",
          "",
          "i",
          "love",
          "mccann's",
          "instant",
          "oatmeal",
          "-",
          "all",
          "flavors!!!<br",
          "/><br",
          "/>thanks,<br",
          "/>abby"
         ],
         [
          "us",
          "celiac",
          "disease",
          "product",
          "lifesaver",
          "better",
          "getting",
          "almost",
          "half",
          "price",
          "grocery",
          "health",
          "food",
          "store!",
          "",
          "love",
          "mccann's",
          "instant",
          "oatmeal",
          "-",
          "flavors!!!<br",
          "/><br",
          "/>thanks,<br",
          "/>abby"
         ],
         {
          "indices": [
           0,
           1,
           7,
           10,
           14,
           19,
           32,
           37,
           137,
           176,
           178,
           187,
           248,
           273,
           561,
           587,
           2263,
           3006,
           5591,
           6060,
           9266,
           15633,
           93156,
           102746
          ],
          "length": 140052,
          "values": [
           1.0,
           1.0,
           1.0,
           1.0,
           1.0,
           1.0,
           1.0,
           1.0,
           1.0,
           1.0,
           1.0,
           1.0,
           1.0,
           1.0,
           1.0,
           1.0,
           1.0,
           1.0,
           1.0,
           1.0,
           1.0,
           1.0,
           1.0,
           1.0
          ],
          "vectorType": "sparse"
         },
         {
          "length": 10,
          "values": [
           0.0035563278478382998,
           0.0035851788658388885,
           0.0035470609172359017,
           0.00358105645855103,
           0.0035476530324701347,
           0.003554050511791025,
           0.967959491323229,
           0.003557536315526835,
           0.003553652390020925,
           0.003557992337497972
          ],
          "vectorType": "dense"
         },
         {
          "length": 11,
          "values": [
           2.0,
           0.0035563278478382998,
           0.0035851788658388885,
           0.0035470609172359017,
           0.00358105645855103,
           0.0035476530324701347,
           0.003554050511791025,
           0.967959491323229,
           0.003557536315526835,
           0.003553652390020925,
           0.003557992337497972
          ],
          "vectorType": "dense"
         }
        ],
        [
         39,
         "B001EO5QW8",
         4,
         "GOOD WAY TO START THE DAY....",
         "I WAS VISITING MY FRIEND NATE THE OTHER MORNING FOR COFFEE , HE CAME OUT OF HIS STORAGE ROOM WITH ( A PACKET OF McCANNS INSTANT IRISH OATMEAL .) HE SUGGESTED THAT I TRY IT FOR MY OWN USE ,IN MY STASH . SOMETIMES NATE DOSE NOT GIVE YOU A CHANCE TO SAY NO , SO I ENDED UP TRYING THE APPLE AND CINN . FOUND IT TO BE VERY TASTEFULL WHEN MADE WITH WATER OR POWDERED MILK . IT GOES GOOD WITH O.J. AND COFFEE AND A SLICE OF TOAST AND YOUR READY TO TAKE ON THE WORLD...OR THE DAY AT LEAST..  JERRY REITH...",
         "positive",
         0.0,
         [
          "i",
          "was",
          "visiting",
          "my",
          "friend",
          "nate",
          "the",
          "other",
          "morning",
          "for",
          "coffee",
          ",",
          "he",
          "came",
          "out",
          "of",
          "his",
          "storage",
          "room",
          "with",
          "(",
          "a",
          "packet",
          "of",
          "mccanns",
          "instant",
          "irish",
          "oatmeal",
          ".)",
          "he",
          "suggested",
          "that",
          "i",
          "try",
          "it",
          "for",
          "my",
          "own",
          "use",
          ",in",
          "my",
          "stash",
          ".",
          "sometimes",
          "nate",
          "dose",
          "not",
          "give",
          "you",
          "a",
          "chance",
          "to",
          "say",
          "no",
          ",",
          "so",
          "i",
          "ended",
          "up",
          "trying",
          "the",
          "apple",
          "and",
          "cinn",
          ".",
          "found",
          "it",
          "to",
          "be",
          "very",
          "tastefull",
          "when",
          "made",
          "with",
          "water",
          "or",
          "powdered",
          "milk",
          ".",
          "it",
          "goes",
          "good",
          "with",
          "o.j.",
          "and",
          "coffee",
          "and",
          "a",
          "slice",
          "of",
          "toast",
          "and",
          "your",
          "ready",
          "to",
          "take",
          "on",
          "the",
          "world...or",
          "the",
          "day",
          "at",
          "least..",
          "",
          "jerry",
          "reith..."
         ],
         [
          "visiting",
          "friend",
          "nate",
          "morning",
          "coffee",
          ",",
          "came",
          "storage",
          "room",
          "(",
          "packet",
          "mccanns",
          "instant",
          "irish",
          "oatmeal",
          ".)",
          "suggested",
          "try",
          "use",
          ",in",
          "stash",
          ".",
          "sometimes",
          "nate",
          "dose",
          "give",
          "chance",
          "say",
          ",",
          "ended",
          "trying",
          "apple",
          "cinn",
          ".",
          "found",
          "tastefull",
          "made",
          "water",
          "powdered",
          "milk",
          ".",
          "goes",
          "good",
          "o.j.",
          "coffee",
          "slice",
          "toast",
          "ready",
          "take",
          "world...or",
          "day",
          "least..",
          "",
          "jerry",
          "reith..."
         ],
         {
          "indices": [
           0,
           4,
           8,
           17,
           29,
           36,
           40,
           48,
           51,
           90,
           118,
           129,
           145,
           162,
           173,
           285,
           350,
           373,
           517,
           552,
           561,
           585,
           587,
           685,
           780,
           839,
           870,
           940,
           1039,
           1153,
           1231,
           1442,
           1792,
           2020,
           2406,
           2506,
           2733,
           2858,
           3346,
           26236,
           31675,
           38276,
           38755,
           40748,
           45057,
           47885,
           63347,
           92585,
           122990,
           138066
          ],
          "length": 140052,
          "values": [
           1.0,
           1.0,
           2.0,
           1.0,
           1.0,
           1.0,
           1.0,
           1.0,
           1.0,
           1.0,
           1.0,
           1.0,
           1.0,
           1.0,
           1.0,
           1.0,
           1.0,
           1.0,
           3.0,
           1.0,
           1.0,
           1.0,
           1.0,
           1.0,
           1.0,
           1.0,
           2.0,
           1.0,
           1.0,
           1.0,
           1.0,
           1.0,
           1.0,
           1.0,
           1.0,
           1.0,
           1.0,
           1.0,
           1.0,
           1.0,
           1.0,
           1.0,
           1.0,
           1.0,
           1.0,
           2.0,
           1.0,
           1.0,
           1.0,
           1.0
          ],
          "vectorType": "sparse"
         },
         {
          "length": 10,
          "values": [
           0.0015849085647570945,
           0.0015977358711001019,
           0.0015807608786107157,
           0.0015958958755557457,
           0.0015810419767963986,
           0.0015838714709439814,
           0.9857208736250537,
           0.00158542262426886,
           0.0015838419286062818,
           0.0015856471843070643
          ],
          "vectorType": "dense"
         },
         {
          "length": 11,
          "values": [
           0.0,
           0.0015849085647570945,
           0.0015977358711001019,
           0.0015807608786107157,
           0.0015958958755557457,
           0.0015810419767963986,
           0.0015838714709439814,
           0.9857208736250537,
           0.00158542262426886,
           0.0015838419286062818,
           0.0015856471843070643
          ],
          "vectorType": "dense"
         }
        ],
        [
         41,
         "B001EO5QW8",
         5,
         "Why wouldn't you buy oatmeal from Mcanns? Tastes great!",
         "The variety packs taste great!<br /><br />I have them every morning. At $0.30 cents per meal, I don't understand why everyone on earth isn't buying this stuff up.<br /><br />Maple and brown sugar is terrific, followed by apples and cinnamon, followed by regular. You don't get tired of the same ole thing, and they taste great.<br /><br />I just boil water from a small pot, empty the packet or 2 in a bowl, pour in boiling water, and watch it expand to 2x its size!<br /><br />Taste really good and takes minutes to prepare.<br /><br />Not sure why everyone on earth isn't this. Convenient, healthy, very quick, excellent quality, and extremely cheap...",
         "negative",
         1.0,
         [
          "the",
          "variety",
          "packs",
          "taste",
          "great!<br",
          "/><br",
          "/>i",
          "have",
          "them",
          "every",
          "morning.",
          "at",
          "$0.30",
          "cents",
          "per",
          "meal,",
          "i",
          "don't",
          "understand",
          "why",
          "everyone",
          "on",
          "earth",
          "isn't",
          "buying",
          "this",
          "stuff",
          "up.<br",
          "/><br",
          "/>maple",
          "and",
          "brown",
          "sugar",
          "is",
          "terrific,",
          "followed",
          "by",
          "apples",
          "and",
          "cinnamon,",
          "followed",
          "by",
          "regular.",
          "you",
          "don't",
          "get",
          "tired",
          "of",
          "the",
          "same",
          "ole",
          "thing,",
          "and",
          "they",
          "taste",
          "great.<br",
          "/><br",
          "/>i",
          "just",
          "boil",
          "water",
          "from",
          "a",
          "small",
          "pot,",
          "empty",
          "the",
          "packet",
          "or",
          "2",
          "in",
          "a",
          "bowl,",
          "pour",
          "in",
          "boiling",
          "water,",
          "and",
          "watch",
          "it",
          "expand",
          "to",
          "2x",
          "its",
          "size!<br",
          "/><br",
          "/>taste",
          "really",
          "good",
          "and",
          "takes",
          "minutes",
          "to",
          "prepare.<br",
          "/><br",
          "/>not",
          "sure",
          "why",
          "everyone",
          "on",
          "earth",
          "isn't",
          "this.",
          "convenient,",
          "healthy,",
          "very",
          "quick,",
          "excellent",
          "quality,",
          "and",
          "extremely",
          "cheap..."
         ],
         [
          "variety",
          "packs",
          "taste",
          "great!<br",
          "/><br",
          "/>i",
          "every",
          "morning.",
          "$0.30",
          "cents",
          "per",
          "meal,",
          "understand",
          "everyone",
          "earth",
          "buying",
          "stuff",
          "up.<br",
          "/><br",
          "/>maple",
          "brown",
          "sugar",
          "terrific,",
          "followed",
          "apples",
          "cinnamon,",
          "followed",
          "regular.",
          "get",
          "tired",
          "ole",
          "thing,",
          "taste",
          "great.<br",
          "/><br",
          "/>i",
          "boil",
          "water",
          "small",
          "pot,",
          "empty",
          "packet",
          "2",
          "bowl,",
          "pour",
          "boiling",
          "water,",
          "watch",
          "expand",
          "2x",
          "size!<br",
          "/><br",
          "/>taste",
          "really",
          "good",
          "takes",
          "minutes",
          "prepare.<br",
          "/><br",
          "/>not",
          "sure",
          "everyone",
          "earth",
          "this.",
          "convenient,",
          "healthy,",
          "quick,",
          "excellent",
          "quality,",
          "extremely",
          "cheap..."
         ],
         {
          "indices": [
           1,
           4,
           6,
           9,
           12,
           31,
           51,
           60,
           70,
           77,
           87,
           100,
           101,
           140,
           147,
           207,
           274,
           324,
           388,
           421,
           430,
           449,
           485,
           491,
           629,
           685,
           803,
           997,
           1068,
           1101,
           1132,
           1158,
           1408,
           1446,
           1454,
           1470,
           1650,
           1770,
           1886,
           1907,
           2025,
           2294,
           2715,
           2938,
           3072,
           3101,
           3260,
           3381,
           3394,
           3740,
           5342,
           6052,
           7000,
           7042,
           8743,
           9319,
           10624,
           26696,
           30567,
           32062,
           38104,
           137414
          ],
          "length": 140052,
          "values": [
           5.0,
           1.0,
           2.0,
           1.0,
           1.0,
           2.0,
           1.0,
           1.0,
           1.0,
           1.0,
           1.0,
           1.0,
           1.0,
           1.0,
           1.0,
           1.0,
           1.0,
           1.0,
           2.0,
           1.0,
           1.0,
           1.0,
           1.0,
           1.0,
           1.0,
           1.0,
           1.0,
           1.0,
           1.0,
           1.0,
           1.0,
           1.0,
           1.0,
           1.0,
           2.0,
           1.0,
           1.0,
           1.0,
           1.0,
           1.0,
           1.0,
           1.0,
           1.0,
           1.0,
           1.0,
           2.0,
           1.0,
           1.0,
           1.0,
           1.0,
           1.0,
           1.0,
           1.0,
           1.0,
           1.0,
           1.0,
           1.0,
           1.0,
           1.0,
           1.0,
           1.0,
           1.0
          ],
          "vectorType": "sparse"
         },
         {
          "length": 10,
          "values": [
           0.0012323266644889514,
           0.001242313804396048,
           0.001229106498273743,
           0.0012408743783171655,
           0.0012293147605256342,
           0.0012315201666468047,
           0.9888975103138901,
           0.0012327300933465007,
           0.0012313958597548677,
           0.0012329074603604385
          ],
          "vectorType": "dense"
         },
         {
          "length": 11,
          "values": [
           1.0,
           0.0012323266644889514,
           0.001242313804396048,
           0.001229106498273743,
           0.0012408743783171655,
           0.0012293147605256342,
           0.0012315201666468047,
           0.9888975103138901,
           0.0012327300933465007,
           0.0012313958597548677,
           0.0012329074603604385
          ],
          "vectorType": "dense"
         }
        ],
        [
         43,
         "B001EO5QW8",
         5,
         "Food-Great",
         "I have McCann's Oatmeal every morning and by ordering it from Amazon I am able to save almost $3.00 per box.<br />It is a great product. Tastes great and very healthy",
         "positive",
         0.0,
         [
          "i",
          "have",
          "mccann's",
          "oatmeal",
          "every",
          "morning",
          "and",
          "by",
          "ordering",
          "it",
          "from",
          "amazon",
          "i",
          "am",
          "able",
          "to",
          "save",
          "almost",
          "$3.00",
          "per",
          "box.<br",
          "/>it",
          "is",
          "a",
          "great",
          "product.",
          "tastes",
          "great",
          "and",
          "very",
          "healthy"
         ],
         [
          "mccann's",
          "oatmeal",
          "every",
          "morning",
          "ordering",
          "amazon",
          "able",
          "save",
          "almost",
          "$3.00",
          "per",
          "box.<br",
          "/>it",
          "great",
          "product.",
          "tastes",
          "great",
          "healthy"
         ],
         {
          "indices": [
           5,
           35,
           43,
           60,
           105,
           124,
           137,
           147,
           206,
           285,
           299,
           308,
           523,
           561,
           4192,
           6060,
           10860
          ],
          "length": 140052,
          "values": [
           2.0,
           1.0,
           1.0,
           1.0,
           1.0,
           1.0,
           1.0,
           1.0,
           1.0,
           1.0,
           1.0,
           1.0,
           1.0,
           1.0,
           1.0,
           1.0,
           1.0
          ],
          "vectorType": "sparse"
         },
         {
          "length": 10,
          "values": [
           0.004683735133434455,
           0.004721674262558895,
           0.004671509595059264,
           0.004716266161473063,
           0.004672288456731633,
           0.004680675424606294,
           0.9578024710712074,
           0.004685273996681718,
           0.0046801780384107435,
           0.0046859278598365365
          ],
          "vectorType": "dense"
         },
         {
          "length": 11,
          "values": [
           0.0,
           0.004683735133434455,
           0.004721674262558895,
           0.004671509595059264,
           0.004716266161473063,
           0.004672288456731633,
           0.004680675424606294,
           0.9578024710712074,
           0.004685273996681718,
           0.0046801780384107435,
           0.0046859278598365365
          ],
          "vectorType": "dense"
         }
        ],
        [
         47,
         "B001EO5QW8",
         5,
         "good",
         "Good oatmeal.  I like the apple cinnamon the best.  Though I wouldn't follow the directions on the package since it always comes out too soupy for my taste.  That could just be me since I like my oatmeal really thick to add some milk on top of.",
         "positive",
         0.0,
         [
          "good",
          "oatmeal.",
          "",
          "i",
          "like",
          "the",
          "apple",
          "cinnamon",
          "the",
          "best.",
          "",
          "though",
          "i",
          "wouldn't",
          "follow",
          "the",
          "directions",
          "on",
          "the",
          "package",
          "since",
          "it",
          "always",
          "comes",
          "out",
          "too",
          "soupy",
          "for",
          "my",
          "taste.",
          "",
          "that",
          "could",
          "just",
          "be",
          "me",
          "since",
          "i",
          "like",
          "my",
          "oatmeal",
          "really",
          "thick",
          "to",
          "add",
          "some",
          "milk",
          "on",
          "top",
          "of."
         ],
         [
          "good",
          "oatmeal.",
          "",
          "like",
          "apple",
          "cinnamon",
          "best.",
          "",
          "though",
          "follow",
          "directions",
          "package",
          "since",
          "always",
          "comes",
          "soupy",
          "taste.",
          "",
          "since",
          "like",
          "oatmeal",
          "really",
          "thick",
          "add",
          "milk",
          "top",
          "of."
         ],
         {
          "indices": [
           0,
           2,
           4,
           12,
           47,
           66,
           67,
           145,
           150,
           193,
           212,
           215,
           279,
           418,
           552,
           561,
           628,
           757,
           1128,
           1714,
           2635,
           2987,
           14865
          ],
          "length": 140052,
          "values": [
           3.0,
           2.0,
           1.0,
           1.0,
           2.0,
           1.0,
           1.0,
           1.0,
           1.0,
           1.0,
           1.0,
           1.0,
           1.0,
           1.0,
           1.0,
           1.0,
           1.0,
           1.0,
           1.0,
           1.0,
           1.0,
           1.0,
           1.0
          ],
          "vectorType": "sparse"
         },
         {
          "length": 10,
          "values": [
           0.003174084684202073,
           0.0031997923519918895,
           0.003165779565866592,
           0.003196107262509054,
           0.0031663327387300507,
           0.0031720112703257364,
           0.9714035033625242,
           0.003175129913737266,
           0.003171684916983103,
           0.003175573933129953
          ],
          "vectorType": "dense"
         },
         {
          "length": 11,
          "values": [
           0.0,
           0.003174084684202073,
           0.0031997923519918895,
           0.003165779565866592,
           0.003196107262509054,
           0.0031663327387300507,
           0.0031720112703257364,
           0.9714035033625242,
           0.003175129913737266,
           0.003171684916983103,
           0.003175573933129953
          ],
          "vectorType": "dense"
         }
        ],
        [
         59,
         "B004N5KULM",
         5,
         "Awsome - Kids in neighborhood loved us!",
         "Great product, nice combination of chocolates and perfect size!  The bags had plenty, and they were shipped promptly.  The kids in the neighborhood liked our candies!",
         "positive",
         0.0,
         [
          "great",
          "product,",
          "nice",
          "combination",
          "of",
          "chocolates",
          "and",
          "perfect",
          "size!",
          "",
          "the",
          "bags",
          "had",
          "plenty,",
          "and",
          "they",
          "were",
          "shipped",
          "promptly.",
          "",
          "the",
          "kids",
          "in",
          "the",
          "neighborhood",
          "liked",
          "our",
          "candies!"
         ],
         [
          "great",
          "product,",
          "nice",
          "combination",
          "chocolates",
          "perfect",
          "size!",
          "",
          "bags",
          "plenty,",
          "shipped",
          "promptly.",
          "",
          "kids",
          "neighborhood",
          "liked",
          "candies!"
         ],
         {
          "indices": [
           0,
           5,
           63,
           114,
           155,
           263,
           284,
           321,
           589,
           909,
           1625,
           5080,
           6241,
           12716,
           26290,
           36502
          ],
          "length": 140052,
          "values": [
           2.0,
           1.0,
           1.0,
           1.0,
           1.0,
           1.0,
           1.0,
           1.0,
           1.0,
           1.0,
           1.0,
           1.0,
           1.0,
           1.0,
           1.0,
           1.0
          ],
          "vectorType": "sparse"
         },
         {
          "length": 10,
          "values": [
           0.004945186493506853,
           0.004985238502044831,
           0.004932268366668754,
           0.004979562408511787,
           0.0049331507124178615,
           0.0049420157910921685,
           0.9554467339374283,
           0.004946860854188972,
           0.004941439002172584,
           0.004947543931967994
          ],
          "vectorType": "dense"
         },
         {
          "length": 11,
          "values": [
           0.0,
           0.004945186493506853,
           0.004985238502044831,
           0.004932268366668754,
           0.004979562408511787,
           0.0049331507124178615,
           0.0049420157910921685,
           0.9554467339374283,
           0.004946860854188972,
           0.004941439002172584,
           0.004947543931967994
          ],
          "vectorType": "dense"
         }
        ]
       ],
       "datasetInfos": [],
       "dbfsResultPath": null,
       "isJsonSchema": true,
       "metadata": {},
       "overflow": false,
       "plotOptions": {
        "customPlotOptions": {},
        "displayType": "table",
        "pivotAggregation": null,
        "pivotColumns": null,
        "xColumns": null,
        "yColumns": null
       },
       "removedWidgets": [],
       "schema": [
        {
         "metadata": "{}",
         "name": "Id",
         "type": "\"integer\""
        },
        {
         "metadata": "{}",
         "name": "ProductId",
         "type": "\"string\""
        },
        {
         "metadata": "{}",
         "name": "Score",
         "type": "\"integer\""
        },
        {
         "metadata": "{}",
         "name": "Summary",
         "type": "\"string\""
        },
        {
         "metadata": "{}",
         "name": "Text",
         "type": "\"string\""
        },
        {
         "metadata": "{}",
         "name": "sentiment_result2",
         "type": "\"string\""
        },
        {
         "metadata": "{\"ml_attr\":{\"vals\":[\"positive\",\"negative\",\"neutral\"],\"type\":\"nominal\",\"name\":\"sent_label\"}}",
         "name": "sent_label",
         "type": "\"double\""
        },
        {
         "metadata": "{}",
         "name": "token_text",
         "type": "{\"type\":\"array\",\"elementType\":\"string\",\"containsNull\":true}"
        },
        {
         "metadata": "{}",
         "name": "stop_tokens",
         "type": "{\"type\":\"array\",\"elementType\":\"string\",\"containsNull\":true}"
        },
        {
         "metadata": "{\"ml_attr\":{\"attrs\":{},\"num_attrs\":140052}}",
         "name": "c_vec",
         "type": "{\"type\":\"udt\",\"class\":\"org.apache.spark.ml.linalg.VectorUDT\",\"pyClass\":\"pyspark.ml.linalg.VectorUDT\",\"sqlType\":{\"type\":\"struct\",\"fields\":[{\"name\":\"type\",\"type\":\"byte\",\"nullable\":false,\"metadata\":{}},{\"name\":\"size\",\"type\":\"integer\",\"nullable\":true,\"metadata\":{}},{\"name\":\"indices\",\"type\":{\"type\":\"array\",\"elementType\":\"integer\",\"containsNull\":false},\"nullable\":true,\"metadata\":{}},{\"name\":\"values\",\"type\":{\"type\":\"array\",\"elementType\":\"double\",\"containsNull\":false},\"nullable\":true,\"metadata\":{}}]}}"
        },
        {
         "metadata": "{\"ml_attr\":{\"num_attrs\":10}}",
         "name": "topicDistribution",
         "type": "{\"type\":\"udt\",\"class\":\"org.apache.spark.ml.linalg.VectorUDT\",\"pyClass\":\"pyspark.ml.linalg.VectorUDT\",\"sqlType\":{\"type\":\"struct\",\"fields\":[{\"name\":\"type\",\"type\":\"byte\",\"nullable\":false,\"metadata\":{}},{\"name\":\"size\",\"type\":\"integer\",\"nullable\":true,\"metadata\":{}},{\"name\":\"indices\",\"type\":{\"type\":\"array\",\"elementType\":\"integer\",\"containsNull\":false},\"nullable\":true,\"metadata\":{}},{\"name\":\"values\",\"type\":{\"type\":\"array\",\"elementType\":\"double\",\"containsNull\":false},\"nullable\":true,\"metadata\":{}}]}}"
        },
        {
         "metadata": "{\"ml_attr\":{\"attrs\":{\"numeric\":[{\"idx\":1,\"name\":\"topicDistribution_0\"},{\"idx\":2,\"name\":\"topicDistribution_1\"},{\"idx\":3,\"name\":\"topicDistribution_2\"},{\"idx\":4,\"name\":\"topicDistribution_3\"},{\"idx\":5,\"name\":\"topicDistribution_4\"},{\"idx\":6,\"name\":\"topicDistribution_5\"},{\"idx\":7,\"name\":\"topicDistribution_6\"},{\"idx\":8,\"name\":\"topicDistribution_7\"},{\"idx\":9,\"name\":\"topicDistribution_8\"},{\"idx\":10,\"name\":\"topicDistribution_9\"}],\"nominal\":[{\"vals\":[\"positive\",\"negative\",\"neutral\"],\"idx\":0,\"name\":\"sent_label\"}]},\"num_attrs\":11}}",
         "name": "features",
         "type": "{\"type\":\"udt\",\"class\":\"org.apache.spark.ml.linalg.VectorUDT\",\"pyClass\":\"pyspark.ml.linalg.VectorUDT\",\"sqlType\":{\"type\":\"struct\",\"fields\":[{\"name\":\"type\",\"type\":\"byte\",\"nullable\":false,\"metadata\":{}},{\"name\":\"size\",\"type\":\"integer\",\"nullable\":true,\"metadata\":{}},{\"name\":\"indices\",\"type\":{\"type\":\"array\",\"elementType\":\"integer\",\"containsNull\":false},\"nullable\":true,\"metadata\":{}},{\"name\":\"values\",\"type\":{\"type\":\"array\",\"elementType\":\"double\",\"containsNull\":false},\"nullable\":true,\"metadata\":{}}]}}"
        }
       ],
       "type": "table"
      }
     },
     "output_type": "display_data"
    }
   ],
   "source": [
    "display(processed.limit(10))"
   ]
  },
  {
   "cell_type": "code",
   "execution_count": 0,
   "metadata": {
    "application/vnd.databricks.v1+cell": {
     "cellMetadata": {
      "byteLimit": 2048000,
      "rowLimit": 10000
     },
     "inputWidgets": {},
     "nuid": "8191a6c2-fbc9-4836-b2ef-3e6eeba964d8",
     "showTitle": false,
     "title": ""
    }
   },
   "outputs": [],
   "source": [
    "(training,testing) = processed.randomSplit([0.8,0.2], seed=100)"
   ]
  },
  {
   "cell_type": "code",
   "execution_count": 0,
   "metadata": {
    "application/vnd.databricks.v1+cell": {
     "cellMetadata": {
      "byteLimit": 2048000,
      "rowLimit": 10000
     },
     "inputWidgets": {},
     "nuid": "49a45b8e-8e19-46ed-ac10-628a4b6a0fdf",
     "showTitle": false,
     "title": ""
    }
   },
   "outputs": [],
   "source": [
    "from pyspark.ml.classification import RandomForestClassifier\n",
    "nb = RandomForestClassifier(numTrees=3, maxDepth=2, featuresCol='features', labelCol=\"Score\", seed=100)\n",
    "fitted = nb.fit(training)\n",
    "amazon_prediction = fitted.transform(testing)"
   ]
  },
  {
   "cell_type": "code",
   "execution_count": 0,
   "metadata": {
    "application/vnd.databricks.v1+cell": {
     "cellMetadata": {
      "byteLimit": 2048000,
      "rowLimit": 10000
     },
     "inputWidgets": {},
     "nuid": "e2495d02-8cc7-459d-b688-032a8a8a9830",
     "showTitle": false,
     "title": ""
    }
   },
   "outputs": [
    {
     "output_type": "stream",
     "name": "stdout",
     "output_type": "stream",
     "text": [
      "Accuracy of model at predicting user rating was: 0.6345581802274716\n"
     ]
    }
   ],
   "source": [
    "from pyspark.ml.evaluation import MulticlassClassificationEvaluator\n",
    "\n",
    "evaluator = MulticlassClassificationEvaluator(labelCol=\"Score\", predictionCol=\"prediction\", metricName=\"accuracy\")\n",
    "accuracy = evaluator.evaluate(amazon_prediction)\n",
    "print(\"Accuracy of model at predicting user rating was: {}\".format(accuracy))"
   ]
  }
 ],
 "metadata": {
  "application/vnd.databricks.v1+notebook": {
   "dashboards": [],
   "language": "python",
   "notebookMetadata": {
    "pythonIndentUnit": 2
   },
   "notebookName": "amazon_lda",
   "notebookOrigID": 1940993991134553,
   "widgets": {}
  }
 },
 "nbformat": 4,
 "nbformat_minor": 0
}
